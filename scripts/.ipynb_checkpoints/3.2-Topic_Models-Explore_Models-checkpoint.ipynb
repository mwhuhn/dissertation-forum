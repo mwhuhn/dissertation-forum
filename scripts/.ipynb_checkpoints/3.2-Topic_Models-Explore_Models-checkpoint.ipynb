{
 "cells": [
  {
   "cell_type": "markdown",
   "metadata": {},
   "source": [
    "# Explore Topic Models\n",
    "Explores the topic models of forum posts with LDA (Latent Dirichlet Allocation)\n",
    "\n",
    "## TODO\n",
    "- Tutorial\n",
    " - https://towardsdatascience.com/topic-modelling-in-python-with-nltk-and-gensim-4ef03213cd21\n",
    " - https://www.machinelearningplus.com/nlp/topic-modeling-gensim-python\n"
   ]
  },
  {
   "cell_type": "markdown",
   "metadata": {},
   "source": [
    "## Imports"
   ]
  },
  {
   "cell_type": "code",
   "execution_count": 1,
   "metadata": {},
   "outputs": [],
   "source": [
    "from gensim import corpora, models\n",
    "import pickle\n",
    "from pathlib import Path\n",
    "from io import FileIO\n",
    "import pyLDAvis.gensim\n",
    "from gensim.models import LdaModel, LdaMulticore\n",
    "from lemmatize import *\n",
    "from scraping import create_connection"
   ]
  },
  {
   "cell_type": "code",
   "execution_count": 2,
   "metadata": {},
   "outputs": [
    {
     "name": "stderr",
     "output_type": "stream",
     "text": [
      "/home/mwh/miniconda3/envs/forum/lib/python3.8/site-packages/ipykernel/ipkernel.py:287: DeprecationWarning: `should_run_async` will not call `transform_cell` automatically in the future. Please pass the result to `transformed_cell` argument and any exception that happen during thetransform in `preprocessing_exc_tuple` in IPython 7.17 and above.\n",
      "  and should_run_async(code)\n"
     ]
    }
   ],
   "source": [
    "import warnings\n",
    "warnings.filterwarnings(\"ignore\", category=DeprecationWarning)"
   ]
  },
  {
   "cell_type": "markdown",
   "metadata": {},
   "source": [
    "## Functions"
   ]
  },
  {
   "cell_type": "code",
   "execution_count": 3,
   "metadata": {},
   "outputs": [],
   "source": [
    "def load_data(forum=\"all\", group=\"all\", id_type=\"family_id\"):\n",
    "    lemmatized_text = pickle.load(open(path_lemma_pkl.format(forum, group, id_type), 'rb'))\n",
    "    corpus = pickle.load(open(path_corpus_pkl.format(forum, group, id_type), 'rb'))\n",
    "    dictionary = corpora.Dictionary.load(path_dictionary_gensim.format(forum, group, id_type))\n",
    "    return lemmatized_text, corpus, dictionary"
   ]
  },
  {
   "cell_type": "code",
   "execution_count": 4,
   "metadata": {},
   "outputs": [],
   "source": [
    "def gen_cols(n):\n",
    "    return [\"topic_{}\".format(str(i).zfill(2)) for i in range(n)]"
   ]
  },
  {
   "cell_type": "markdown",
   "metadata": {},
   "source": [
    "## File Locations"
   ]
  },
  {
   "cell_type": "code",
   "execution_count": 5,
   "metadata": {},
   "outputs": [],
   "source": [
    "p = Path.cwd()\n",
    "path_parent = p.parents[0]"
   ]
  },
  {
   "cell_type": "code",
   "execution_count": 6,
   "metadata": {},
   "outputs": [],
   "source": [
    "# database\n",
    "path_db = str(path_parent / \"database\" / \"youbemom-merged.db\")\n",
    "# data to load\n",
    "path_lemma_pkl = str(path_parent / \"clean_data\" / \"lemmatized_text_{0}_{1}_{2}.pkl\")\n",
    "path_corpus_pkl = str(path_parent / \"clean_data\" / \"corpus_{0}_{1}_{2}.pkl\")\n",
    "path_dictionary_gensim = str(path_parent / \"clean_data\" / \"dictionary_{0}_{1}_{2}.gensim\")\n",
    "# model saving\n",
    "path_tune_models = str(path_parent / \"clean_data\" / \"lda_tune_{0}_{1}_{2}_{3}_{4}.gensim\")\n",
    "path_ntopic_models = str(path_parent / \"clean_data\" / \"lda_ntopics_{0}_{1}_{2}_{3}.gensim\")\n",
    "# path_coherence = str(path_parent / \"clean_data\" / \"coherence_{}.csv\")\n",
    "path_log = str(path_parent / \"clean_data\" / \"logging_{0}_{1}_{2}_{3}.log\")\n",
    "path_log_iterations = str(path_parent / \"clean_data\" / \"logging_{0}_{1}_{2}_{3}.log\")\n",
    "# dominant topic\n",
    "path_dom_topic = str(path_parent / \"clean_data\" / \"dominant_topic_{0}_{1}_{2}_{3}.csv\")\n",
    "# clean text\n",
    "path_clean_text = str(path_parent / \"clean_data\" / \"clean_text_{0}_{1}.csv\")\n",
    "# topics\n",
    "path_topic_percents = str(path_parent / \"clean_data\" / \"topics_{0}_{1}_{2}.csv\")"
   ]
  },
  {
   "cell_type": "markdown",
   "metadata": {},
   "source": [
    "## Load Data"
   ]
  },
  {
   "cell_type": "code",
   "execution_count": 36,
   "metadata": {},
   "outputs": [],
   "source": [
    "args = {\n",
    "    'special-needs':{'n_passes':100, 'n_iterations':200, 'n_topics':[5, 10, 15, 20, 25, 30, 40, 50]},\n",
    "    'tween-teen':   {'n_passes':120, 'n_iterations':400, 'n_topics':[2, 3, 4, 5, 7, 10, 15, 20, 25, 30, 40, 50]},\n",
    "    'preschool':    {'n_passes':100, 'n_iterations':400, 'n_topics':[2, 3, 4, 5, 7, 10, 15, 20, 25, 30]},\n",
    "    'elementary':   {'n_passes':130, 'n_iterations':400, 'n_topics':[2, 3, 4, 5, 7, 10, 15, 20, 25, 30]},\n",
    "    'new-york-city':{'n_passes':150, 'n_iterations':400, 'n_topics':[2, 3, 4, 5, 7, 10, 15, 20, 25, 30, 40, 50]},\n",
    "    'school':       {'n_passes':200, 'n_iterations':400, 'n_topics':[2, 3, 4, 5, 7, 10, 15, 20, 25, 30, 40, 50]},\n",
    "    'toddler':      {'n_passes':35,  'n_iterations':200, 'n_topics':[5, 10, 15, 20, 25, 30, 40, 50]}\n",
    "}"
   ]
  },
  {
   "cell_type": "code",
   "execution_count": 37,
   "metadata": {},
   "outputs": [],
   "source": [
    "mod_dict = {}\n",
    "for i in args[sf][\"n_topics\"]:\n",
    "    mod_dict[str(i)] = LdaModel.load(path_ntopic_models.format(sf, group, id_type, str(i)))"
   ]
  },
  {
   "cell_type": "code",
   "execution_count": 9,
   "metadata": {
    "scrolled": true
   },
   "outputs": [],
   "source": [
    "sf = \"special-needs\"\n",
    "n = 20"
   ]
  },
  {
   "cell_type": "code",
   "execution_count": 10,
   "metadata": {},
   "outputs": [],
   "source": [
    "group = 'all'\n",
    "id_type = 'family_id'"
   ]
  },
  {
   "cell_type": "code",
   "execution_count": 11,
   "metadata": {},
   "outputs": [],
   "source": [
    "lemmatized_text, corpus, dictionary = load_data(sf, group, id_type)"
   ]
  },
  {
   "cell_type": "code",
   "execution_count": 12,
   "metadata": {},
   "outputs": [],
   "source": [
    "date_sql = '''\n",
    "    SELECT family_id, date_created\n",
    "    FROM posts\n",
    "    WHERE subforum=?\n",
    "    AND parent_id=\"\"\n",
    "'''"
   ]
  },
  {
   "cell_type": "code",
   "execution_count": 13,
   "metadata": {},
   "outputs": [],
   "source": [
    "sen_sql = '''\n",
    "    SELECT s.family_id, s.com_sen_clean\n",
    "    FROM sentiment_family AS s\n",
    "    INNER JOIN (SELECT DISTINCT family_id FROM posts WHERE subforum=?) AS p\n",
    "    ON s.family_id = p.family_id\n",
    "'''"
   ]
  },
  {
   "cell_type": "code",
   "execution_count": 14,
   "metadata": {},
   "outputs": [],
   "source": [
    "conn = create_connection(path_db)\n",
    "dates = pd.read_sql(date_sql, conn, params=(sf,))\n",
    "sen = pd.read_sql(sen_sql, conn, params=(sf,))"
   ]
  },
  {
   "cell_type": "code",
   "execution_count": 15,
   "metadata": {},
   "outputs": [],
   "source": [
    "clean_text = pd.read_csv(path_clean_text.format(sf, group))"
   ]
  },
  {
   "cell_type": "code",
   "execution_count": 16,
   "metadata": {},
   "outputs": [],
   "source": [
    "text = clean_text[['family_id','text_clean']].groupby(['family_id'])['text_clean'].apply(' '.join)\n",
    "text = text.to_frame()\n",
    "text.reset_index(inplace=True)"
   ]
  },
  {
   "cell_type": "code",
   "execution_count": 17,
   "metadata": {},
   "outputs": [],
   "source": [
    "text_merged = text.merge(dates, how=\"left\", on=\"family_id\")\n",
    "text_merged = text_merged.merge(sen, how=\"left\", on=\"family_id\")"
   ]
  },
  {
   "cell_type": "code",
   "execution_count": 19,
   "metadata": {},
   "outputs": [],
   "source": [
    "text_merged['date_created'] = pd.to_datetime(text_merged['date_created'])"
   ]
  },
  {
   "cell_type": "code",
   "execution_count": 20,
   "metadata": {
    "scrolled": true
   },
   "outputs": [
    {
     "data": {
      "text/html": [
       "<div>\n",
       "<style scoped>\n",
       "    .dataframe tbody tr th:only-of-type {\n",
       "        vertical-align: middle;\n",
       "    }\n",
       "\n",
       "    .dataframe tbody tr th {\n",
       "        vertical-align: top;\n",
       "    }\n",
       "\n",
       "    .dataframe thead th {\n",
       "        text-align: right;\n",
       "    }\n",
       "</style>\n",
       "<table border=\"1\" class=\"dataframe\">\n",
       "  <thead>\n",
       "    <tr style=\"text-align: right;\">\n",
       "      <th></th>\n",
       "      <th>family_id</th>\n",
       "      <th>text_clean</th>\n",
       "      <th>date_created</th>\n",
       "      <th>com_sen_clean</th>\n",
       "      <th>positive</th>\n",
       "      <th>negative</th>\n",
       "      <th>neutral</th>\n",
       "    </tr>\n",
       "  </thead>\n",
       "  <tbody>\n",
       "    <tr>\n",
       "      <th>0</th>\n",
       "      <td>173</td>\n",
       "      <td>son has mild sensory issuesany privates in man...</td>\n",
       "      <td>2018-02-18 20:04:00</td>\n",
       "      <td>0.9984</td>\n",
       "      <td>1</td>\n",
       "      <td>0</td>\n",
       "      <td>0</td>\n",
       "    </tr>\n",
       "    <tr>\n",
       "      <th>1</th>\n",
       "      <td>224</td>\n",
       "      <td>moms of older dc school question our dss behav...</td>\n",
       "      <td>2018-02-18 20:35:00</td>\n",
       "      <td>0.9972</td>\n",
       "      <td>1</td>\n",
       "      <td>0</td>\n",
       "      <td>0</td>\n",
       "    </tr>\n",
       "    <tr>\n",
       "      <th>2</th>\n",
       "      <td>358</td>\n",
       "      <td>the asd diagnostic criteria no longer fits my ...</td>\n",
       "      <td>2018-02-18 21:57:00</td>\n",
       "      <td>-0.7964</td>\n",
       "      <td>0</td>\n",
       "      <td>1</td>\n",
       "      <td>0</td>\n",
       "    </tr>\n",
       "    <tr>\n",
       "      <th>3</th>\n",
       "      <td>616</td>\n",
       "      <td>15 yo has very explosive behavior at home only...</td>\n",
       "      <td>2018-02-19 09:30:00</td>\n",
       "      <td>0.9958</td>\n",
       "      <td>1</td>\n",
       "      <td>0</td>\n",
       "      <td>0</td>\n",
       "    </tr>\n",
       "    <tr>\n",
       "      <th>4</th>\n",
       "      <td>914</td>\n",
       "      <td>random question but do you know of friends or ...</td>\n",
       "      <td>2018-02-19 13:37:00</td>\n",
       "      <td>0.9992</td>\n",
       "      <td>1</td>\n",
       "      <td>0</td>\n",
       "      <td>0</td>\n",
       "    </tr>\n",
       "  </tbody>\n",
       "</table>\n",
       "</div>"
      ],
      "text/plain": [
       "   family_id                                         text_clean  \\\n",
       "0        173  son has mild sensory issuesany privates in man...   \n",
       "1        224  moms of older dc school question our dss behav...   \n",
       "2        358  the asd diagnostic criteria no longer fits my ...   \n",
       "3        616  15 yo has very explosive behavior at home only...   \n",
       "4        914  random question but do you know of friends or ...   \n",
       "\n",
       "         date_created  com_sen_clean  positive  negative  neutral  \n",
       "0 2018-02-18 20:04:00         0.9984         1         0        0  \n",
       "1 2018-02-18 20:35:00         0.9972         1         0        0  \n",
       "2 2018-02-18 21:57:00        -0.7964         0         1        0  \n",
       "3 2018-02-19 09:30:00         0.9958         1         0        0  \n",
       "4 2018-02-19 13:37:00         0.9992         1         0        0  "
      ]
     },
     "execution_count": 20,
     "metadata": {},
     "output_type": "execute_result"
    }
   ],
   "source": [
    "positive = (text_merged['com_sen_clean'] >= 0.05)\n",
    "negative = (text_merged['com_sen_clean'] <= 0.05)\n",
    "neutral = ~positive & ~negative\n",
    "text_merged['positive'] = 0\n",
    "text_merged['negative'] = 0\n",
    "text_merged['neutral'] = 0\n",
    "text_merged.loc[positive, 'positive'] = 1\n",
    "text_merged.loc[negative, 'negative'] = 1\n",
    "text_merged.loc[neutral, 'neutral'] = 1\n",
    "text_merged = text_merged.set_index(['date_created'])"
   ]
  },
  {
   "cell_type": "code",
   "execution_count": 63,
   "metadata": {
    "scrolled": false
   },
   "outputs": [],
   "source": [
    "days = text_merged.groupby(pd.Grouper(freq='D')).agg(\n",
    "    {\n",
    "        'positive': 'sum',\n",
    "        'negative': 'sum',\n",
    "        'neutral': 'sum'\n",
    "    }\n",
    ")\n",
    "weeks = text_merged.groupby(pd.Grouper(freq='W')).agg(\n",
    "    {\n",
    "        'positive': 'sum',\n",
    "        'negative': 'sum',\n",
    "        'neutral': 'sum'\n",
    "    }\n",
    ")"
   ]
  },
  {
   "cell_type": "code",
   "execution_count": 33,
   "metadata": {
    "scrolled": true
   },
   "outputs": [
    {
     "data": {
      "image/png": "[encoded data removed]",
      "text/plain": [
       "<Figure size 432x288 with 1 Axes>"
      ]
     },
     "metadata": {
      "needs_background": "light"
     },
     "output_type": "display_data"
    }
   ],
   "source": [
    "import matplotlib.pyplot as plt\n",
    "%matplotlib inline\n",
    "\n",
    "fig, ax = plt.subplots()\n",
    "ax.plot(days.index, days['positive'], label='positive')\n",
    "ax.set_xlabel(\"Year\")\n",
    "ax.set_ylabel(\"Count\")\n",
    "ax.plot(days.index, days['negative'], label='negative')\n",
    "plt.title(\"Daily Count of Positive and Negative Posts\")\n",
    "plt.legend(loc=\"upper right\")\n",
    "plt.savefig(path_parent / \"plots\" / \"sentiment_daily_count_family.png\")"
   ]
  },
  {
   "cell_type": "code",
   "execution_count": 66,
   "metadata": {},
   "outputs": [
    {
     "data": {
      "image/png": "[encoded data removed]",
      "text/plain": [
       "<Figure size 432x288 with 1 Axes>"
      ]
     },
     "metadata": {
      "needs_background": "light"
     },
     "output_type": "display_data"
    }
   ],
   "source": [
    "%matplotlib inline\n",
    "\n",
    "fig, ax = plt.subplots()\n",
    "ax.plot(weeks.index, weeks['positive'], label='positive')\n",
    "ax.set_xlabel(\"Year\")\n",
    "ax.set_ylabel(\"Count\")\n",
    "ax.plot(weeks.index, weeks['negative'], label='negative')\n",
    "plt.title(\"Weekly Count of Positive and Negative Posts\")\n",
    "plt.legend(loc=\"upper right\")\n",
    "plt.savefig(path_parent / \"plots\" / \"sentiment_weekly_count_family.png\")"
   ]
  },
  {
   "cell_type": "code",
   "execution_count": 85,
   "metadata": {},
   "outputs": [
    {
     "data": {
      "image/png": "[encoded data removed]",
      "text/plain": [
       "<Figure size 432x288 with 1 Axes>"
      ]
     },
     "metadata": {
      "needs_background": "light"
     },
     "output_type": "display_data"
    }
   ],
   "source": [
    "%matplotlib inline\n",
    "\n",
    "weeks_2020 = weeks[(weeks.index >= pd.to_datetime('2020-01-01'))].copy()\n",
    "fig, ax = plt.subplots()\n",
    "ax.plot(weeks_2020.index, weeks_2020['positive'], label='positive')\n",
    "ax.set_xlabel(\"Month\")\n",
    "ax.set_ylabel(\"Count\")\n",
    "ax.plot(weeks_2020.index, weeks_2020['negative'], label='negative')\n",
    "plt.title(\"Weekly Count of Positive and Negative Posts in 2020\")\n",
    "plt.legend(loc=\"upper right\")\n",
    "plt.savefig(path_parent / \"plots\" / \"sentiment_weekly_count_family_2020.png\")"
   ]
  },
  {
   "cell_type": "markdown",
   "metadata": {},
   "source": [
    "Assign topic distribution to text"
   ]
  },
  {
   "cell_type": "code",
   "execution_count": 38,
   "metadata": {},
   "outputs": [],
   "source": [
    "out = np.zeros((len(corpus), n), dtype=float, order='C')\n",
    "for i, doc in enumerate(corpus):\n",
    "    topics = mod_dict[str(n)].get_document_topics(doc)\n",
    "    for j, score in topics:\n",
    "        out[i,j] = score"
   ]
  },
  {
   "cell_type": "code",
   "execution_count": 50,
   "metadata": {
    "scrolled": false
   },
   "outputs": [],
   "source": [
    "cols = gen_cols(n)\n",
    "df = pd.concat([text_merged.reset_index(), pd.DataFrame(out, columns=cols)], axis=1)"
   ]
  },
  {
   "cell_type": "code",
   "execution_count": 81,
   "metadata": {},
   "outputs": [
    {
     "data": {
      "text/plain": [
       "array([[<AxesSubplot:title={'center':'com_sen_clean'}>]], dtype=object)"
      ]
     },
     "execution_count": 81,
     "metadata": {},
     "output_type": "execute_result"
    },
    {
     "data": {
      "image/png": "[encoded data removed]",
      "text/plain": [
       "<Figure size 432x288 with 1 Axes>"
      ]
     },
     "metadata": {
      "needs_background": "light"
     },
     "output_type": "display_data"
    }
   ],
   "source": [
    "df.loc[df['dom_topic']=='topic_07'].hist(column='com_sen_clean')"
   ]
  },
  {
   "cell_type": "markdown",
   "metadata": {},
   "source": [
    "Topic distribution and sentiment"
   ]
  },
  {
   "cell_type": "code",
   "execution_count": 59,
   "metadata": {},
   "outputs": [],
   "source": [
    "df['dom_topic'] = df[cols].idxmax(axis=1, skipna=True)"
   ]
  },
  {
   "cell_type": "code",
   "execution_count": 62,
   "metadata": {},
   "outputs": [
    {
     "data": {
      "text/plain": [
       "topic_09    12504\n",
       "topic_18     6184\n",
       "topic_10     2789\n",
       "topic_02     2440\n",
       "topic_15      540\n",
       "topic_06      291\n",
       "topic_16      201\n",
       "topic_07      188\n",
       "topic_03       77\n",
       "topic_11       72\n",
       "topic_19       51\n",
       "topic_05       50\n",
       "topic_14       35\n",
       "topic_17       26\n",
       "topic_04       10\n",
       "topic_13        1\n",
       "topic_00        1\n",
       "topic_08        1\n",
       "Name: dom_topic, dtype: int64"
      ]
     },
     "execution_count": 62,
     "metadata": {},
     "output_type": "execute_result"
    }
   ],
   "source": [
    "df['dom_topic'].value_counts()"
   ]
  },
  {
   "cell_type": "code",
   "execution_count": 61,
   "metadata": {},
   "outputs": [
    {
     "data": {
      "text/html": [
       "<div>\n",
       "<style scoped>\n",
       "    .dataframe tbody tr th:only-of-type {\n",
       "        vertical-align: middle;\n",
       "    }\n",
       "\n",
       "    .dataframe tbody tr th {\n",
       "        vertical-align: top;\n",
       "    }\n",
       "\n",
       "    .dataframe thead th {\n",
       "        text-align: right;\n",
       "    }\n",
       "</style>\n",
       "<table border=\"1\" class=\"dataframe\">\n",
       "  <thead>\n",
       "    <tr style=\"text-align: right;\">\n",
       "      <th></th>\n",
       "      <th>com_sen_clean</th>\n",
       "    </tr>\n",
       "    <tr>\n",
       "      <th>dom_topic</th>\n",
       "      <th></th>\n",
       "    </tr>\n",
       "  </thead>\n",
       "  <tbody>\n",
       "    <tr>\n",
       "      <th>topic_00</th>\n",
       "      <td>0.897900</td>\n",
       "    </tr>\n",
       "    <tr>\n",
       "      <th>topic_02</th>\n",
       "      <td>0.552390</td>\n",
       "    </tr>\n",
       "    <tr>\n",
       "      <th>topic_03</th>\n",
       "      <td>-0.014643</td>\n",
       "    </tr>\n",
       "    <tr>\n",
       "      <th>topic_04</th>\n",
       "      <td>0.291830</td>\n",
       "    </tr>\n",
       "    <tr>\n",
       "      <th>topic_05</th>\n",
       "      <td>0.261944</td>\n",
       "    </tr>\n",
       "    <tr>\n",
       "      <th>topic_06</th>\n",
       "      <td>0.505615</td>\n",
       "    </tr>\n",
       "    <tr>\n",
       "      <th>topic_07</th>\n",
       "      <td>0.736456</td>\n",
       "    </tr>\n",
       "    <tr>\n",
       "      <th>topic_08</th>\n",
       "      <td>0.859100</td>\n",
       "    </tr>\n",
       "    <tr>\n",
       "      <th>topic_09</th>\n",
       "      <td>0.450772</td>\n",
       "    </tr>\n",
       "    <tr>\n",
       "      <th>topic_10</th>\n",
       "      <td>0.735775</td>\n",
       "    </tr>\n",
       "    <tr>\n",
       "      <th>topic_11</th>\n",
       "      <td>0.231376</td>\n",
       "    </tr>\n",
       "    <tr>\n",
       "      <th>topic_13</th>\n",
       "      <td>0.960000</td>\n",
       "    </tr>\n",
       "    <tr>\n",
       "      <th>topic_14</th>\n",
       "      <td>0.408671</td>\n",
       "    </tr>\n",
       "    <tr>\n",
       "      <th>topic_15</th>\n",
       "      <td>0.620976</td>\n",
       "    </tr>\n",
       "    <tr>\n",
       "      <th>topic_16</th>\n",
       "      <td>0.570830</td>\n",
       "    </tr>\n",
       "    <tr>\n",
       "      <th>topic_17</th>\n",
       "      <td>0.448885</td>\n",
       "    </tr>\n",
       "    <tr>\n",
       "      <th>topic_18</th>\n",
       "      <td>0.445160</td>\n",
       "    </tr>\n",
       "    <tr>\n",
       "      <th>topic_19</th>\n",
       "      <td>0.348704</td>\n",
       "    </tr>\n",
       "  </tbody>\n",
       "</table>\n",
       "</div>"
      ],
      "text/plain": [
       "           com_sen_clean\n",
       "dom_topic               \n",
       "topic_00        0.897900\n",
       "topic_02        0.552390\n",
       "topic_03       -0.014643\n",
       "topic_04        0.291830\n",
       "topic_05        0.261944\n",
       "topic_06        0.505615\n",
       "topic_07        0.736456\n",
       "topic_08        0.859100\n",
       "topic_09        0.450772\n",
       "topic_10        0.735775\n",
       "topic_11        0.231376\n",
       "topic_13        0.960000\n",
       "topic_14        0.408671\n",
       "topic_15        0.620976\n",
       "topic_16        0.570830\n",
       "topic_17        0.448885\n",
       "topic_18        0.445160\n",
       "topic_19        0.348704"
      ]
     },
     "execution_count": 61,
     "metadata": {},
     "output_type": "execute_result"
    }
   ],
   "source": [
    "df.groupby(['dom_topic']).agg({'com_sen_clean':'mean'})"
   ]
  },
  {
   "cell_type": "code",
   "execution_count": null,
   "metadata": {},
   "outputs": [],
   "source": []
  },
  {
   "cell_type": "markdown",
   "metadata": {},
   "source": [
    "Topic distribution over time"
   ]
  },
  {
   "cell_type": "code",
   "execution_count": null,
   "metadata": {},
   "outputs": [],
   "source": [
    "df = df[(df.index < pd.to_datetime('2021-01-01'))]"
   ]
  },
  {
   "cell_type": "code",
   "execution_count": null,
   "metadata": {},
   "outputs": [],
   "source": [
    "# create csv of topic percents and text\n",
    "df.drop('date_created', axis=1).to_csv(path_topic_percents.format(sf, group, n), index=False)"
   ]
  },
  {
   "cell_type": "code",
   "execution_count": null,
   "metadata": {},
   "outputs": [],
   "source": [
    "df = df.set_index(['date_created'])"
   ]
  },
  {
   "cell_type": "code",
   "execution_count": null,
   "metadata": {},
   "outputs": [],
   "source": [
    "weeks = df[cols].groupby(pd.Grouper(freq='W')).sum()\n",
    "weeks['total'] = weeks[cols].sum(axis=1)\n",
    "weeks[cols] = weeks[cols].div(weeks[\"total\"], axis=0)"
   ]
  },
  {
   "cell_type": "code",
   "execution_count": null,
   "metadata": {
    "scrolled": true
   },
   "outputs": [],
   "source": [
    "months = df[cols].groupby(pd.Grouper(freq='M')).sum()\n",
    "months['total'] = months[cols].sum(axis=1)\n",
    "months[cols] = months[cols].div(months[\"total\"], axis=0)\n",
    "cummonth = months[cols].cumsum(axis=1)"
   ]
  },
  {
   "cell_type": "code",
   "execution_count": null,
   "metadata": {},
   "outputs": [],
   "source": [
    "path_data = str(path_parent / \"clean_data\" / \"clean_data_{}_{}_{}_{}_{}.csv\")\n",
    "months.to_csv(path_data.format(sf, group, id_type, str(n), \"month\"), index=True)"
   ]
  },
  {
   "cell_type": "code",
   "execution_count": null,
   "metadata": {},
   "outputs": [],
   "source": [
    "weeks.to_csv(path_data.format(sf, group, id_type, str(n), \"week\"), index=True)"
   ]
  },
  {
   "cell_type": "code",
   "execution_count": null,
   "metadata": {},
   "outputs": [],
   "source": [
    "import matplotlib.pyplot as plt\n",
    "t = 19\n",
    "plt.plot(weeks.index, weeks['topic_{}'.format(str(t).zfill(2))])\n",
    "plt.xlabel(\"Week\")\n",
    "plt.ylabel(\"Proportion of Topics\")\n",
    "plt.title(\"Proportion Topic {} by Week\".format(t))\n",
    "plt.savefig(path_parent / \"plots\" / \"topic_distribution_{}_weekly_topic_{}_of_{}.png\".format(sf, str(t), str(n)))"
   ]
  },
  {
   "cell_type": "code",
   "execution_count": null,
   "metadata": {},
   "outputs": [],
   "source": [
    "clean_text.to_csv(path_data.format(sf, group, id_type, str(n), \"sen\"), index=False)"
   ]
  },
  {
   "cell_type": "code",
   "execution_count": null,
   "metadata": {},
   "outputs": [],
   "source": [
    "def hex(h):\n",
    "    return \"#\" + h"
   ]
  },
  {
   "cell_type": "code",
   "execution_count": null,
   "metadata": {},
   "outputs": [],
   "source": [
    "from matplotlib import pyplot as plt\n",
    "from matplotlib.pyplot import figure\n",
    "fig, ax = plt.subplots()\n",
    "width = 0.35\n",
    "colors = [\"95F9C3\",\"8EEFBE\",\"86E5B9\",\"7FDBB4\",\"78D0AF\",\"71C6AB\",\"69BCA6\",\"62B2A1\",\"5BA89C\",\"549E97\",\"4C9392\",\"45898D\",\"3E7F88\",\"377583\",\"2F6B7E\",\"28617A\",\"215675\",\"1A4C70\",\"12426B\",\"0B3866\"]\n",
    "ax.bar(months.index, months[cols[0]], width=100, label='Topic {}'.format(0), color=hex(colors[0]))\n",
    "for i in range(1, n):\n",
    "    ax.bar(months.index, months[cols[i]], bottom=cummonth[cols[i-1]], width=100, label='Topic {}'.format(i), color=hex(colors[i]))\n",
    "ax.legend(loc='center left', bbox_to_anchor=(1, 0.5))\n",
    "fig.set_size_inches(12, 10)\n",
    "fig.savefig(path_parent / \"plots\" / \"topic_distribution_{}_{}.png\".format(sf, str(n)))"
   ]
  },
  {
   "cell_type": "code",
   "execution_count": null,
   "metadata": {},
   "outputs": [],
   "source": [
    "c = df[cols].corr()"
   ]
  },
  {
   "cell_type": "code",
   "execution_count": null,
   "metadata": {},
   "outputs": [],
   "source": [
    "c"
   ]
  },
  {
   "cell_type": "code",
   "execution_count": null,
   "metadata": {
    "scrolled": true
   },
   "outputs": [],
   "source": [
    "# ones = df[cols].apply(np.ceil)\n",
    "# c = ones[cols].corr()"
   ]
  },
  {
   "cell_type": "code",
   "execution_count": null,
   "metadata": {
    "scrolled": false
   },
   "outputs": [],
   "source": [
    "import seaborn as sns\n",
    "# mask = np.triu(np.ones_like(c, dtype=bool))\n",
    "\n",
    "# Set up the matplotlib figure\n",
    "f, ax = plt.subplots(figsize=(11, 9))\n",
    "\n",
    "# Generate a custom diverging colormap\n",
    "cmap = sns.diverging_palette(230, 20, as_cmap=True)\n",
    "\n",
    "# Draw the heatmap with the mask and correct aspect ratio\n",
    "sns.heatmap(c, cmap=cmap, vmax=.3, center=0,\n",
    "            square=True, linewidths=.5, cbar_kws={\"shrink\": .5})\n",
    "plt.savefig(path_parent / \"plots\" / \"topic_corr_{}_{}.png\".format(sf, str(n)))"
   ]
  },
  {
   "cell_type": "code",
   "execution_count": null,
   "metadata": {},
   "outputs": [],
   "source": [
    "df_sen = df.merge(clean_text[['message_id','com_sen_clean']], on=\"message_id\", how=\"left\")"
   ]
  },
  {
   "cell_type": "code",
   "execution_count": null,
   "metadata": {
    "scrolled": true
   },
   "outputs": [],
   "source": [
    "df_sen['topic'] = df_sen[cols].idxmax(axis=1)"
   ]
  },
  {
   "cell_type": "code",
   "execution_count": null,
   "metadata": {
    "scrolled": true
   },
   "outputs": [],
   "source": [
    "g = sns.boxplot(x=\"topic\", y=\"com_sen_clean\", data=df_sen, width=0.5)\n",
    "g.set_xticklabels(g.get_xticklabels(), rotation=30)"
   ]
  },
  {
   "cell_type": "code",
   "execution_count": null,
   "metadata": {
    "scrolled": false
   },
   "outputs": [],
   "source": [
    "df_sen.groupby('topic')['com_sen_clean'].mean()"
   ]
  },
  {
   "cell_type": "code",
   "execution_count": null,
   "metadata": {},
   "outputs": [],
   "source": []
  },
  {
   "cell_type": "markdown",
   "metadata": {},
   "source": [
    "## Toddler"
   ]
  },
  {
   "cell_type": "code",
   "execution_count": null,
   "metadata": {},
   "outputs": [],
   "source": [
    "sf = \"toddler\"\n",
    "n = 15"
   ]
  },
  {
   "cell_type": "code",
   "execution_count": null,
   "metadata": {},
   "outputs": [],
   "source": [
    "lemmatized_text, corpus, dictionary = load_data(sf, group, id_type)"
   ]
  },
  {
   "cell_type": "code",
   "execution_count": null,
   "metadata": {},
   "outputs": [],
   "source": [
    "mod_dict = {}\n",
    "for i in args[sf][\"n_topics\"]:\n",
    "    mod_dict[str(i)] = LdaModel.load(path_ntopic_models.format(sf, group, id_type, str(i)))"
   ]
  },
  {
   "cell_type": "code",
   "execution_count": null,
   "metadata": {},
   "outputs": [],
   "source": [
    "clean_text = pd.read_csv(path_clean_text.format(sf, group))\n",
    "temp = clean_text[['family_id']]\n",
    "temp.to_sql(\"temp\", conn, if_exists='replace')"
   ]
  },
  {
   "cell_type": "code",
   "execution_count": null,
   "metadata": {},
   "outputs": [],
   "source": [
    "date_sql = '''\n",
    "    SELECT family_id, message_id, date_created\n",
    "    FROM posts\n",
    "    WHERE subforum=?\n",
    "        AND parent_id=\"\"\n",
    "        AND family_id IN (SELECT family_id FROM temp)\n",
    "'''"
   ]
  },
  {
   "cell_type": "code",
   "execution_count": null,
   "metadata": {},
   "outputs": [],
   "source": [
    "dates = pd.read_sql(date_sql, conn, params=(sf,))\n",
    "dates = dates.drop('message_id', axis=1)"
   ]
  },
  {
   "cell_type": "code",
   "execution_count": null,
   "metadata": {
    "scrolled": true
   },
   "outputs": [],
   "source": [
    "text = clean_text[['family_id','text_clean']].groupby(['family_id'])['text_clean'].apply(' '.join)\n",
    "text = text.to_frame()\n",
    "text.reset_index(inplace=True)\n",
    "df = text.merge(dates, how=\"left\", on=\"family_id\")\n",
    "df.reset_index(drop=True, inplace=True)\n",
    "df['date_created'] = pd.to_datetime(df['date_created'])\n",
    "out = np.zeros((len(corpus), n), dtype=float, order='C')\n",
    "for i, doc in enumerate(corpus):\n",
    "    topics = mod_dict[str(n)].get_document_topics(doc)\n",
    "    for j, score in topics:\n",
    "        out[i,j] = score\n",
    "cols = gen_cols(n)\n",
    "df = pd.concat([df, pd.DataFrame(out, columns=cols)], axis=1)\n",
    "df = df[(df['date_created'] < pd.to_datetime('2021-01-01'))]\n",
    "df.reset_index(drop=True, inplace=True)\n",
    "df.drop('date_created', axis=1).to_csv(path_topic_percents.format(sf, group, n), index=False)"
   ]
  },
  {
   "cell_type": "code",
   "execution_count": null,
   "metadata": {},
   "outputs": [],
   "source": [
    "df = df.set_index(['date_created'])\n",
    "weeks = df[cols].groupby(pd.Grouper(freq='W')).sum()\n",
    "weeks['total'] = weeks[cols].sum(axis=1)\n",
    "weeks[cols] = weeks[cols].div(weeks[\"total\"], axis=0)\n",
    "months = df[cols].groupby(pd.Grouper(freq='M')).sum()\n",
    "months['total'] = months[cols].sum(axis=1)\n",
    "months[cols] = months[cols].div(months[\"total\"], axis=0)\n",
    "cummonth = months[cols].cumsum(axis=1)\n",
    "months.to_csv(path_data.format(sf, group, id_type, str(n), \"month\"), index=True)\n",
    "weeks.to_csv(path_data.format(sf, group, id_type, str(n), \"week\"), index=True)"
   ]
  },
  {
   "cell_type": "code",
   "execution_count": null,
   "metadata": {},
   "outputs": [],
   "source": [
    "import matplotlib.pyplot as plt\n",
    "t = 14\n",
    "plt.plot(weeks.index, weeks['topic_{}'.format(str(t).zfill(2))])\n",
    "plt.xlabel(\"Week\")\n",
    "plt.ylabel(\"Proportion of Topics\")\n",
    "plt.title(\"Proportion Topic {} by Week\".format(t))\n",
    "# plt.savefig(path_parent / \"plots\" / \"topic_distribution_{}_weekly_topic_{}_of_{}.png\".format(sf, str(t), str(n)))"
   ]
  },
  {
   "cell_type": "code",
   "execution_count": null,
   "metadata": {},
   "outputs": [],
   "source": [
    "colsums = pd.DataFrame(out).sum()\n",
    "totalsum = colsums.sum()\n",
    "100 * colsums / totalsum"
   ]
  },
  {
   "cell_type": "code",
   "execution_count": null,
   "metadata": {},
   "outputs": [],
   "source": [
    "df.to_csv(path_data.format(sf, group, id_type, str(n), \"df\"), index=False)"
   ]
  },
  {
   "cell_type": "code",
   "execution_count": null,
   "metadata": {
    "scrolled": false
   },
   "outputs": [],
   "source": [
    "from matplotlib import pyplot as plt\n",
    "from matplotlib.pyplot import figure\n",
    "fig, ax = plt.subplots()\n",
    "width = 0.35\n",
    "colors = [\"95F9C3\",\"8EEFBE\",\"86E5B9\",\"7FDBB4\",\"78D0AF\",\"71C6AB\",\"69BCA6\",\"62B2A1\",\"5BA89C\",\"549E97\",\"4C9392\",\"45898D\",\"3E7F88\",\"377583\",\"2F6B7E\",\"28617A\",\"215675\",\"1A4C70\",\"12426B\",\"0B3866\"]\n",
    "ax.bar(months.index, months[cols[0]], width=100, label='Topic {}'.format(0), color=hex(colors[0]))\n",
    "for i in range(1, n):\n",
    "    ax.bar(months.index, months[cols[i]], bottom=cummonth[cols[i-1]], width=100, label='Topic {}'.format(i), color=hex(colors[i]))\n",
    "# ax.bar(months.index, women_means, width, yerr=women_std, bottom=men_means,\n",
    "#        label='Women')\n",
    "# ax.set_ylabel('Scores')\n",
    "# ax.set_title('Scores by group and gender')\n",
    "ax.legend(loc='center left', bbox_to_anchor=(1, 0.5))\n",
    "fig.set_size_inches(12, 10)\n",
    "fig.savefig(path_parent / \"plots\" / \"topic_distribution_{}_{}.png\".format(sf, str(n)))"
   ]
  },
  {
   "cell_type": "code",
   "execution_count": null,
   "metadata": {},
   "outputs": [],
   "source": []
  },
  {
   "cell_type": "markdown",
   "metadata": {},
   "source": [
    "## Visualize Topics"
   ]
  },
  {
   "cell_type": "code",
   "execution_count": null,
   "metadata": {},
   "outputs": [],
   "source": [
    "pyLDAvis.display(pyLDAvis.gensim.prepare(ldamodel, corpus, dictionary, sort_topics=False))"
   ]
  },
  {
   "cell_type": "markdown",
   "metadata": {},
   "source": [
    "## Most Representative Post for Each Topic"
   ]
  },
  {
   "cell_type": "code",
   "execution_count": null,
   "metadata": {},
   "outputs": [],
   "source": [
    "topic_sentences = format_topics_sentences(ldamodel, corpus)"
   ]
  },
  {
   "cell_type": "code",
   "execution_count": null,
   "metadata": {
    "scrolled": true
   },
   "outputs": [],
   "source": [
    "topic_sentences.info()"
   ]
  },
  {
   "cell_type": "code",
   "execution_count": null,
   "metadata": {},
   "outputs": [],
   "source": [
    "df_joined = pd.concat([df.reset_index(drop=True), topic_sentences.reset_index(drop=True)], axis=1)"
   ]
  },
  {
   "cell_type": "code",
   "execution_count": null,
   "metadata": {},
   "outputs": [],
   "source": [
    "df_joined.to_csv(path_topic.format('special-needs', 'all'), sep='\\t', index=False)"
   ]
  },
  {
   "cell_type": "code",
   "execution_count": null,
   "metadata": {},
   "outputs": [],
   "source": [
    "topic_dominant = pd.DataFrame()\n",
    "topic_grouped = df_joined.groupby('Dominant_Topic')\n",
    "for i, grp in topic_grouped:\n",
    "    topic_dominant = pd.concat([topic_dominant,\n",
    "                                grp.sort_values(['Perc_Contribution'],\n",
    "                                                ascending=[0]).head(3)],\n",
    "                               axis=0)\n",
    "topic_dominant.reset_index(drop=True, inplace=True)\n",
    "topic_dominant.info()"
   ]
  },
  {
   "cell_type": "code",
   "execution_count": null,
   "metadata": {
    "scrolled": false
   },
   "outputs": [],
   "source": [
    "for t in topic_dominant['text_clean']:\n",
    "    print(t)"
   ]
  }
 ],
 "metadata": {
  "kernelspec": {
   "display_name": "Python 3",
   "language": "python",
   "name": "python3"
  },
  "language_info": {
   "codemirror_mode": {
    "name": "ipython",
    "version": 3
   },
   "file_extension": ".py",
   "mimetype": "text/x-python",
   "name": "python",
   "nbconvert_exporter": "python",
   "pygments_lexer": "ipython3",
   "version": "3.8.5"
  }
 },
 "nbformat": 4,
 "nbformat_minor": 4
}

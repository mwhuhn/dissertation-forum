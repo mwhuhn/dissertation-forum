{
 "cells": [
  {
   "cell_type": "markdown",
   "metadata": {},
   "source": [
    "# Analyze Sentiment for Forum Data\n",
    "This notebook loads the sentiment data and explores results"
   ]
  },
  {
   "cell_type": "markdown",
   "metadata": {},
   "source": [
    "## Imports"
   ]
  },
  {
   "cell_type": "code",
   "execution_count": 1,
   "metadata": {},
   "outputs": [],
   "source": [
    "import pandas as pd\n",
    "import numpy as np\n",
    "from vaderSentiment.vaderSentiment import SentimentIntensityAnalyzer\n",
    "from scipy.stats import ttest_ind, kde\n",
    "from datetime import datetime\n",
    "from pathlib import Path\n",
    "import matplotlib.pyplot as plt\n",
    "import math\n",
    "from statsmodels.formula.api  import ols\n",
    "from scraping import create_connection"
   ]
  },
  {
   "cell_type": "markdown",
   "metadata": {},
   "source": [
    "## Functions"
   ]
  },
  {
   "cell_type": "code",
   "execution_count": 2,
   "metadata": {},
   "outputs": [],
   "source": [
    "def ttest_groups(g1, g2, v):\n",
    "    \"\"\" run a t-test on the sentiment scores for\n",
    "        two groups\n",
    "    :param g1: group 1\n",
    "    :param g2: group 2\n",
    "    :param v: the variable name to t-test on\n",
    "    :return: nothing, prints ttest results\n",
    "    \"\"\"\n",
    "    group_1 = g1[v].dropna()\n",
    "    group_2 = g2[v].dropna()\n",
    "    result = ttest_ind(group_1, group_2, equal_var=False, nan_policy=\"omit\")\n",
    "    print('\\n')\n",
    "    l = len(v)\n",
    "    print(' '*(l - 8) + 'variable    group1    group2 statistic    pvalue')\n",
    "    print(v + '  {:1.6f}  {:1.6f} {:+1.6f}  {:1.6f}'.format(group_1.mean(), group_2.mean(), result.statistic, result.pvalue))"
   ]
  },
  {
   "cell_type": "code",
   "execution_count": 3,
   "metadata": {},
   "outputs": [],
   "source": [
    "def ttest_sentiment(df, v):\n",
    "    \"\"\" run a t-test on the sentiment scores for\n",
    "        before and during the pandemic\n",
    "    :param df: data frame\n",
    "    :param v: the variable name to t-test on\n",
    "    :return: nothing, prints ttest results\n",
    "    \"\"\"\n",
    "    group_before = df.where(df['before'])[v].dropna()\n",
    "    group_during = df.where(df['during'])[v].dropna()\n",
    "    result = ttest_ind(group_before, group_during, equal_var=False, nan_policy=\"omit\")\n",
    "    print('\\n')\n",
    "    l = len(v)\n",
    "    print(' '*(l - 8) + 'variable    before    during statistic    pvalue')\n",
    "    print(v + '  {:1.6f}  {:1.6f} {:+1.6f}  {:1.6f}'.format(group_before.mean(), group_during.mean(), result.statistic, result.pvalue))"
   ]
  },
  {
   "cell_type": "code",
   "execution_count": 4,
   "metadata": {},
   "outputs": [],
   "source": [
    "def create_dates(df):\n",
    "    \"\"\" create date variables\n",
    "    :param df: data frame\n",
    "    :return: formatted data frame\n",
    "    \"\"\"\n",
    "    df['date_created'] = pd.to_datetime(df['date_created'])\n",
    "    df['before'] = df['date_created'] <= pd.Timestamp(2020,2,28)\n",
    "    df['during'] = df['date_created'] >= pd.Timestamp(2020,4,1)\n",
    "    df['march'] = ~df['before'] & ~df['during']\n",
    "    df.loc[df['before'], 'period'] = 'before'\n",
    "    df.loc[df['march'], 'period'] = 'march'\n",
    "    df.loc[df['during'], 'period'] = 'during'\n",
    "    df['weekday'] = df['date_created'].dt.day_name()\n",
    "    df['week_n'] = df['date_created'].dt.isocalendar().week\n",
    "    df['weekday_n'] = df['date_created'].dt.day\n",
    "    df['month'] = df['date_created'].dt.month_name()\n",
    "    df['month_n'] = df['date_created'].dt.month\n",
    "#     df['ymd'] = df['date_created'].dt.to_period('D')\n",
    "    return df"
   ]
  },
  {
   "cell_type": "code",
   "execution_count": 5,
   "metadata": {},
   "outputs": [],
   "source": [
    "def compare_parent_child(df):\n",
    "    parents = df[df[\"is_parent\"]]\n",
    "    parents = parents[[\"family_id\",\"neg_sentiment\",\"pos_sentiment\",\"compound_sentiment\"]]\n",
    "    children = df[~df[\"is_parent\"]]\n",
    "    children = children[[\"family_id\",\"neg_sentiment\",\"pos_sentiment\",\"compound_sentiment\"]]\n",
    "    children_ave = children.groupby(\"family_id\", as_index=False).mean()\n",
    "    compare = pd.merge(left=parents, right=children_ave, on=\"family_id\", how=\"inner\", suffixes=['_p','_c'])\n",
    "    compare['pos_diff'] = compare['pos_sentiment_p'] - compare['pos_sentiment_c']\n",
    "    compare['neg_diff'] = compare['neg_sentiment_p'] - compare['neg_sentiment_c']\n",
    "    compare['compound_diff'] = compare['compound_sentiment_p'] - compare['compound_sentiment_c']\n",
    "    return compare"
   ]
  },
  {
   "cell_type": "code",
   "execution_count": 6,
   "metadata": {},
   "outputs": [],
   "source": [
    "def season_sentiment(df, name, var):\n",
    "    grouping_ave = df.groupby([var])['compound_sentiment'].mean()\n",
    "    path_sen = path_parent / \"clean_data\" / \"sentiment_{0}_{1}.csv\".format(name, var)\n",
    "    path_sen = str(path_sen)\n",
    "    grouping_ave.to_csv(path_sen)\n",
    "    print(grouping_ave)"
   ]
  },
  {
   "cell_type": "code",
   "execution_count": 7,
   "metadata": {},
   "outputs": [],
   "source": [
    "def season_freq(df, name, var):\n",
    "    grouping_freq = df.groupby(var)[var].count()\n",
    "    path_freq = path_parent / \"clean_data\" / \"frequency_{0}_{1}.csv\".format(name, var)\n",
    "    path_freq = str(path_freq)\n",
    "    grouping_freq.to_csv(path_freq)\n",
    "    print(grouping_freq)"
   ]
  },
  {
   "cell_type": "code",
   "execution_count": 8,
   "metadata": {},
   "outputs": [],
   "source": [
    "def ave_sent_day(df):\n",
    "    daily_ave = df[['date_created','com_sentiment']].copy()\n",
    "    daily_ave = daily_ave.set_index('date_created')\n",
    "    daily_ave = daily_ave.resample('D').mean().dropna(how='all')\n",
    "    daily_ave['period'] = \"March\"\n",
    "    daily_ave.loc[daily_ave.index <= pd.Timestamp(2020,2,28), 'period'] = \"Before\"\n",
    "    daily_ave.loc[daily_ave.index >= pd.Timestamp(2020,4,1), 'period'] = \"During\"\n",
    "    return daily_ave"
   ]
  },
  {
   "cell_type": "code",
   "execution_count": 9,
   "metadata": {},
   "outputs": [],
   "source": [
    "def daily_freq(df):\n",
    "    freq = df[['date_created', 'com_sentiment']].copy()\n",
    "    freq = freq.set_index('date_created')\n",
    "    freq = freq.resample('D').size().dropna(how='all').to_frame()\n",
    "    freq.columns = ['daily_count']\n",
    "    freq['period'] = \"March\"\n",
    "    freq.loc[freq.index <= pd.Timestamp(2020,2,28), 'period'] = \"Before\"\n",
    "    freq.loc[freq.index >= pd.Timestamp(2020,4,1), 'period'] = \"During\"\n",
    "    return freq"
   ]
  },
  {
   "cell_type": "code",
   "execution_count": 10,
   "metadata": {},
   "outputs": [],
   "source": [
    "def filter_dates(df, start, end):\n",
    "    mask = (df['date_created'] >= start) & (df['date_created'] < end)\n",
    "    return df.loc[mask]"
   ]
  },
  {
   "cell_type": "markdown",
   "metadata": {},
   "source": [
    "## File Locations"
   ]
  },
  {
   "cell_type": "code",
   "execution_count": 11,
   "metadata": {},
   "outputs": [],
   "source": [
    "p = Path.cwd()\n",
    "path_root = p.parents[1]"
   ]
  },
  {
   "cell_type": "code",
   "execution_count": 12,
   "metadata": {},
   "outputs": [],
   "source": [
    "path_db = path_root / \"database\" / \"netmums-merged.db\"\n",
    "path_db = str(path_db)\n",
    "path_sn = path_root / \"clean_data\" / \"netmums\" / \"sn_sentiment.csv\"\n",
    "path_nt = path_root / \"clean_data\" / \"netmums\" / \"nt_sentiment.csv\"\n",
    "path_sn_month = path_root / \"clean_data\" / \"netmums\" / \"sn_sentiment_month.csv\"\n",
    "path_nt_month = path_root / \"clean_data\" / \"netmums\" / \"nt_sentiment_month.csv\"\n",
    "path_fig = path_root / \"plots\" / \"netmums\" "
   ]
  },
  {
   "cell_type": "markdown",
   "metadata": {},
   "source": [
    "## Load Data"
   ]
  },
  {
   "cell_type": "code",
   "execution_count": 13,
   "metadata": {},
   "outputs": [],
   "source": [
    "conn = create_connection(path_db)"
   ]
  },
  {
   "cell_type": "code",
   "execution_count": 14,
   "metadata": {},
   "outputs": [],
   "source": [
    "# sql = \"\"\"\n",
    "#     SELECT COUNT(DISTINCT u.name)\n",
    "#     FROM users AS u\n",
    "# \"\"\""
   ]
  },
  {
   "cell_type": "code",
   "execution_count": 15,
   "metadata": {},
   "outputs": [],
   "source": [
    "# counts = pd.read_sql_query(sql, conn)\n",
    "# print(counts)"
   ]
  },
  {
   "cell_type": "markdown",
   "metadata": {},
   "source": [
    "Counts of posts in each subforum"
   ]
  },
  {
   "cell_type": "code",
   "execution_count": null,
   "metadata": {},
   "outputs": [],
   "source": [
    "# counts_sql = '''\n",
    "#     SELECT f.id, COUNT(p.id), MIN(date_created), MAX(date_created)\n",
    "#     FROM posts AS p\n",
    "#     LEFT JOIN threads AS t\n",
    "#     ON t.id=p.thread_id\n",
    "#     LEFT JOIN subforums AS s\n",
    "#     ON s.id=t.subforum_id\n",
    "#     LEFT JOIN forums AS f\n",
    "#     ON f.id=s.forum_id\n",
    "#     GROUP BY f.id\n",
    "# '''\n",
    "# counts = pd.read_sql_query(counts_sql, conn)"
   ]
  },
  {
   "cell_type": "code",
   "execution_count": null,
   "metadata": {},
   "outputs": [],
   "source": [
    "# counts"
   ]
  },
  {
   "cell_type": "markdown",
   "metadata": {},
   "source": [
    "### Query Forums"
   ]
  },
  {
   "cell_type": "code",
   "execution_count": null,
   "metadata": {},
   "outputs": [],
   "source": [
    "posts_sql = '''\n",
    "    SELECT\n",
    "        p.id AS post_id,\n",
    "        p.date_created AS date_created,\n",
    "        p.thread_id AS thread_id,\n",
    "        p.user_url,\n",
    "        sen.neg_sen_clean AS neg_sentiment,\n",
    "        sen.neu_sen_clean AS neu_sentiment,\n",
    "        sen.pos_sen_clean AS pos_sentiment,\n",
    "        sen.com_sen_clean AS com_sentiment,\n",
    "        f.id AS forum_id\n",
    "    FROM sentiment AS sen\n",
    "    LEFT JOIN posts AS p\n",
    "    ON p.id = sen.post_id\n",
    "    LEFT JOIN threads AS t\n",
    "    ON t.id=p.thread_id\n",
    "    LEFT JOIN subforums AS s\n",
    "    ON s.id=t.subforum_id\n",
    "    LEFT JOIN forums AS f\n",
    "    ON f.id=s.forum_id\n",
    "'''"
   ]
  },
  {
   "cell_type": "code",
   "execution_count": null,
   "metadata": {},
   "outputs": [],
   "source": [
    "posts = pd.read_sql_query(posts_sql, conn)"
   ]
  },
  {
   "cell_type": "code",
   "execution_count": 16,
   "metadata": {},
   "outputs": [],
   "source": [
    "posts_month_sql = '''\n",
    "    SELECT * FROM month_sentiment\n",
    "'''"
   ]
  },
  {
   "cell_type": "code",
   "execution_count": 17,
   "metadata": {},
   "outputs": [],
   "source": [
    "posts_month = pd.read_sql_query(posts_month_sql, conn)"
   ]
  },
  {
   "cell_type": "code",
   "execution_count": 20,
   "metadata": {},
   "outputs": [],
   "source": [
    "conn.close()"
   ]
  },
  {
   "cell_type": "code",
   "execution_count": null,
   "metadata": {},
   "outputs": [],
   "source": [
    "posts = create_dates(posts)"
   ]
  },
  {
   "cell_type": "code",
   "execution_count": null,
   "metadata": {},
   "outputs": [],
   "source": [
    "posts.to_pickle(path_root / \"clean_data\" / \"netmums\" / \"posts_sentiment.pkl\")"
   ]
  },
  {
   "cell_type": "code",
   "execution_count": 21,
   "metadata": {},
   "outputs": [],
   "source": [
    "posts_month.to_pickle(path_root / \"clean_data\" / \"netmums\" / \"posts_sentiment_month.pkl\")"
   ]
  },
  {
   "cell_type": "code",
   "execution_count": null,
   "metadata": {},
   "outputs": [],
   "source": [
    "sn_users = posts.loc[posts['forum_id']==24]\n",
    "sn_users = sn_users.drop_duplicates('user_url')[['user_url']]\n",
    "sn_users = sn_users.loc[sn_users['user_url']!=\"Anonymous\"]\n",
    "sn_users.reset_index(inplace=True, drop=True)"
   ]
  },
  {
   "cell_type": "code",
   "execution_count": null,
   "metadata": {},
   "outputs": [],
   "source": [
    "sn_users.to_pickle(path_root / \"clean_data\" / \"netmums\" / \"sn_users_df.pkl\")"
   ]
  },
  {
   "cell_type": "markdown",
   "metadata": {},
   "source": [
    "## Compare Sentiment"
   ]
  },
  {
   "cell_type": "code",
   "execution_count": 25,
   "metadata": {},
   "outputs": [],
   "source": [
    "posts = pd.read_pickle(path_root / \"clean_data\" / \"netmums\" / \"posts_sentiment.pkl\")\n",
    "posts_month = pd.read_pickle(path_root / \"clean_data\" / \"netmums\" / \"posts_sentiment_month.pkl\")\n",
    "sn_users = pd.read_pickle(path_root / \"clean_data\" / \"netmums\" / \"sn_users_df.pkl\")"
   ]
  },
  {
   "cell_type": "code",
   "execution_count": 14,
   "metadata": {},
   "outputs": [],
   "source": [
    "posts = posts.loc[posts['user_url']!=\"Anonymous\"]"
   ]
  },
  {
   "cell_type": "code",
   "execution_count": 15,
   "metadata": {},
   "outputs": [],
   "source": [
    "sn = posts.loc[posts['user_url'].isin(sn_users['user_url'])]\n",
    "nt = posts.loc[~posts['user_url'].isin(sn_users['user_url'])]"
   ]
  },
  {
   "cell_type": "code",
   "execution_count": 26,
   "metadata": {},
   "outputs": [],
   "source": [
    "posts_month['is_sn'] = 0\n",
    "posts_month.loc[posts_month['user_url'].isin(sn_users['user_url']), 'is_sn'] = 1"
   ]
  },
  {
   "cell_type": "markdown",
   "metadata": {
    "tags": []
   },
   "source": [
    "### 1. Subsets in correct date range: 2018-01-01 to 2020-12-31"
   ]
  },
  {
   "cell_type": "code",
   "execution_count": 16,
   "metadata": {},
   "outputs": [],
   "source": [
    "sn_sub = filter_dates(sn, pd.Timestamp(2014, 1, 1, 0, 0, 0), pd.Timestamp(2021, 1, 1, 0, 0, 0)).copy()\n",
    "nt_sub = filter_dates(nt, pd.Timestamp(2014, 1, 1, 0, 0, 0), pd.Timestamp(2021, 1, 1, 0, 0, 0)).copy()"
   ]
  },
  {
   "cell_type": "markdown",
   "metadata": {
    "tags": []
   },
   "source": [
    "### 2. Comparing sentiment before and during pandemic with a t-test"
   ]
  },
  {
   "cell_type": "code",
   "execution_count": 40,
   "metadata": {},
   "outputs": [
    {
     "name": "stdout",
     "output_type": "stream",
     "text": [
      "com_sentiment\n",
      "\n",
      "\n",
      "     variable    group1    group2 statistic    pvalue\n",
      "com_sentiment  0.289657  0.315772 -46.145868  0.000000\n",
      "\n",
      "pos_sentiment\n",
      "\n",
      "\n",
      "     variable    group1    group2 statistic    pvalue\n",
      "pos_sentiment  0.137912  0.157277 -130.406980  0.000000\n",
      "\n",
      "neg_sentiment\n",
      "\n",
      "\n",
      "     variable    group1    group2 statistic    pvalue\n",
      "neg_sentiment  0.058819  0.058068 +9.254755  0.000000\n",
      "\n"
     ]
    }
   ],
   "source": [
    "for sentiment_type in ['com_sentiment', 'pos_sentiment', 'neg_sentiment']:\n",
    "    print(sentiment_type)\n",
    "    ttest_groups(sn_sub, nt_sub, sentiment_type)\n",
    "    print()"
   ]
  },
  {
   "cell_type": "code",
   "execution_count": 32,
   "metadata": {},
   "outputs": [
    {
     "name": "stdout",
     "output_type": "stream",
     "text": [
      "Special Needs\n",
      "\n",
      "\n",
      "     variable    before    during statistic    pvalue\n",
      "neg_sentiment  0.058811  0.059166 -0.616972  0.537263\n",
      "\n",
      "\n",
      "     variable    before    during statistic    pvalue\n",
      "neu_sentiment  0.803062  0.821799 -17.155518  0.000000\n",
      "\n",
      "\n",
      "     variable    before    during statistic    pvalue\n",
      "pos_sentiment  0.138127  0.119031 +19.113923  0.000000\n",
      "\n",
      "\n",
      "     variable    before    during statistic    pvalue\n",
      "com_sentiment  0.289386  0.320980 -6.067840  0.000000\n",
      "\n",
      "\n",
      "Neurotypical\n",
      "\n",
      "\n",
      "     variable    before    during statistic    pvalue\n",
      "neg_sentiment  0.057974  0.059447 -7.915666  0.000000\n",
      "\n",
      "\n",
      "     variable    before    during statistic    pvalue\n",
      "neu_sentiment  0.784819  0.781350 +9.060358  0.000000\n",
      "\n",
      "\n",
      "     variable    before    during statistic    pvalue\n",
      "pos_sentiment  0.157207  0.159201 -5.179820  0.000000\n",
      "\n",
      "\n",
      "     variable    before    during statistic    pvalue\n",
      "com_sentiment  0.313789  0.356052 -28.817519  0.000000\n",
      "\n",
      "\n"
     ]
    }
   ],
   "source": [
    "for name, df in {\"Special Needs\":sn_sub, \"Neurotypical\":nt_sub}.items():\n",
    "    print(name)\n",
    "    ttest_sentiment(df, 'neg_sentiment')\n",
    "    ttest_sentiment(df, 'neu_sentiment')\n",
    "    ttest_sentiment(df, 'pos_sentiment')\n",
    "    ttest_sentiment(df, 'com_sentiment')\n",
    "    print(\"\\n\")"
   ]
  },
  {
   "cell_type": "code",
   "execution_count": 48,
   "metadata": {},
   "outputs": [
    {
     "data": {
      "image/png": "[encoded data removed]",
      "text/plain": [
       "<Figure size 432x288 with 1 Axes>"
      ]
     },
     "metadata": {
      "needs_background": "light"
     },
     "output_type": "display_data"
    },
    {
     "data": {
      "image/png": "[encoded data removed]",
      "text/plain": [
       "<Figure size 432x288 with 1 Axes>"
      ]
     },
     "metadata": {
      "needs_background": "light"
     },
     "output_type": "display_data"
    }
   ],
   "source": [
    "for name, df in {\"Special Needs\":sn_sub, \"Neurotypical\":nt_sub}.items():\n",
    "# for name, df in {\"Special Needs\":sn_sub}.items():\n",
    "    fig, ax = plt.subplots()\n",
    "    width = 0.35\n",
    "    sentiments = ['Negative', 'Positive']\n",
    "    x_pos = np.arange(len(sentiments))\n",
    "\n",
    "    before_mean = [df[\"neg_sentiment\"][df['before']].mean(),\n",
    "                   df[\"pos_sentiment\"][df['before']].mean()]\n",
    "    before_se = [df[\"neg_sentiment\"][df['before']].std()/math.sqrt(len(df[\"neg_sentiment\"][df['before']])),\n",
    "                 df[\"pos_sentiment\"][df['before']].std()/math.sqrt(len(df[\"pos_sentiment\"][df['before']]))]\n",
    "    during_mean = [df[\"neg_sentiment\"][df['during']].mean(),\n",
    "                   df[\"pos_sentiment\"][df['during']].mean()]\n",
    "    during_se = [df[\"neg_sentiment\"][df['during']].std()/math.sqrt(len(df[\"neg_sentiment\"][df['during']])),\n",
    "                 df[\"pos_sentiment\"][df['during']].std()/math.sqrt(len(df[\"pos_sentiment\"][df['during']]))]\n",
    "\n",
    "    rects_before = ax.bar(x_pos - width/2, before_mean, width, yerr=before_se,\n",
    "                    label='Before', capsize=5, color=\"cornflowerblue\")\n",
    "    rects_during = ax.bar(x_pos + width/2, during_mean, width, yerr=during_se,\n",
    "                    label='During', capsize=5, color=\"indianred\")\n",
    "\n",
    "    # Add some text for labels, title and custom x-axis tick labels, etc.\n",
    "    ax.set_ylabel('Average Sentiment Score\\n(normalized 0 to 1)')\n",
    "    ax.set_title('Comparison of Sentiment Scores: {}'.format(name))\n",
    "    ax.set_xticks(x_pos)\n",
    "    ax.set_xticklabels(sentiments)\n",
    "    ax.legend()\n",
    "    fig.tight_layout()\n",
    "    plt.savefig('../../plots/netmums/sentiment_neg_pos_{}.png'.format(name.replace(\" \", \"_\").lower()))\n",
    "    plt.show()"
   ]
  },
  {
   "cell_type": "markdown",
   "metadata": {},
   "source": [
    "### 3. Comparing sentiment of parent and child posts"
   ]
  },
  {
   "cell_type": "code",
   "execution_count": null,
   "metadata": {},
   "outputs": [],
   "source": [
    "# for df in [sn_sub, td_sub]:\n",
    "#     print(\"\\nGROUP\\n\")\n",
    "#     compare = compare_parent_child(df)\n",
    "#     est_pos = ols(formula = 'pos_sentiment_c ~ pos_sentiment_p', data = compare).fit()\n",
    "#     print(est_pos.summary())\n",
    "#     est_neg = ols(formula = 'neg_sentiment_c ~ neg_sentiment_p', data = compare).fit()\n",
    "#     print(est_neg.summary())\n",
    "#     est_compound = ols(formula = 'compound_sentiment_c ~ compound_sentiment_p', data = compare).fit()\n",
    "#     print(est_compound.summary())"
   ]
  },
  {
   "cell_type": "markdown",
   "metadata": {},
   "source": [
    "So this suggests if a parent comment's negative sentiment increases, the children's negative sentiment will increase as well. Perhaps redo this analysis on each observation rather than the average children's sentiment."
   ]
  },
  {
   "cell_type": "markdown",
   "metadata": {},
   "source": [
    "### 4. Compare density of compound sentiment"
   ]
  },
  {
   "cell_type": "code",
   "execution_count": null,
   "metadata": {},
   "outputs": [],
   "source": [
    "for name, df in {\"Special Needs\":sn_sub, \"Neurotypical\":nt_sub}.items():\n",
    "# for name, df in {\"Special Needs\":sn_sub}.items():\n",
    "    density_before = kde.gaussian_kde(df[\"com_sentiment\"][df['before']])\n",
    "    density_march = kde.gaussian_kde(df[\"com_sentiment\"][df['march']])\n",
    "    density_during = kde.gaussian_kde(df[\"com_sentiment\"][df['during']])\n",
    "    x = np.arange(-1.0, 1.0, 0.01)\n",
    "    plt.scatter(x, density_before(x), alpha=0.5, label=\"Before\")\n",
    "    plt.scatter(x, density_march(x), alpha=0.5, label=\"March\")\n",
    "    plt.scatter(x, density_during(x), alpha=0.5, label=\"During\")\n",
    "    plt.legend(loc=\"upper right\")\n",
    "    plt.title('Density of Compound Sentiment Scores: {}'.format(name))\n",
    "    plt.show()"
   ]
  },
  {
   "cell_type": "code",
   "execution_count": null,
   "metadata": {},
   "outputs": [],
   "source": [
    "size = 3\n",
    "for name, df in {\"Special Needs\":sn_sub, \"Neurotypical\":nt_sub}.items():\n",
    "# for name, df in {\"Special Needs\":sn_sub}.items():\n",
    "    daily_ave = ave_sent_day(df)\n",
    "    groups = daily_ave.groupby('period')\n",
    "    for period, group in groups:\n",
    "        plt.scatter(group.index, group.com_sentiment, label=period, s=size)\n",
    "    plt.legend(loc=\"lower left\")\n",
    "    plt.xticks(rotation=90)\n",
    "    plt.ylabel('Compound Sentiment\\n(normalized -1 to 1)')\n",
    "    plt.title('Daily Average Compound Sentiment Scores: {}'.format(name))\n",
    "    plt.axhline(y=0, color='black', linestyle='-', alpha=0.5)\n",
    "    plt.tight_layout()\n",
    "    plt.show()"
   ]
  },
  {
   "cell_type": "markdown",
   "metadata": {},
   "source": [
    "### 5. Compare post frequency over same period for special needs and toddler subforums"
   ]
  },
  {
   "cell_type": "markdown",
   "metadata": {},
   "source": [
    "Frequency"
   ]
  },
  {
   "cell_type": "code",
   "execution_count": null,
   "metadata": {},
   "outputs": [],
   "source": [
    "size = 3\n",
    "for name, df in {\"Special Needs\":sn_sub, \"Neurotypical\":nt_sub}.items():\n",
    "# for name, df in {\"Special Needs\":sn_sub}.items():\n",
    "    freq = daily_freq(df)\n",
    "    groups = freq.groupby('period')\n",
    "    for period, group in groups:\n",
    "        plt.scatter(group.index, group.daily_count, label=period, s=size)\n",
    "    plt.legend(loc=\"lower left\")\n",
    "    plt.xticks(rotation=90)\n",
    "    plt.ylabel('Frequency')\n",
    "    plt.title('Daily Frequency of Posts: {}'.format(name))\n",
    "    plt.axhline(y=0, color='black', linestyle='-', alpha=0.5)\n",
    "    plt.tight_layout()\n",
    "    plt.show()"
   ]
  },
  {
   "cell_type": "markdown",
   "metadata": {
    "tags": []
   },
   "source": [
    "### 6. Compare within-individual sentiment over time"
   ]
  },
  {
   "cell_type": "markdown",
   "metadata": {},
   "source": [
    "#### Day Grouped"
   ]
  },
  {
   "cell_type": "code",
   "execution_count": 31,
   "metadata": {},
   "outputs": [],
   "source": [
    "def add_times(df):\n",
    "    df['first_post'] = df.groupby(['user_url'])['date_created'].transform('min')\n",
    "    df['time_since_first_post'] = (df['date_created'] - df['first_post']).dt.days\n",
    "    return df"
   ]
  },
  {
   "cell_type": "code",
   "execution_count": 32,
   "metadata": {},
   "outputs": [],
   "source": [
    "sn_sub = add_times(sn_sub)\n",
    "nt_sub = add_times(nt_sub)"
   ]
  },
  {
   "cell_type": "code",
   "execution_count": 33,
   "metadata": {},
   "outputs": [],
   "source": [
    "from linearmodels.panel import PanelOLS, PooledOLS\n",
    "import statsmodels.api as sm"
   ]
  },
  {
   "cell_type": "code",
   "execution_count": 34,
   "metadata": {},
   "outputs": [],
   "source": [
    "# sn_sub = pd.read_csv(path_sn)\n",
    "# nt_sub = pd.read_csv(path_nt)\n",
    "# sn_sub['group'] = \"sn\"\n",
    "# nt_sub['group'] = \"nt\"\n",
    "sub = sn_sub.append(nt_sub, ignore_index=True)\n",
    "sub['ymd'] = pd.to_datetime(sub['date_created']).dt.strftime('%Y-%m-%d')"
   ]
  },
  {
   "cell_type": "code",
   "execution_count": 35,
   "metadata": {},
   "outputs": [],
   "source": [
    "group = sub.groupby(['user_url', 'ymd']).agg(mean_com_sen=('com_sentiment', 'mean'), mean_pos_sen=('pos_sentiment', 'mean'), mean_neg_sen=('neg_sentiment', 'mean'))\n",
    "group = group.reset_index(drop=False)\n",
    "group['ymd'] = pd.to_datetime(group['ymd'])\n",
    "group['first_post'] = group.groupby(['user_url'])['ymd'].transform('min')\n",
    "group['time_since_first_post'] = (group['ymd'] - group['first_post'])\n",
    "group['time_since_first_post'] = group['time_since_first_post'].dt.days\n",
    "# group = group.set_index([\"user_url\", \"ymd\"])"
   ]
  },
  {
   "cell_type": "code",
   "execution_count": 36,
   "metadata": {},
   "outputs": [],
   "source": [
    "group['before'] = group['ymd'] <= pd.Timestamp(2020,2,28)\n",
    "group['during'] = group['ymd'] >= pd.Timestamp(2020,4,1)\n",
    "group['march'] = ~group['before'] & ~group['during']"
   ]
  },
  {
   "cell_type": "code",
   "execution_count": 37,
   "metadata": {},
   "outputs": [],
   "source": [
    "one_obs = group.groupby('user_url').agg(count=('user_url', 'count'))\n",
    "one_obs.reset_index(inplace=True, drop=False)\n",
    "one_obs = one_obs.loc[one_obs['count']==1]\n",
    "group = group.loc[~(group['user_url'].isin(one_obs['user_url']))]\n",
    "# group.groupby('user_url').agg(mean=('time_since_first_post', 'mean'))"
   ]
  },
  {
   "cell_type": "code",
   "execution_count": 38,
   "metadata": {},
   "outputs": [],
   "source": [
    "# sn_users = group.loc[group['user_url'].isin(sn_sub['user_url']), 'user_url'].drop_duplicates().reset_index(drop=True)\n",
    "group.loc[:, 'sn_user'] = \"no\"\n",
    "group.loc[group['user_url'].isin(sn_users['user_url']), 'sn_user'] = \"yes\""
   ]
  },
  {
   "cell_type": "code",
   "execution_count": 39,
   "metadata": {},
   "outputs": [],
   "source": [
    "group['years_since_first_post'] = group['time_since_first_post'] / 365"
   ]
  },
  {
   "cell_type": "code",
   "execution_count": 40,
   "metadata": {},
   "outputs": [],
   "source": [
    "group['time_period'] =  (group['ymd'] - pd.Timestamp(2014, 1, 1, 0, 0, 0)).dt.days\n",
    "group['group_id'] = group.groupby('user_url').ngroup()\n",
    "# group.to_stata(path_root / \"clean_data\" / \"netmums\" / \"fe-grouped.dta\")"
   ]
  },
  {
   "cell_type": "code",
   "execution_count": 41,
   "metadata": {},
   "outputs": [],
   "source": [
    "counts = group.groupby('user_url').agg(count=('ymd', 'count')).reset_index(drop=False)"
   ]
  },
  {
   "cell_type": "code",
   "execution_count": 42,
   "metadata": {},
   "outputs": [],
   "source": [
    "users10 = counts.loc[counts['count'] >= 10, \"user_url\"]\n",
    "users20 = counts.loc[counts['count'] >= 20, \"user_url\"]\n",
    "users30 = counts.loc[counts['count'] >= 30, \"user_url\"]\n",
    "users50 = counts.loc[counts['count'] >= 50, \"user_url\"]"
   ]
  },
  {
   "cell_type": "code",
   "execution_count": 43,
   "metadata": {},
   "outputs": [],
   "source": [
    "# counts.loc[counts['user_url'].isin(users30)].boxplot(column=\"count\", by=\"sn_user\")"
   ]
  },
  {
   "cell_type": "code",
   "execution_count": 44,
   "metadata": {},
   "outputs": [],
   "source": [
    "group10 = group.loc[group[\"user_url\"].isin(users10)]\n",
    "group20 = group.loc[group[\"user_url\"].isin(users20)]\n",
    "group30 = group.loc[group[\"user_url\"].isin(users30)]\n",
    "group50 = group.loc[group[\"user_url\"].isin(users50)]\n",
    "group = group.set_index([\"user_url\", \"ymd\"])\n",
    "group10 = group10.set_index([\"user_url\", \"ymd\"])\n",
    "group20 = group20.set_index([\"user_url\", \"ymd\"])\n",
    "group30 = group30.set_index([\"user_url\", \"ymd\"])\n",
    "group50 = group50.set_index([\"user_url\", \"ymd\"])"
   ]
  },
  {
   "cell_type": "code",
   "execution_count": 45,
   "metadata": {},
   "outputs": [],
   "source": [
    "group.reset_index(drop=False).to_csv(path_root / \"clean_data\" / \"netmums\" / \"group-fe.csv\", index=False, encoding=\"utf-8\")"
   ]
  },
  {
   "cell_type": "code",
   "execution_count": 46,
   "metadata": {},
   "outputs": [],
   "source": [
    "group_ent = group.reset_index(drop=False).copy()\n",
    "ymd = group_ent['ymd']\n",
    "group_ent = group_ent.set_index([\"user_url\", \"ymd\"])\n",
    "group_ent['ymd'] = ymd "
   ]
  },
  {
   "cell_type": "code",
   "execution_count": 34,
   "metadata": {},
   "outputs": [
    {
     "name": "stderr",
     "output_type": "stream",
     "text": [
      "/home/mwh/miniconda3/envs/forum/lib/python3.8/site-packages/linearmodels/panel/model.py:1491: MemoryWarning: Using low-memory algorithm to estimate two-way model. Explicitly set low_memory=True to silence this message.  Set low_memory=False to use the standard algorithm that creates dummy variables for the smaller of the number of entities or number of time periods.\n",
      "  warnings.warn(\n",
      "/home/mwh/miniconda3/envs/forum/lib/python3.8/site-packages/linearmodels/panel/model.py:1796: AbsorbingEffectWarning: \n",
      "Variables have been fully absorbed and have removed from the regression:\n",
      "\n",
      "sn_user[T.yes], years_since_first_post\n",
      "\n",
      "  warnings.warn(\n"
     ]
    },
    {
     "name": "stdout",
     "output_type": "stream",
     "text": [
      "                          PanelOLS Estimation Summary                           \n",
      "================================================================================\n",
      "Dep. Variable:           mean_com_sen   R-squared:                     9.188e-06\n",
      "Estimator:                   PanelOLS   R-squared (Between):             -0.0030\n",
      "No. Observations:             1535704   R-squared (Within):            3.387e-05\n",
      "Date:                Tue, Sep 21 2021   R-squared (Overall):              0.0002\n",
      "Time:                        12:06:49   Log-likelihood                -9.396e+05\n",
      "Cov. Estimator:            Unadjusted                                           \n",
      "                                        F-statistic:                      13.488\n",
      "Entities:                       65122   P-value                           0.0002\n",
      "Avg Obs:                       23.582   Distribution:               F(1,1468048)\n",
      "Min Obs:                       2.0000                                           \n",
      "Max Obs:                       1946.0   F-statistic (robust):             13.488\n",
      "                                        P-value                           0.0002\n",
      "Time periods:                    2534   Distribution:               F(1,1468048)\n",
      "Avg Obs:                       606.04                                           \n",
      "Min Obs:                       2.0000                                           \n",
      "Max Obs:                       1149.0                                           \n",
      "                                                                                \n",
      "                                           Parameter Estimates                                           \n",
      "=========================================================================================================\n",
      "                                       Parameter  Std. Err.     T-stat    P-value    Lower CI    Upper CI\n",
      "---------------------------------------------------------------------------------------------------------\n",
      "Intercept                                 0.3225     0.0005     652.92     0.0000      0.3216      0.3235\n",
      "sn_user[T.yes]:years_since_first_post    -0.0031     0.0008    -3.6727     0.0002     -0.0048     -0.0015\n",
      "=========================================================================================================\n",
      "\n",
      "F-test for Poolability: 4.4644\n",
      "P-value: 0.0000\n",
      "Distribution: F(67654,1468048)\n",
      "\n",
      "Included effects: Entity, Time\n"
     ]
    }
   ],
   "source": [
    "mod_com = PanelOLS.from_formula(\"mean_com_sen ~ 1 + sn_user * years_since_first_post + EntityEffects + TimeEffects\", data=group, drop_absorbed=True)\n",
    "print(mod_com.fit())"
   ]
  },
  {
   "cell_type": "code",
   "execution_count": 38,
   "metadata": {},
   "outputs": [
    {
     "name": "stderr",
     "output_type": "stream",
     "text": [
      "/home/mwh/miniconda3/envs/forum/lib/python3.8/site-packages/linearmodels/panel/model.py:1796: AbsorbingEffectWarning: \n",
      "Variables have been fully absorbed and have removed from the regression:\n",
      "\n",
      "sn_user[yes]\n",
      "\n",
      "  warnings.warn(\n"
     ]
    },
    {
     "name": "stdout",
     "output_type": "stream",
     "text": [
      "                          PanelOLS Estimation Summary                           \n",
      "================================================================================\n",
      "Dep. Variable:           mean_com_sen   R-squared:                     5.803e-05\n",
      "Estimator:                   PanelOLS   R-squared (Between):             -0.1688\n",
      "No. Observations:             1535704   R-squared (Within):            5.803e-05\n",
      "Date:                Mon, Sep 06 2021   R-squared (Overall):             -0.1295\n",
      "Time:                        16:39:14   Log-likelihood                -9.417e+05\n",
      "Cov. Estimator:            Unadjusted                                           \n",
      "                                        F-statistic:                      14.224\n",
      "Entities:                       65122   P-value                           0.0000\n",
      "Avg Obs:                       23.582   Distribution:               F(6,1470576)\n",
      "Min Obs:                       2.0000                                           \n",
      "Max Obs:                       1946.0   F-statistic (robust):             2208.1\n",
      "                                        P-value                           0.0000\n",
      "Time periods:                    2534   Distribution:               F(6,1470576)\n",
      "Avg Obs:                       606.04                                           \n",
      "Min Obs:                       2.0000                                           \n",
      "Max Obs:                       1149.0                                           \n",
      "                                                                                \n",
      "                                                  Parameter Estimates                                                   \n",
      "========================================================================================================================\n",
      "                                                      Parameter  Std. Err.     T-stat    P-value    Lower CI    Upper CI\n",
      "------------------------------------------------------------------------------------------------------------------------\n",
      "sn_user[no]                                              0.4331     0.0085     51.228     0.0000      0.4165      0.4496\n",
      "before[T.True]                                          -0.0061     0.0061    -1.0002     0.3172     -0.0180      0.0058\n",
      "sn_user[T.yes]:before[T.True]                           -0.0011     0.0205    -0.0528     0.9579     -0.0412      0.0391\n",
      "years_since_first_post                                   0.0015     0.0016     0.9236     0.3557     -0.0017      0.0047\n",
      "sn_user[T.yes]:years_since_first_post                   -0.0092     0.0041    -2.2478     0.0246     -0.0172     -0.0012\n",
      "years_since_first_post:before[T.True]                   -0.0031     0.0017    -1.8597     0.0629     -0.0063      0.0002\n",
      "sn_user[T.yes]:years_since_first_post:before[T.True]     0.0058     0.0041     1.4096     0.1587     -0.0023      0.0139\n",
      "========================================================================================================================\n",
      "\n",
      "F-test for Poolability: 4.5746\n",
      "P-value: 0.0000\n",
      "Distribution: F(65121,1470576)\n",
      "\n",
      "Included effects: Entity\n"
     ]
    }
   ],
   "source": [
    "mod_com_cov19 = PanelOLS.from_formula(\"mean_com_sen ~ sn_user * years_since_first_post * before + EntityEffects\", data=group, drop_absorbed=True)\n",
    "print(mod_com_cov19.fit())"
   ]
  },
  {
   "cell_type": "code",
   "execution_count": 90,
   "metadata": {},
   "outputs": [
    {
     "name": "stderr",
     "output_type": "stream",
     "text": [
      "/home/mwh/miniconda3/envs/forum/lib/python3.8/site-packages/linearmodels/panel/model.py:1491: MemoryWarning: Using low-memory algorithm to estimate two-way model. Explicitly set low_memory=True to silence this message.  Set low_memory=False to use the standard algorithm that creates dummy variables for the smaller of the number of entities or number of time periods.\n",
      "  warnings.warn(\n",
      "/home/mwh/miniconda3/envs/forum/lib/python3.8/site-packages/linearmodels/panel/model.py:1796: AbsorbingEffectWarning: \n",
      "Variables have been fully absorbed and have removed from the regression:\n",
      "\n",
      "sn_user[T.yes], years_since_first_post\n",
      "\n",
      "  warnings.warn(\n"
     ]
    },
    {
     "name": "stdout",
     "output_type": "stream",
     "text": [
      "                          PanelOLS Estimation Summary                           \n",
      "================================================================================\n",
      "Dep. Variable:           mean_pos_sen   R-squared:                     1.515e-06\n",
      "Estimator:                   PanelOLS   R-squared (Between):             -0.0038\n",
      "No. Observations:             1535704   R-squared (Within):            4.304e-05\n",
      "Date:                Mon, Sep 06 2021   R-squared (Overall):              0.0003\n",
      "Time:                        22:09:31   Log-likelihood                 1.299e+06\n",
      "Cov. Estimator:            Unadjusted                                           \n",
      "                                        F-statistic:                      2.2246\n",
      "Entities:                       65122   P-value                           0.1358\n",
      "Avg Obs:                       23.582   Distribution:               F(1,1468048)\n",
      "Min Obs:                       2.0000                                           \n",
      "Max Obs:                       1946.0   F-statistic (robust):             2.2246\n",
      "                                        P-value                           0.1358\n",
      "Time periods:                    2534   Distribution:               F(1,1468048)\n",
      "Avg Obs:                       606.04                                           \n",
      "Min Obs:                       2.0000                                           \n",
      "Max Obs:                       1149.0                                           \n",
      "                                                                                \n",
      "                                           Parameter Estimates                                           \n",
      "=========================================================================================================\n",
      "                                       Parameter  Std. Err.     T-stat    P-value    Lower CI    Upper CI\n",
      "---------------------------------------------------------------------------------------------------------\n",
      "Intercept                                 0.1457     0.0001     1267.8     0.0000      0.1455      0.1460\n",
      "sn_user[T.yes]:years_since_first_post    -0.0003     0.0002    -1.4915     0.1358     -0.0007   9.238e-05\n",
      "=========================================================================================================\n",
      "\n",
      "F-test for Poolability: 4.0659\n",
      "P-value: 0.0000\n",
      "Distribution: F(67654,1468048)\n",
      "\n",
      "Included effects: Entity, Time\n"
     ]
    }
   ],
   "source": [
    "mod_pos = PanelOLS.from_formula(\"mean_pos_sen ~ 1 + sn_user * years_since_first_post + EntityEffects + TimeEffects\", data=group, drop_absorbed=True)\n",
    "print(mod_pos.fit())"
   ]
  },
  {
   "cell_type": "code",
   "execution_count": 39,
   "metadata": {},
   "outputs": [
    {
     "name": "stderr",
     "output_type": "stream",
     "text": [
      "/home/mwh/miniconda3/envs/forum/lib/python3.8/site-packages/linearmodels/panel/model.py:1796: AbsorbingEffectWarning: \n",
      "Variables have been fully absorbed and have removed from the regression:\n",
      "\n",
      "sn_user[yes]\n",
      "\n",
      "  warnings.warn(\n"
     ]
    },
    {
     "name": "stdout",
     "output_type": "stream",
     "text": [
      "                          PanelOLS Estimation Summary                           \n",
      "================================================================================\n",
      "Dep. Variable:           mean_pos_sen   R-squared:                        0.0006\n",
      "Estimator:                   PanelOLS   R-squared (Between):             -0.8404\n",
      "No. Observations:             1535704   R-squared (Within):               0.0006\n",
      "Date:                Mon, Sep 06 2021   R-squared (Overall):             -0.4623\n",
      "Time:                        16:40:05   Log-likelihood                 1.297e+06\n",
      "Cov. Estimator:            Unadjusted                                           \n",
      "                                        F-statistic:                      138.91\n",
      "Entities:                       65122   P-value                           0.0000\n",
      "Avg Obs:                       23.582   Distribution:               F(6,1470576)\n",
      "Min Obs:                       2.0000                                           \n",
      "Max Obs:                       1946.0   F-statistic (robust):             8131.0\n",
      "                                        P-value                           0.0000\n",
      "Time periods:                    2534   Distribution:               F(6,1470576)\n",
      "Avg Obs:                       606.04                                           \n",
      "Min Obs:                       2.0000                                           \n",
      "Max Obs:                       1149.0                                           \n",
      "                                                                                \n",
      "                                                  Parameter Estimates                                                   \n",
      "========================================================================================================================\n",
      "                                                      Parameter  Std. Err.     T-stat    P-value    Lower CI    Upper CI\n",
      "------------------------------------------------------------------------------------------------------------------------\n",
      "sn_user[no]                                              0.1956     0.0020     99.394     0.0000      0.1918      0.1995\n",
      "before[T.True]                                           0.0002     0.0014     0.1684     0.8663     -0.0025      0.0030\n",
      "sn_user[T.yes]:before[T.True]                           -0.0031     0.0048    -0.6414     0.5213     -0.0124      0.0063\n",
      "years_since_first_post                                  -0.0002     0.0004    -0.6450     0.5190     -0.0010      0.0005\n",
      "sn_user[T.yes]:years_since_first_post                   -0.0034     0.0010    -3.5554     0.0004     -0.0053     -0.0015\n",
      "years_since_first_post:before[T.True]                   -0.0025     0.0004    -6.5916     0.0000     -0.0033     -0.0018\n",
      "sn_user[T.yes]:years_since_first_post:before[T.True]     0.0034     0.0010     3.6016     0.0003      0.0016      0.0053\n",
      "========================================================================================================================\n",
      "\n",
      "F-test for Poolability: 4.1421\n",
      "P-value: 0.0000\n",
      "Distribution: F(65121,1470576)\n",
      "\n",
      "Included effects: Entity\n"
     ]
    }
   ],
   "source": [
    "mod_pos_cov19 = PanelOLS.from_formula(\"mean_pos_sen ~ sn_user * years_since_first_post * before + EntityEffects\", data=group, drop_absorbed=True)\n",
    "print(mod_pos_cov19.fit())"
   ]
  },
  {
   "cell_type": "code",
   "execution_count": 92,
   "metadata": {},
   "outputs": [
    {
     "name": "stderr",
     "output_type": "stream",
     "text": [
      "/home/mwh/miniconda3/envs/forum/lib/python3.8/site-packages/linearmodels/panel/model.py:1491: MemoryWarning: Using low-memory algorithm to estimate two-way model. Explicitly set low_memory=True to silence this message.  Set low_memory=False to use the standard algorithm that creates dummy variables for the smaller of the number of entities or number of time periods.\n",
      "  warnings.warn(\n",
      "/home/mwh/miniconda3/envs/forum/lib/python3.8/site-packages/linearmodels/panel/model.py:1796: AbsorbingEffectWarning: \n",
      "Variables have been fully absorbed and have removed from the regression:\n",
      "\n",
      "sn_user[T.yes], years_since_first_post\n",
      "\n",
      "  warnings.warn(\n"
     ]
    },
    {
     "name": "stdout",
     "output_type": "stream",
     "text": [
      "                          PanelOLS Estimation Summary                           \n",
      "================================================================================\n",
      "Dep. Variable:           mean_neg_sen   R-squared:                     2.739e-05\n",
      "Estimator:                   PanelOLS   R-squared (Between):             -0.0044\n",
      "No. Observations:             1535704   R-squared (Within):           -7.236e-05\n",
      "Date:                Mon, Sep 06 2021   R-squared (Overall):             -0.0002\n",
      "Time:                        22:10:22   Log-likelihood                 2.316e+06\n",
      "Cov. Estimator:            Unadjusted                                           \n",
      "                                        F-statistic:                      40.213\n",
      "Entities:                       65122   P-value                           0.0000\n",
      "Avg Obs:                       23.582   Distribution:               F(1,1468048)\n",
      "Min Obs:                       2.0000                                           \n",
      "Max Obs:                       1946.0   F-statistic (robust):             40.213\n",
      "                                        P-value                           0.0000\n",
      "Time periods:                    2534   Distribution:               F(1,1468048)\n",
      "Avg Obs:                       606.04                                           \n",
      "Min Obs:                       2.0000                                           \n",
      "Max Obs:                       1149.0                                           \n",
      "                                                                                \n",
      "                                           Parameter Estimates                                           \n",
      "=========================================================================================================\n",
      "                                       Parameter  Std. Err.     T-stat    P-value    Lower CI    Upper CI\n",
      "---------------------------------------------------------------------------------------------------------\n",
      "Intercept                                 0.0575  5.929e-05     970.42     0.0000      0.0574      0.0577\n",
      "sn_user[T.yes]:years_since_first_post     0.0006     0.0001     6.3413     0.0000      0.0004      0.0008\n",
      "=========================================================================================================\n",
      "\n",
      "F-test for Poolability: 3.3321\n",
      "P-value: 0.0000\n",
      "Distribution: F(67654,1468048)\n",
      "\n",
      "Included effects: Entity, Time\n"
     ]
    }
   ],
   "source": [
    "mod_neg = PanelOLS.from_formula(\"mean_neg_sen ~ 1 + sn_user * years_since_first_post + EntityEffects + TimeEffects\", data=group, drop_absorbed=True)\n",
    "print(mod_neg.fit())"
   ]
  },
  {
   "cell_type": "code",
   "execution_count": 53,
   "metadata": {},
   "outputs": [
    {
     "name": "stderr",
     "output_type": "stream",
     "text": [
      "/home/mwh/miniconda3/envs/forum/lib/python3.8/site-packages/linearmodels/panel/model.py:1796: AbsorbingEffectWarning: \n",
      "Variables have been fully absorbed and have removed from the regression:\n",
      "\n",
      "sn_user[yes]\n",
      "\n",
      "  warnings.warn(\n"
     ]
    },
    {
     "name": "stdout",
     "output_type": "stream",
     "text": [
      "                          PanelOLS Estimation Summary                           \n",
      "================================================================================\n",
      "Dep. Variable:           mean_neg_sen   R-squared:                        0.0002\n",
      "Estimator:                   PanelOLS   R-squared (Between):             -0.3344\n",
      "No. Observations:             1535704   R-squared (Within):               0.0002\n",
      "Date:                Mon, Sep 06 2021   R-squared (Overall):             -0.3052\n",
      "Time:                        19:37:22   Log-likelihood                 2.314e+06\n",
      "Cov. Estimator:            Unadjusted                                           \n",
      "                                        F-statistic:                      48.747\n",
      "Entities:                       65122   P-value                           0.0000\n",
      "Avg Obs:                       23.582   Distribution:               F(6,1470576)\n",
      "Min Obs:                       2.0000                                           \n",
      "Max Obs:                       1946.0   F-statistic (robust):             5075.1\n",
      "                                        P-value                           0.0000\n",
      "Time periods:                    2534   Distribution:               F(6,1470576)\n",
      "Avg Obs:                       606.04                                           \n",
      "Min Obs:                       2.0000                                           \n",
      "Max Obs:                       1149.0                                           \n",
      "                                                                                \n",
      "                                                  Parameter Estimates                                                   \n",
      "========================================================================================================================\n",
      "                                                      Parameter  Std. Err.     T-stat    P-value    Lower CI    Upper CI\n",
      "------------------------------------------------------------------------------------------------------------------------\n",
      "sn_user[no]                                              0.0767     0.0010     75.646     0.0000      0.0748      0.0787\n",
      "before[T.True]                                          -0.0003     0.0007    -0.3702     0.7112     -0.0017      0.0012\n",
      "sn_user[T.yes]:before[T.True]                            0.0014     0.0025     0.5636     0.5730     -0.0034      0.0062\n",
      "years_since_first_post                                8.002e-05     0.0002     0.4060     0.6848     -0.0003      0.0005\n",
      "sn_user[T.yes]:years_since_first_post                    0.0006     0.0005     1.3043     0.1921     -0.0003      0.0016\n",
      "years_since_first_post:before[T.True]                   -0.0011     0.0002    -5.3690     0.0000     -0.0015     -0.0007\n",
      "sn_user[T.yes]:years_since_first_post:before[T.True]  6.347e-06     0.0005     0.0129     0.9897     -0.0010      0.0010\n",
      "========================================================================================================================\n",
      "\n",
      "F-test for Poolability: 3.4161\n",
      "P-value: 0.0000\n",
      "Distribution: F(65121,1470576)\n",
      "\n",
      "Included effects: Entity\n"
     ]
    }
   ],
   "source": [
    "mod_neg_cov19 = PanelOLS.from_formula(\"mean_neg_sen ~ sn_user * years_since_first_post * before + EntityEffects\", data=group, drop_absorbed=True)\n",
    "print(mod_neg_cov19.fit())"
   ]
  },
  {
   "cell_type": "code",
   "execution_count": 51,
   "metadata": {},
   "outputs": [],
   "source": [
    "# sub.loc[:, 'sn_user'] = \"no\"\n",
    "# sub.loc[sub['user_url'].isin(sn_users['user_url']), 'sn_user'] = \"yes\""
   ]
  },
  {
   "cell_type": "code",
   "execution_count": 50,
   "metadata": {},
   "outputs": [],
   "source": [
    "# import statsmodels.api as sm\n",
    "# import statsmodels.formula.api as smf\n",
    "# results = smf.ols('com_sentiment ~ before * sn_user * time_since_first_post', data=sub).fit()\n",
    "# print(results.summary())"
   ]
  },
  {
   "cell_type": "code",
   "execution_count": 52,
   "metadata": {},
   "outputs": [],
   "source": [
    "# results.predict(pd.DataFrame({'before': [True, False],\n",
    "#                               'sn_user': [\"no\", \"yes\"],\n",
    "#                               'time_since_first_post': [0, 100]}))"
   ]
  },
  {
   "cell_type": "code",
   "execution_count": 93,
   "metadata": {},
   "outputs": [],
   "source": [
    "res_com = mod_com.fit(cov_type='clustered', cluster_entity=True)\n",
    "res_pos = mod_pos.fit(cov_type='clustered', cluster_entity=True)\n",
    "res_neg = mod_neg.fit(cov_type='clustered', cluster_entity=True)"
   ]
  },
  {
   "cell_type": "code",
   "execution_count": null,
   "metadata": {},
   "outputs": [],
   "source": [
    "n_years = 6\n",
    "years = list(range(n_years))\n",
    "days = [365 * x for x in years]\n",
    "pred_dic = {\n",
    "    \"year\": years * 2,\n",
    "    \"time\": days * 2,\n",
    "    \"sn_user\": [\"no\"] * n_years + [\"yes\"] * n_years,\n",
    "    \"sn_lab\": [\"not Special-Needs user\"] * n_years + [\"Special-Needs user\"] * n_years\n",
    "}\n",
    "pred_df = pd.DataFrame(pred_dic)"
   ]
  },
  {
   "cell_type": "code",
   "execution_count": null,
   "metadata": {},
   "outputs": [],
   "source": [
    "def calc_pred(sn_user, years, b_time, b_sn_x_time):\n",
    "    if sn_user==\"no\":\n",
    "        return years * b_time\n",
    "    else:\n",
    "        return years * (b_time + b_sn_x_time)"
   ]
  },
  {
   "cell_type": "code",
   "execution_count": null,
   "metadata": {},
   "outputs": [],
   "source": [
    "pred_neg = pred_df.copy()\n",
    "pred_neg['pred'] = pred_neg.apply(lambda x: calc_pred(x.sn_user, x.time, res_neg.params[1], res_neg.params[2]), axis=1)"
   ]
  },
  {
   "cell_type": "code",
   "execution_count": null,
   "metadata": {},
   "outputs": [],
   "source": [
    "pred_pos = pred_df.copy()\n",
    "pred_pos['pred'] = pred_pos.apply(lambda x: calc_pred(x.sn_user, x.time, res_pos.params[1], res_pos.params[2]), axis=1)"
   ]
  },
  {
   "cell_type": "code",
   "execution_count": null,
   "metadata": {},
   "outputs": [],
   "source": [
    "pred_com = pred_df.copy()\n",
    "pred_com['pred'] = pred_com.apply(lambda x: calc_pred(x.sn_user, x.time, res_com.params[1], res_com.params[2]), axis=1)"
   ]
  },
  {
   "cell_type": "code",
   "execution_count": null,
   "metadata": {},
   "outputs": [],
   "source": [
    "for lab, df in {\"Compound\": pred_com, \"Negative\": pred_neg, \"Positive\": pred_pos}.items():\n",
    "    neg_group = df.groupby('sn_lab')\n",
    "    for sn_lab, grp in neg_group:\n",
    "        plt.plot(grp['year'], grp['pred'], label=sn_lab)\n",
    "    plt.legend(loc=\"lower left\")\n",
    "    plt.ylabel('Predicted Effect on Sentiment')\n",
    "    plt.xlabel('Years Since First Post')\n",
    "    plt.title('{} Sentiment'.format(lab))\n",
    "    plt.axhline(y=0, color='black', linestyle='-', alpha=0.5)\n",
    "    plt.tight_layout()\n",
    "    plt.savefig(path_fig / 'fixed-effects_time_{}.png'.format(lab))\n",
    "    plt.show()"
   ]
  },
  {
   "cell_type": "code",
   "execution_count": null,
   "metadata": {},
   "outputs": [],
   "source": [
    "print(sn_sub.groupby('user_url')['user_url'].count().describe())"
   ]
  },
  {
   "cell_type": "code",
   "execution_count": null,
   "metadata": {},
   "outputs": [],
   "source": [
    "print(nt_sub.groupby('user_url')['user_url'].count().describe())"
   ]
  },
  {
   "cell_type": "markdown",
   "metadata": {},
   "source": [
    "#### Month Grouped"
   ]
  },
  {
   "cell_type": "code",
   "execution_count": 28,
   "metadata": {},
   "outputs": [
    {
     "data": {
      "text/html": [
       "<div>\n",
       "<style scoped>\n",
       "    .dataframe tbody tr th:only-of-type {\n",
       "        vertical-align: middle;\n",
       "    }\n",
       "\n",
       "    .dataframe tbody tr th {\n",
       "        vertical-align: top;\n",
       "    }\n",
       "\n",
       "    .dataframe thead th {\n",
       "        text-align: right;\n",
       "    }\n",
       "</style>\n",
       "<table border=\"1\" class=\"dataframe\">\n",
       "  <thead>\n",
       "    <tr style=\"text-align: right;\">\n",
       "      <th></th>\n",
       "      <th>user_url</th>\n",
       "      <th>neg_sen_month</th>\n",
       "      <th>neu_sen_month</th>\n",
       "      <th>pos_sen_month</th>\n",
       "      <th>com_sen_month</th>\n",
       "      <th>year</th>\n",
       "      <th>month</th>\n",
       "      <th>is_sn</th>\n",
       "      <th>group_id</th>\n",
       "      <th>time_period</th>\n",
       "      <th>first_period</th>\n",
       "      <th>time_since_first_period</th>\n",
       "    </tr>\n",
       "  </thead>\n",
       "  <tbody>\n",
       "    <tr>\n",
       "      <th>373718</th>\n",
       "      <td>01smith-c</td>\n",
       "      <td>0.016</td>\n",
       "      <td>0.770</td>\n",
       "      <td>0.214</td>\n",
       "      <td>0.9818</td>\n",
       "      <td>2020</td>\n",
       "      <td>4</td>\n",
       "      <td>0</td>\n",
       "      <td>0</td>\n",
       "      <td>75</td>\n",
       "      <td>75</td>\n",
       "      <td>0</td>\n",
       "    </tr>\n",
       "    <tr>\n",
       "      <th>144832</th>\n",
       "      <td>0407nc</td>\n",
       "      <td>0.120</td>\n",
       "      <td>0.822</td>\n",
       "      <td>0.058</td>\n",
       "      <td>-0.9638</td>\n",
       "      <td>2017</td>\n",
       "      <td>2</td>\n",
       "      <td>0</td>\n",
       "      <td>1</td>\n",
       "      <td>37</td>\n",
       "      <td>37</td>\n",
       "      <td>0</td>\n",
       "    </tr>\n",
       "    <tr>\n",
       "      <th>151449</th>\n",
       "      <td>0407nc</td>\n",
       "      <td>0.155</td>\n",
       "      <td>0.731</td>\n",
       "      <td>0.114</td>\n",
       "      <td>-0.9717</td>\n",
       "      <td>2017</td>\n",
       "      <td>3</td>\n",
       "      <td>0</td>\n",
       "      <td>1</td>\n",
       "      <td>38</td>\n",
       "      <td>37</td>\n",
       "      <td>1</td>\n",
       "    </tr>\n",
       "    <tr>\n",
       "      <th>158885</th>\n",
       "      <td>0407nc</td>\n",
       "      <td>0.115</td>\n",
       "      <td>0.792</td>\n",
       "      <td>0.093</td>\n",
       "      <td>-0.9625</td>\n",
       "      <td>2017</td>\n",
       "      <td>4</td>\n",
       "      <td>0</td>\n",
       "      <td>1</td>\n",
       "      <td>39</td>\n",
       "      <td>37</td>\n",
       "      <td>2</td>\n",
       "    </tr>\n",
       "    <tr>\n",
       "      <th>165476</th>\n",
       "      <td>0407nc</td>\n",
       "      <td>0.190</td>\n",
       "      <td>0.709</td>\n",
       "      <td>0.101</td>\n",
       "      <td>-0.9493</td>\n",
       "      <td>2017</td>\n",
       "      <td>5</td>\n",
       "      <td>0</td>\n",
       "      <td>1</td>\n",
       "      <td>40</td>\n",
       "      <td>37</td>\n",
       "      <td>3</td>\n",
       "    </tr>\n",
       "  </tbody>\n",
       "</table>\n",
       "</div>"
      ],
      "text/plain": [
       "         user_url  neg_sen_month  neu_sen_month  pos_sen_month  com_sen_month  \\\n",
       "373718  01smith-c          0.016          0.770          0.214         0.9818   \n",
       "144832     0407nc          0.120          0.822          0.058        -0.9638   \n",
       "151449     0407nc          0.155          0.731          0.114        -0.9717   \n",
       "158885     0407nc          0.115          0.792          0.093        -0.9625   \n",
       "165476     0407nc          0.190          0.709          0.101        -0.9493   \n",
       "\n",
       "        year  month  is_sn  group_id  time_period  first_period  \\\n",
       "373718  2020      4      0         0           75            75   \n",
       "144832  2017      2      0         1           37            37   \n",
       "151449  2017      3      0         1           38            37   \n",
       "158885  2017      4      0         1           39            37   \n",
       "165476  2017      5      0         1           40            37   \n",
       "\n",
       "        time_since_first_period  \n",
       "373718                        0  \n",
       "144832                        0  \n",
       "151449                        1  \n",
       "158885                        2  \n",
       "165476                        3  "
      ]
     },
     "execution_count": 28,
     "metadata": {},
     "output_type": "execute_result"
    }
   ],
   "source": [
    "group_month = posts_month.copy()\n",
    "group_month = group_month.drop(['text_month'], axis=1)\n",
    "group_month['group_id'] = group_month.groupby('user_url').ngroup()\n",
    "group_month['time_period'] = group_month.sort_values(['year','month']).groupby(['year','month']).ngroup()\n",
    "group_month['first_period'] = group_month.groupby(['user_url'])['time_period'].transform('min')\n",
    "group_month['time_since_first_period'] = group_month['time_period'] - group_month['first_period']\n",
    "# group_month.to_stata(path_root / \"clean_data\" / \"netmums\" / \"fe-month-grouped.dta\")\n",
    "group_month.sort_values(['user_url', 'time_period']).head()"
   ]
  },
  {
   "cell_type": "markdown",
   "metadata": {
    "tags": []
   },
   "source": [
    "### 7. Attrition"
   ]
  },
  {
   "cell_type": "code",
   "execution_count": 76,
   "metadata": {},
   "outputs": [],
   "source": [
    "# sub.loc[sub['user_url']==\"0407nc\"].sort_values(\"date_created\")"
   ]
  },
  {
   "cell_type": "code",
   "execution_count": 47,
   "metadata": {},
   "outputs": [],
   "source": [
    "attrition = (sub\n",
    " .sort_values('date_created', ascending=True)\n",
    " .groupby('user_url')\n",
    " .agg(\n",
    "     first_date=('date_created', 'first'),\n",
    "     last_date=('date_created', 'last'),\n",
    "     count=('user_url', 'count'),\n",
    "     com=('com_sentiment', 'first'),\n",
    "     neg=('neg_sentiment', 'first'),\n",
    "     pos=('pos_sentiment', 'first')\n",
    " )\n",
    ")"
   ]
  },
  {
   "cell_type": "code",
   "execution_count": 48,
   "metadata": {},
   "outputs": [],
   "source": [
    "attrition['diff'] = (attrition['last_date'] - attrition['first_date']).dt.days\n",
    "attrition.reset_index(drop=False, inplace=True)\n",
    "attrition.loc[:, 'sn_user'] = \"no\"\n",
    "attrition.loc[attrition['user_url'].isin(sn_users['user_url']), 'sn_user'] = \"yes\""
   ]
  },
  {
   "cell_type": "code",
   "execution_count": 50,
   "metadata": {},
   "outputs": [],
   "source": [
    "attrition_gt1 = attrition.loc[attrition['count']>1]"
   ]
  },
  {
   "cell_type": "code",
   "execution_count": 71,
   "metadata": {},
   "outputs": [
    {
     "data": {
      "image/png": "[encoded data removed]",
      "text/plain": [
       "<Figure size 432x288 with 1 Axes>"
      ]
     },
     "metadata": {
      "needs_background": "light"
     },
     "output_type": "display_data"
    }
   ],
   "source": [
    "# plt.hist2d(attrition_gt1['diff'], np.log(attrition_gt1['count'], cmap=plt.cm.BuGn_r)\n",
    "plt.scatter(attrition_gt1['diff'], attrition_gt1['count'])\n",
    "plt.xticks(rotation=90)\n",
    "plt.ylabel('Number of Posts')\n",
    "plt.xlabel('Length of Post History (days)')\n",
    "plt.title('Distribution of Posts by Users')\n",
    "plt.tight_layout()\n",
    "plt.show()"
   ]
  },
  {
   "cell_type": "code",
   "execution_count": 73,
   "metadata": {},
   "outputs": [
    {
     "data": {
      "text/html": [
       "<table class=\"simpletable\">\n",
       "<caption>OLS Regression Results</caption>\n",
       "<tr>\n",
       "  <th>Dep. Variable:</th>          <td>count</td>      <th>  R-squared:         </th>  <td>   0.000</td>  \n",
       "</tr>\n",
       "<tr>\n",
       "  <th>Model:</th>                   <td>OLS</td>       <th>  Adj. R-squared:    </th>  <td>   0.000</td>  \n",
       "</tr>\n",
       "<tr>\n",
       "  <th>Method:</th>             <td>Least Squares</td>  <th>  F-statistic:       </th>  <td>   5.909</td>  \n",
       "</tr>\n",
       "<tr>\n",
       "  <th>Date:</th>             <td>Wed, 22 Sep 2021</td> <th>  Prob (F-statistic):</th>   <td>0.0151</td>   \n",
       "</tr>\n",
       "<tr>\n",
       "  <th>Time:</th>                 <td>14:21:40</td>     <th>  Log-Likelihood:    </th> <td>-5.9145e+05</td>\n",
       "</tr>\n",
       "<tr>\n",
       "  <th>No. Observations:</th>      <td> 79579</td>      <th>  AIC:               </th>  <td>1.183e+06</td> \n",
       "</tr>\n",
       "<tr>\n",
       "  <th>Df Residuals:</th>          <td> 79577</td>      <th>  BIC:               </th>  <td>1.183e+06</td> \n",
       "</tr>\n",
       "<tr>\n",
       "  <th>Df Model:</th>              <td>     1</td>      <th>                     </th>      <td> </td>     \n",
       "</tr>\n",
       "<tr>\n",
       "  <th>Covariance Type:</th>      <td>nonrobust</td>    <th>                     </th>      <td> </td>     \n",
       "</tr>\n",
       "</table>\n",
       "<table class=\"simpletable\">\n",
       "<tr>\n",
       "      <td></td>         <th>coef</th>     <th>std err</th>      <th>t</th>      <th>P>|t|</th>  <th>[0.025</th>    <th>0.975]</th>  \n",
       "</tr>\n",
       "<tr>\n",
       "  <th>Intercept</th> <td>   59.4927</td> <td>    1.532</td> <td>   38.844</td> <td> 0.000</td> <td>   56.491</td> <td>   62.495</td>\n",
       "</tr>\n",
       "<tr>\n",
       "  <th>com</th>       <td>    5.1166</td> <td>    2.105</td> <td>    2.431</td> <td> 0.015</td> <td>    0.991</td> <td>    9.242</td>\n",
       "</tr>\n",
       "</table>\n",
       "<table class=\"simpletable\">\n",
       "<tr>\n",
       "  <th>Omnibus:</th>       <td>253894.612</td> <th>  Durbin-Watson:     </th>    <td>   1.983</td>    \n",
       "</tr>\n",
       "<tr>\n",
       "  <th>Prob(Omnibus):</th>   <td> 0.000</td>   <th>  Jarque-Bera (JB):  </th> <td>86601236681.834</td>\n",
       "</tr>\n",
       "<tr>\n",
       "  <th>Skew:</th>            <td>51.713</td>   <th>  Prob(JB):          </th>    <td>    0.00</td>    \n",
       "</tr>\n",
       "<tr>\n",
       "  <th>Kurtosis:</th>       <td>5112.513</td>  <th>  Cond. No.          </th>    <td>    1.59</td>    \n",
       "</tr>\n",
       "</table><br/><br/>Notes:<br/>[1] Standard Errors assume that the covariance matrix of the errors is correctly specified."
      ],
      "text/plain": [
       "<class 'statsmodels.iolib.summary.Summary'>\n",
       "\"\"\"\n",
       "                            OLS Regression Results                            \n",
       "==============================================================================\n",
       "Dep. Variable:                  count   R-squared:                       0.000\n",
       "Model:                            OLS   Adj. R-squared:                  0.000\n",
       "Method:                 Least Squares   F-statistic:                     5.909\n",
       "Date:                Wed, 22 Sep 2021   Prob (F-statistic):             0.0151\n",
       "Time:                        14:21:40   Log-Likelihood:            -5.9145e+05\n",
       "No. Observations:               79579   AIC:                         1.183e+06\n",
       "Df Residuals:                   79577   BIC:                         1.183e+06\n",
       "Df Model:                           1                                         \n",
       "Covariance Type:            nonrobust                                         \n",
       "==============================================================================\n",
       "                 coef    std err          t      P>|t|      [0.025      0.975]\n",
       "------------------------------------------------------------------------------\n",
       "Intercept     59.4927      1.532     38.844      0.000      56.491      62.495\n",
       "com            5.1166      2.105      2.431      0.015       0.991       9.242\n",
       "==============================================================================\n",
       "Omnibus:                   253894.612   Durbin-Watson:                   1.983\n",
       "Prob(Omnibus):                  0.000   Jarque-Bera (JB):      86601236681.834\n",
       "Skew:                          51.713   Prob(JB):                         0.00\n",
       "Kurtosis:                    5112.513   Cond. No.                         1.59\n",
       "==============================================================================\n",
       "\n",
       "Notes:\n",
       "[1] Standard Errors assume that the covariance matrix of the errors is correctly specified.\n",
       "\"\"\""
      ]
     },
     "execution_count": 73,
     "metadata": {},
     "output_type": "execute_result"
    }
   ],
   "source": [
    "model_com = sm.OLS.from_formula(\"count ~ com\", data=attrition_gt1).fit()\n",
    "model_com.summary()"
   ]
  },
  {
   "cell_type": "code",
   "execution_count": 72,
   "metadata": {},
   "outputs": [
    {
     "data": {
      "text/html": [
       "<table class=\"simpletable\">\n",
       "<caption>OLS Regression Results</caption>\n",
       "<tr>\n",
       "  <th>Dep. Variable:</th>          <td>count</td>      <th>  R-squared:         </th>  <td>   0.021</td>  \n",
       "</tr>\n",
       "<tr>\n",
       "  <th>Model:</th>                   <td>OLS</td>       <th>  Adj. R-squared:    </th>  <td>   0.021</td>  \n",
       "</tr>\n",
       "<tr>\n",
       "  <th>Method:</th>             <td>Least Squares</td>  <th>  F-statistic:       </th>  <td>   581.8</td>  \n",
       "</tr>\n",
       "<tr>\n",
       "  <th>Date:</th>             <td>Wed, 22 Sep 2021</td> <th>  Prob (F-statistic):</th>   <td>  0.00</td>   \n",
       "</tr>\n",
       "<tr>\n",
       "  <th>Time:</th>                 <td>14:21:15</td>     <th>  Log-Likelihood:    </th> <td>-5.9059e+05</td>\n",
       "</tr>\n",
       "<tr>\n",
       "  <th>No. Observations:</th>      <td> 79579</td>      <th>  AIC:               </th>  <td>1.181e+06</td> \n",
       "</tr>\n",
       "<tr>\n",
       "  <th>Df Residuals:</th>          <td> 79575</td>      <th>  BIC:               </th>  <td>1.181e+06</td> \n",
       "</tr>\n",
       "<tr>\n",
       "  <th>Df Model:</th>              <td>     3</td>      <th>                     </th>      <td> </td>     \n",
       "</tr>\n",
       "<tr>\n",
       "  <th>Covariance Type:</th>      <td>nonrobust</td>    <th>                     </th>      <td> </td>     \n",
       "</tr>\n",
       "</table>\n",
       "<table class=\"simpletable\">\n",
       "<tr>\n",
       "           <td></td>             <th>coef</th>     <th>std err</th>      <th>t</th>      <th>P>|t|</th>  <th>[0.025</th>    <th>0.975]</th>  \n",
       "</tr>\n",
       "<tr>\n",
       "  <th>Intercept</th>          <td>   45.7551</td> <td>    1.558</td> <td>   29.359</td> <td> 0.000</td> <td>   42.701</td> <td>   48.810</td>\n",
       "</tr>\n",
       "<tr>\n",
       "  <th>sn_user[T.yes]</th>     <td>  243.3635</td> <td>    6.667</td> <td>   36.502</td> <td> 0.000</td> <td>  230.296</td> <td>  256.431</td>\n",
       "</tr>\n",
       "<tr>\n",
       "  <th>com</th>                <td>    1.6088</td> <td>    2.139</td> <td>    0.752</td> <td> 0.452</td> <td>   -2.584</td> <td>    5.802</td>\n",
       "</tr>\n",
       "<tr>\n",
       "  <th>com:sn_user[T.yes]</th> <td>   48.7816</td> <td>    9.331</td> <td>    5.228</td> <td> 0.000</td> <td>   30.493</td> <td>   67.070</td>\n",
       "</tr>\n",
       "</table>\n",
       "<table class=\"simpletable\">\n",
       "<tr>\n",
       "  <th>Omnibus:</th>       <td>255649.650</td> <th>  Durbin-Watson:     </th>    <td>   1.987</td>    \n",
       "</tr>\n",
       "<tr>\n",
       "  <th>Prob(Omnibus):</th>   <td> 0.000</td>   <th>  Jarque-Bera (JB):  </th> <td>93744358346.895</td>\n",
       "</tr>\n",
       "<tr>\n",
       "  <th>Skew:</th>            <td>52.730</td>   <th>  Prob(JB):          </th>    <td>    0.00</td>    \n",
       "</tr>\n",
       "<tr>\n",
       "  <th>Kurtosis:</th>       <td>5319.105</td>  <th>  Cond. No.          </th>    <td>    7.22</td>    \n",
       "</tr>\n",
       "</table><br/><br/>Notes:<br/>[1] Standard Errors assume that the covariance matrix of the errors is correctly specified."
      ],
      "text/plain": [
       "<class 'statsmodels.iolib.summary.Summary'>\n",
       "\"\"\"\n",
       "                            OLS Regression Results                            \n",
       "==============================================================================\n",
       "Dep. Variable:                  count   R-squared:                       0.021\n",
       "Model:                            OLS   Adj. R-squared:                  0.021\n",
       "Method:                 Least Squares   F-statistic:                     581.8\n",
       "Date:                Wed, 22 Sep 2021   Prob (F-statistic):               0.00\n",
       "Time:                        14:21:15   Log-Likelihood:            -5.9059e+05\n",
       "No. Observations:               79579   AIC:                         1.181e+06\n",
       "Df Residuals:                   79575   BIC:                         1.181e+06\n",
       "Df Model:                           3                                         \n",
       "Covariance Type:            nonrobust                                         \n",
       "======================================================================================\n",
       "                         coef    std err          t      P>|t|      [0.025      0.975]\n",
       "--------------------------------------------------------------------------------------\n",
       "Intercept             45.7551      1.558     29.359      0.000      42.701      48.810\n",
       "sn_user[T.yes]       243.3635      6.667     36.502      0.000     230.296     256.431\n",
       "com                    1.6088      2.139      0.752      0.452      -2.584       5.802\n",
       "com:sn_user[T.yes]    48.7816      9.331      5.228      0.000      30.493      67.070\n",
       "==============================================================================\n",
       "Omnibus:                   255649.650   Durbin-Watson:                   1.987\n",
       "Prob(Omnibus):                  0.000   Jarque-Bera (JB):      93744358346.895\n",
       "Skew:                          52.730   Prob(JB):                         0.00\n",
       "Kurtosis:                    5319.105   Cond. No.                         7.22\n",
       "==============================================================================\n",
       "\n",
       "Notes:\n",
       "[1] Standard Errors assume that the covariance matrix of the errors is correctly specified.\n",
       "\"\"\""
      ]
     },
     "execution_count": 72,
     "metadata": {},
     "output_type": "execute_result"
    }
   ],
   "source": [
    "model_com_int = sm.OLS.from_formula(\"count ~ com * sn_user\", data=attrition_gt1).fit()\n",
    "model_com_int.summary()"
   ]
  },
  {
   "cell_type": "code",
   "execution_count": 74,
   "metadata": {},
   "outputs": [
    {
     "data": {
      "text/html": [
       "<table class=\"simpletable\">\n",
       "<caption>OLS Regression Results</caption>\n",
       "<tr>\n",
       "  <th>Dep. Variable:</th>          <td>count</td>      <th>  R-squared:         </th>  <td>   0.000</td>  \n",
       "</tr>\n",
       "<tr>\n",
       "  <th>Model:</th>                   <td>OLS</td>       <th>  Adj. R-squared:    </th>  <td>   0.000</td>  \n",
       "</tr>\n",
       "<tr>\n",
       "  <th>Method:</th>             <td>Least Squares</td>  <th>  F-statistic:       </th>  <td>   5.649</td>  \n",
       "</tr>\n",
       "<tr>\n",
       "  <th>Date:</th>             <td>Wed, 22 Sep 2021</td> <th>  Prob (F-statistic):</th>   <td>0.0175</td>   \n",
       "</tr>\n",
       "<tr>\n",
       "  <th>Time:</th>                 <td>14:25:47</td>     <th>  Log-Likelihood:    </th> <td>-8.8718e+05</td>\n",
       "</tr>\n",
       "<tr>\n",
       "  <th>No. Observations:</th>      <td>122902</td>      <th>  AIC:               </th>  <td>1.774e+06</td> \n",
       "</tr>\n",
       "<tr>\n",
       "  <th>Df Residuals:</th>          <td>122900</td>      <th>  BIC:               </th>  <td>1.774e+06</td> \n",
       "</tr>\n",
       "<tr>\n",
       "  <th>Df Model:</th>              <td>     1</td>      <th>                     </th>      <td> </td>     \n",
       "</tr>\n",
       "<tr>\n",
       "  <th>Covariance Type:</th>      <td>nonrobust</td>    <th>                     </th>      <td> </td>     \n",
       "</tr>\n",
       "</table>\n",
       "<table class=\"simpletable\">\n",
       "<tr>\n",
       "      <td></td>         <th>coef</th>     <th>std err</th>      <th>t</th>      <th>P>|t|</th>  <th>[0.025</th>    <th>0.975]</th>  \n",
       "</tr>\n",
       "<tr>\n",
       "  <th>Intercept</th> <td>   36.9234</td> <td>    1.486</td> <td>   24.854</td> <td> 0.000</td> <td>   34.012</td> <td>   39.835</td>\n",
       "</tr>\n",
       "<tr>\n",
       "  <th>pos</th>       <td>   22.9891</td> <td>    9.672</td> <td>    2.377</td> <td> 0.017</td> <td>    4.032</td> <td>   41.946</td>\n",
       "</tr>\n",
       "</table>\n",
       "<table class=\"simpletable\">\n",
       "<tr>\n",
       "  <th>Omnibus:</th>       <td>421578.761</td> <th>  Durbin-Watson:     </th>     <td>   1.981</td>    \n",
       "</tr>\n",
       "<tr>\n",
       "  <th>Prob(Omnibus):</th>   <td> 0.000</td>   <th>  Jarque-Bera (JB):  </th> <td>310937060083.544</td>\n",
       "</tr>\n",
       "<tr>\n",
       "  <th>Skew:</th>            <td>63.736</td>   <th>  Prob(JB):          </th>     <td>    0.00</td>    \n",
       "</tr>\n",
       "<tr>\n",
       "  <th>Kurtosis:</th>       <td>7794.199</td>  <th>  Cond. No.          </th>     <td>    10.4</td>    \n",
       "</tr>\n",
       "</table><br/><br/>Notes:<br/>[1] Standard Errors assume that the covariance matrix of the errors is correctly specified."
      ],
      "text/plain": [
       "<class 'statsmodels.iolib.summary.Summary'>\n",
       "\"\"\"\n",
       "                            OLS Regression Results                            \n",
       "==============================================================================\n",
       "Dep. Variable:                  count   R-squared:                       0.000\n",
       "Model:                            OLS   Adj. R-squared:                  0.000\n",
       "Method:                 Least Squares   F-statistic:                     5.649\n",
       "Date:                Wed, 22 Sep 2021   Prob (F-statistic):             0.0175\n",
       "Time:                        14:25:47   Log-Likelihood:            -8.8718e+05\n",
       "No. Observations:              122902   AIC:                         1.774e+06\n",
       "Df Residuals:                  122900   BIC:                         1.774e+06\n",
       "Df Model:                           1                                         \n",
       "Covariance Type:            nonrobust                                         \n",
       "==============================================================================\n",
       "                 coef    std err          t      P>|t|      [0.025      0.975]\n",
       "------------------------------------------------------------------------------\n",
       "Intercept     36.9234      1.486     24.854      0.000      34.012      39.835\n",
       "pos           22.9891      9.672      2.377      0.017       4.032      41.946\n",
       "==============================================================================\n",
       "Omnibus:                   421578.761   Durbin-Watson:                   1.981\n",
       "Prob(Omnibus):                  0.000   Jarque-Bera (JB):     310937060083.544\n",
       "Skew:                          63.736   Prob(JB):                         0.00\n",
       "Kurtosis:                    7794.199   Cond. No.                         10.4\n",
       "==============================================================================\n",
       "\n",
       "Notes:\n",
       "[1] Standard Errors assume that the covariance matrix of the errors is correctly specified.\n",
       "\"\"\""
      ]
     },
     "execution_count": 74,
     "metadata": {},
     "output_type": "execute_result"
    }
   ],
   "source": [
    "model_pos = sm.OLS.from_formula(\"count ~ pos\", data=attrition).fit()\n",
    "model_pos.summary()"
   ]
  },
  {
   "cell_type": "code",
   "execution_count": 75,
   "metadata": {},
   "outputs": [
    {
     "data": {
      "text/html": [
       "<table class=\"simpletable\">\n",
       "<caption>OLS Regression Results</caption>\n",
       "<tr>\n",
       "  <th>Dep. Variable:</th>          <td>count</td>      <th>  R-squared:         </th>  <td>   0.022</td>  \n",
       "</tr>\n",
       "<tr>\n",
       "  <th>Model:</th>                   <td>OLS</td>       <th>  Adj. R-squared:    </th>  <td>   0.022</td>  \n",
       "</tr>\n",
       "<tr>\n",
       "  <th>Method:</th>             <td>Least Squares</td>  <th>  F-statistic:       </th>  <td>   909.5</td>  \n",
       "</tr>\n",
       "<tr>\n",
       "  <th>Date:</th>             <td>Wed, 22 Sep 2021</td> <th>  Prob (F-statistic):</th>   <td>  0.00</td>   \n",
       "</tr>\n",
       "<tr>\n",
       "  <th>Time:</th>                 <td>14:25:56</td>     <th>  Log-Likelihood:    </th> <td>-8.8584e+05</td>\n",
       "</tr>\n",
       "<tr>\n",
       "  <th>No. Observations:</th>      <td>122902</td>      <th>  AIC:               </th>  <td>1.772e+06</td> \n",
       "</tr>\n",
       "<tr>\n",
       "  <th>Df Residuals:</th>          <td>122898</td>      <th>  BIC:               </th>  <td>1.772e+06</td> \n",
       "</tr>\n",
       "<tr>\n",
       "  <th>Df Model:</th>              <td>     3</td>      <th>                     </th>      <td> </td>     \n",
       "</tr>\n",
       "<tr>\n",
       "  <th>Covariance Type:</th>      <td>nonrobust</td>    <th>                     </th>      <td> </td>     \n",
       "</tr>\n",
       "</table>\n",
       "<table class=\"simpletable\">\n",
       "<tr>\n",
       "           <td></td>             <th>coef</th>     <th>std err</th>      <th>t</th>      <th>P>|t|</th>  <th>[0.025</th>    <th>0.975]</th>  \n",
       "</tr>\n",
       "<tr>\n",
       "  <th>Intercept</th>          <td>   29.6632</td> <td>    1.503</td> <td>   19.740</td> <td> 0.000</td> <td>   26.718</td> <td>   32.608</td>\n",
       "</tr>\n",
       "<tr>\n",
       "  <th>sn_user[T.yes]</th>     <td>  136.6022</td> <td>    7.209</td> <td>   18.950</td> <td> 0.000</td> <td>  122.474</td> <td>  150.731</td>\n",
       "</tr>\n",
       "<tr>\n",
       "  <th>pos</th>                <td>    1.2661</td> <td>    9.753</td> <td>    0.130</td> <td> 0.897</td> <td>  -17.849</td> <td>   20.382</td>\n",
       "</tr>\n",
       "<tr>\n",
       "  <th>pos:sn_user[T.yes]</th> <td>  814.8579</td> <td>   50.385</td> <td>   16.173</td> <td> 0.000</td> <td>  716.103</td> <td>  913.612</td>\n",
       "</tr>\n",
       "</table>\n",
       "<table class=\"simpletable\">\n",
       "<tr>\n",
       "  <th>Omnibus:</th>       <td>424412.281</td> <th>  Durbin-Watson:     </th>     <td>   1.988</td>    \n",
       "</tr>\n",
       "<tr>\n",
       "  <th>Prob(Omnibus):</th>   <td> 0.000</td>   <th>  Jarque-Bera (JB):  </th> <td>336762976711.711</td>\n",
       "</tr>\n",
       "<tr>\n",
       "  <th>Skew:</th>            <td>65.002</td>   <th>  Prob(JB):          </th>     <td>    0.00</td>    \n",
       "</tr>\n",
       "<tr>\n",
       "  <th>Kurtosis:</th>       <td>8111.350</td>  <th>  Cond. No.          </th>     <td>    54.9</td>    \n",
       "</tr>\n",
       "</table><br/><br/>Notes:<br/>[1] Standard Errors assume that the covariance matrix of the errors is correctly specified."
      ],
      "text/plain": [
       "<class 'statsmodels.iolib.summary.Summary'>\n",
       "\"\"\"\n",
       "                            OLS Regression Results                            \n",
       "==============================================================================\n",
       "Dep. Variable:                  count   R-squared:                       0.022\n",
       "Model:                            OLS   Adj. R-squared:                  0.022\n",
       "Method:                 Least Squares   F-statistic:                     909.5\n",
       "Date:                Wed, 22 Sep 2021   Prob (F-statistic):               0.00\n",
       "Time:                        14:25:56   Log-Likelihood:            -8.8584e+05\n",
       "No. Observations:              122902   AIC:                         1.772e+06\n",
       "Df Residuals:                  122898   BIC:                         1.772e+06\n",
       "Df Model:                           3                                         \n",
       "Covariance Type:            nonrobust                                         \n",
       "======================================================================================\n",
       "                         coef    std err          t      P>|t|      [0.025      0.975]\n",
       "--------------------------------------------------------------------------------------\n",
       "Intercept             29.6632      1.503     19.740      0.000      26.718      32.608\n",
       "sn_user[T.yes]       136.6022      7.209     18.950      0.000     122.474     150.731\n",
       "pos                    1.2661      9.753      0.130      0.897     -17.849      20.382\n",
       "pos:sn_user[T.yes]   814.8579     50.385     16.173      0.000     716.103     913.612\n",
       "==============================================================================\n",
       "Omnibus:                   424412.281   Durbin-Watson:                   1.988\n",
       "Prob(Omnibus):                  0.000   Jarque-Bera (JB):     336762976711.711\n",
       "Skew:                          65.002   Prob(JB):                         0.00\n",
       "Kurtosis:                    8111.350   Cond. No.                         54.9\n",
       "==============================================================================\n",
       "\n",
       "Notes:\n",
       "[1] Standard Errors assume that the covariance matrix of the errors is correctly specified.\n",
       "\"\"\""
      ]
     },
     "execution_count": 75,
     "metadata": {},
     "output_type": "execute_result"
    }
   ],
   "source": [
    "model_pos_int = sm.OLS.from_formula(\"count ~ pos * sn_user\", data=attrition).fit()\n",
    "model_pos_int.summary()"
   ]
  },
  {
   "cell_type": "code",
   "execution_count": 76,
   "metadata": {},
   "outputs": [
    {
     "data": {
      "text/html": [
       "<table class=\"simpletable\">\n",
       "<caption>OLS Regression Results</caption>\n",
       "<tr>\n",
       "  <th>Dep. Variable:</th>          <td>count</td>      <th>  R-squared:         </th>  <td>   0.000</td>  \n",
       "</tr>\n",
       "<tr>\n",
       "  <th>Model:</th>                   <td>OLS</td>       <th>  Adj. R-squared:    </th>  <td>  -0.000</td>  \n",
       "</tr>\n",
       "<tr>\n",
       "  <th>Method:</th>             <td>Least Squares</td>  <th>  F-statistic:       </th>  <td>  0.1105</td>  \n",
       "</tr>\n",
       "<tr>\n",
       "  <th>Date:</th>             <td>Wed, 22 Sep 2021</td> <th>  Prob (F-statistic):</th>   <td> 0.740</td>   \n",
       "</tr>\n",
       "<tr>\n",
       "  <th>Time:</th>                 <td>14:27:27</td>     <th>  Log-Likelihood:    </th> <td>-8.8719e+05</td>\n",
       "</tr>\n",
       "<tr>\n",
       "  <th>No. Observations:</th>      <td>122902</td>      <th>  AIC:               </th>  <td>1.774e+06</td> \n",
       "</tr>\n",
       "<tr>\n",
       "  <th>Df Residuals:</th>          <td>122900</td>      <th>  BIC:               </th>  <td>1.774e+06</td> \n",
       "</tr>\n",
       "<tr>\n",
       "  <th>Df Model:</th>              <td>     1</td>      <th>                     </th>      <td> </td>     \n",
       "</tr>\n",
       "<tr>\n",
       "  <th>Covariance Type:</th>      <td>nonrobust</td>    <th>                     </th>      <td> </td>     \n",
       "</tr>\n",
       "</table>\n",
       "<table class=\"simpletable\">\n",
       "<tr>\n",
       "      <td></td>         <th>coef</th>     <th>std err</th>      <th>t</th>      <th>P>|t|</th>  <th>[0.025</th>    <th>0.975]</th>  \n",
       "</tr>\n",
       "<tr>\n",
       "  <th>Intercept</th> <td>   39.9761</td> <td>    1.352</td> <td>   29.579</td> <td> 0.000</td> <td>   37.327</td> <td>   42.625</td>\n",
       "</tr>\n",
       "<tr>\n",
       "  <th>neg</th>       <td>   -5.0189</td> <td>   15.101</td> <td>   -0.332</td> <td> 0.740</td> <td>  -34.617</td> <td>   24.580</td>\n",
       "</tr>\n",
       "</table>\n",
       "<table class=\"simpletable\">\n",
       "<tr>\n",
       "  <th>Omnibus:</th>       <td>421573.586</td> <th>  Durbin-Watson:     </th>     <td>   1.981</td>    \n",
       "</tr>\n",
       "<tr>\n",
       "  <th>Prob(Omnibus):</th>   <td> 0.000</td>   <th>  Jarque-Bera (JB):  </th> <td>310851410441.222</td>\n",
       "</tr>\n",
       "<tr>\n",
       "  <th>Skew:</th>            <td>63.733</td>   <th>  Prob(JB):          </th>     <td>    0.00</td>    \n",
       "</tr>\n",
       "<tr>\n",
       "  <th>Kurtosis:</th>       <td>7793.125</td>  <th>  Cond. No.          </th>     <td>    16.1</td>    \n",
       "</tr>\n",
       "</table><br/><br/>Notes:<br/>[1] Standard Errors assume that the covariance matrix of the errors is correctly specified."
      ],
      "text/plain": [
       "<class 'statsmodels.iolib.summary.Summary'>\n",
       "\"\"\"\n",
       "                            OLS Regression Results                            \n",
       "==============================================================================\n",
       "Dep. Variable:                  count   R-squared:                       0.000\n",
       "Model:                            OLS   Adj. R-squared:                 -0.000\n",
       "Method:                 Least Squares   F-statistic:                    0.1105\n",
       "Date:                Wed, 22 Sep 2021   Prob (F-statistic):              0.740\n",
       "Time:                        14:27:27   Log-Likelihood:            -8.8719e+05\n",
       "No. Observations:              122902   AIC:                         1.774e+06\n",
       "Df Residuals:                  122900   BIC:                         1.774e+06\n",
       "Df Model:                           1                                         \n",
       "Covariance Type:            nonrobust                                         \n",
       "==============================================================================\n",
       "                 coef    std err          t      P>|t|      [0.025      0.975]\n",
       "------------------------------------------------------------------------------\n",
       "Intercept     39.9761      1.352     29.579      0.000      37.327      42.625\n",
       "neg           -5.0189     15.101     -0.332      0.740     -34.617      24.580\n",
       "==============================================================================\n",
       "Omnibus:                   421573.586   Durbin-Watson:                   1.981\n",
       "Prob(Omnibus):                  0.000   Jarque-Bera (JB):     310851410441.222\n",
       "Skew:                          63.733   Prob(JB):                         0.00\n",
       "Kurtosis:                    7793.125   Cond. No.                         16.1\n",
       "==============================================================================\n",
       "\n",
       "Notes:\n",
       "[1] Standard Errors assume that the covariance matrix of the errors is correctly specified.\n",
       "\"\"\""
      ]
     },
     "execution_count": 76,
     "metadata": {},
     "output_type": "execute_result"
    }
   ],
   "source": [
    "model_neg = sm.OLS.from_formula(\"count ~ neg\", data=attrition).fit()\n",
    "model_neg.summary()"
   ]
  },
  {
   "cell_type": "code",
   "execution_count": 77,
   "metadata": {},
   "outputs": [
    {
     "data": {
      "text/html": [
       "<table class=\"simpletable\">\n",
       "<caption>OLS Regression Results</caption>\n",
       "<tr>\n",
       "  <th>Dep. Variable:</th>          <td>count</td>      <th>  R-squared:         </th>  <td>   0.020</td>  \n",
       "</tr>\n",
       "<tr>\n",
       "  <th>Model:</th>                   <td>OLS</td>       <th>  Adj. R-squared:    </th>  <td>   0.020</td>  \n",
       "</tr>\n",
       "<tr>\n",
       "  <th>Method:</th>             <td>Least Squares</td>  <th>  F-statistic:       </th>  <td>   817.0</td>  \n",
       "</tr>\n",
       "<tr>\n",
       "  <th>Date:</th>             <td>Wed, 22 Sep 2021</td> <th>  Prob (F-statistic):</th>   <td>  0.00</td>   \n",
       "</tr>\n",
       "<tr>\n",
       "  <th>Time:</th>                 <td>14:27:32</td>     <th>  Log-Likelihood:    </th> <td>-8.8597e+05</td>\n",
       "</tr>\n",
       "<tr>\n",
       "  <th>No. Observations:</th>      <td>122902</td>      <th>  AIC:               </th>  <td>1.772e+06</td> \n",
       "</tr>\n",
       "<tr>\n",
       "  <th>Df Residuals:</th>          <td>122898</td>      <th>  BIC:               </th>  <td>1.772e+06</td> \n",
       "</tr>\n",
       "<tr>\n",
       "  <th>Df Model:</th>              <td>     3</td>      <th>                     </th>      <td> </td>     \n",
       "</tr>\n",
       "<tr>\n",
       "  <th>Covariance Type:</th>      <td>nonrobust</td>    <th>                     </th>      <td> </td>     \n",
       "</tr>\n",
       "</table>\n",
       "<table class=\"simpletable\">\n",
       "<tr>\n",
       "           <td></td>             <th>coef</th>     <th>std err</th>      <th>t</th>      <th>P>|t|</th>  <th>[0.025</th>    <th>0.975]</th>  \n",
       "</tr>\n",
       "<tr>\n",
       "  <th>Intercept</th>          <td>   29.2705</td> <td>    1.369</td> <td>   21.387</td> <td> 0.000</td> <td>   26.588</td> <td>   31.953</td>\n",
       "</tr>\n",
       "<tr>\n",
       "  <th>sn_user[T.yes]</th>     <td>  224.5325</td> <td>    6.558</td> <td>   34.240</td> <td> 0.000</td> <td>  211.680</td> <td>  237.385</td>\n",
       "</tr>\n",
       "<tr>\n",
       "  <th>neg</th>                <td>    8.4342</td> <td>   15.234</td> <td>    0.554</td> <td> 0.580</td> <td>  -21.423</td> <td>   38.292</td>\n",
       "</tr>\n",
       "<tr>\n",
       "  <th>neg:sn_user[T.yes]</th> <td>   34.0733</td> <td>   80.163</td> <td>    0.425</td> <td> 0.671</td> <td> -123.045</td> <td>  191.191</td>\n",
       "</tr>\n",
       "</table>\n",
       "<table class=\"simpletable\">\n",
       "<tr>\n",
       "  <th>Omnibus:</th>       <td>424192.626</td> <th>  Durbin-Watson:     </th>     <td>   1.987</td>    \n",
       "</tr>\n",
       "<tr>\n",
       "  <th>Prob(Omnibus):</th>   <td> 0.000</td>   <th>  Jarque-Bera (JB):  </th> <td>334227411736.758</td>\n",
       "</tr>\n",
       "<tr>\n",
       "  <th>Skew:</th>            <td>64.904</td>   <th>  Prob(JB):          </th>     <td>    0.00</td>    \n",
       "</tr>\n",
       "<tr>\n",
       "  <th>Kurtosis:</th>       <td>8080.763</td>  <th>  Cond. No.          </th>     <td>    86.4</td>    \n",
       "</tr>\n",
       "</table><br/><br/>Notes:<br/>[1] Standard Errors assume that the covariance matrix of the errors is correctly specified."
      ],
      "text/plain": [
       "<class 'statsmodels.iolib.summary.Summary'>\n",
       "\"\"\"\n",
       "                            OLS Regression Results                            \n",
       "==============================================================================\n",
       "Dep. Variable:                  count   R-squared:                       0.020\n",
       "Model:                            OLS   Adj. R-squared:                  0.020\n",
       "Method:                 Least Squares   F-statistic:                     817.0\n",
       "Date:                Wed, 22 Sep 2021   Prob (F-statistic):               0.00\n",
       "Time:                        14:27:32   Log-Likelihood:            -8.8597e+05\n",
       "No. Observations:              122902   AIC:                         1.772e+06\n",
       "Df Residuals:                  122898   BIC:                         1.772e+06\n",
       "Df Model:                           3                                         \n",
       "Covariance Type:            nonrobust                                         \n",
       "======================================================================================\n",
       "                         coef    std err          t      P>|t|      [0.025      0.975]\n",
       "--------------------------------------------------------------------------------------\n",
       "Intercept             29.2705      1.369     21.387      0.000      26.588      31.953\n",
       "sn_user[T.yes]       224.5325      6.558     34.240      0.000     211.680     237.385\n",
       "neg                    8.4342     15.234      0.554      0.580     -21.423      38.292\n",
       "neg:sn_user[T.yes]    34.0733     80.163      0.425      0.671    -123.045     191.191\n",
       "==============================================================================\n",
       "Omnibus:                   424192.626   Durbin-Watson:                   1.987\n",
       "Prob(Omnibus):                  0.000   Jarque-Bera (JB):     334227411736.758\n",
       "Skew:                          64.904   Prob(JB):                         0.00\n",
       "Kurtosis:                    8080.763   Cond. No.                         86.4\n",
       "==============================================================================\n",
       "\n",
       "Notes:\n",
       "[1] Standard Errors assume that the covariance matrix of the errors is correctly specified.\n",
       "\"\"\""
      ]
     },
     "execution_count": 77,
     "metadata": {},
     "output_type": "execute_result"
    }
   ],
   "source": [
    "model_neg_int = sm.OLS.from_formula(\"count ~ neg * sn_user\", data=attrition).fit()\n",
    "model_neg_int.summary()"
   ]
  },
  {
   "cell_type": "markdown",
   "metadata": {},
   "source": [
    "### 8. Compare SN and NT"
   ]
  },
  {
   "cell_type": "code",
   "execution_count": 27,
   "metadata": {},
   "outputs": [
    {
     "name": "stdout",
     "output_type": "stream",
     "text": [
      "5340\n",
      "117562\n"
     ]
    }
   ],
   "source": [
    "# number of users\n",
    "print(sn_sub.drop_duplicates(\"user_url\").shape[0])\n",
    "print(nt_sub.drop_duplicates(\"user_url\").shape[0])"
   ]
  },
  {
   "cell_type": "code",
   "execution_count": 29,
   "metadata": {},
   "outputs": [
    {
     "name": "stdout",
     "output_type": "stream",
     "text": [
      "1368559\n",
      "3504999\n"
     ]
    }
   ],
   "source": [
    "# number of posts\n",
    "print(sn_sub.shape[0])\n",
    "print(nt_sub.shape[0])"
   ]
  },
  {
   "cell_type": "code",
   "execution_count": 20,
   "metadata": {},
   "outputs": [
    {
     "name": "stdout",
     "output_type": "stream",
     "text": [
      "13.0\n",
      "2.0\n"
     ]
    }
   ],
   "source": [
    "# median number of posts\n",
    "print(sn_sub.groupby('user_url')['date_created'].count().median())\n",
    "print(nt_sub.groupby('user_url')['date_created'].count().median())"
   ]
  },
  {
   "cell_type": "code",
   "execution_count": 22,
   "metadata": {},
   "outputs": [
    {
     "name": "stdout",
     "output_type": "stream",
     "text": [
      "22.0\n",
      "5.0\n"
     ]
    }
   ],
   "source": [
    "# median number of posts for people who post more than once\n",
    "sn_count = sn_sub.groupby('user_url')['date_created'].count()\n",
    "print(sn_count[sn_count > 1].median())\n",
    "nt_count = nt_sub.groupby('user_url')['date_created'].count()\n",
    "print(nt_count[nt_count > 1].median())"
   ]
  },
  {
   "cell_type": "code",
   "execution_count": 23,
   "metadata": {},
   "outputs": [
    {
     "name": "stdout",
     "output_type": "stream",
     "text": [
      "256.28445692883895\n",
      "29.814047056021504\n"
     ]
    }
   ],
   "source": [
    "# mean number of posts\n",
    "print(sn_sub.groupby('user_url')['date_created'].count().mean())\n",
    "print(nt_sub.groupby('user_url')['date_created'].count().mean())"
   ]
  },
  {
   "cell_type": "code",
   "execution_count": 26,
   "metadata": {},
   "outputs": [
    {
     "name": "stdout",
     "output_type": "stream",
     "text": [
      "722.0\n",
      "66.0\n"
     ]
    }
   ],
   "source": [
    "# median length on forum with at least two posts\n",
    "sn_len = (sn_sub\n",
    " .sort_values('date_created', ascending=True)\n",
    " .groupby('user_url')\n",
    " .agg(\n",
    "     first_date=('date_created', 'first'),\n",
    "     last_date=('date_created', 'last'),\n",
    "     count=('date_created', 'count')\n",
    " )\n",
    ")\n",
    "sn_len = sn_len.loc[sn_len['count']>1]\n",
    "sn_len['diff'] = (sn_len['last_date'] - sn_len['first_date']).dt.days\n",
    "print(sn_len['diff'].median())\n",
    "nt_len = (nt_sub\n",
    " .sort_values('date_created', ascending=True)\n",
    " .groupby('user_url')\n",
    " .agg(\n",
    "     first_date=('date_created', 'first'),\n",
    "     last_date=('date_created', 'last'),\n",
    "     count=('date_created', 'count')\n",
    " )\n",
    ")\n",
    "nt_len = nt_len.loc[nt_len['count']>1]\n",
    "nt_len['diff'] = (nt_len['last_date'] - nt_len['first_date']).dt.days\n",
    "print(nt_len['diff'].median())"
   ]
  }
 ],
 "metadata": {
  "kernelspec": {
   "display_name": "Python 3 (ipykernel)",
   "language": "python",
   "name": "python3"
  },
  "language_info": {
   "codemirror_mode": {
    "name": "ipython",
    "version": 3
   },
   "file_extension": ".py",
   "mimetype": "text/x-python",
   "name": "python",
   "nbconvert_exporter": "python",
   "pygments_lexer": "ipython3",
   "version": "3.8.11"
  }
 },
 "nbformat": 4,
 "nbformat_minor": 4
}

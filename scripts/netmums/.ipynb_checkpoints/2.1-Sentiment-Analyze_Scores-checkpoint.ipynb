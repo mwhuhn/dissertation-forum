{
 "cells": [
  {
   "cell_type": "markdown",
   "metadata": {},
   "source": [
    "# Analyze Sentiment for Forum Data\n",
    "This notebook loads the sentiment data and explores results"
   ]
  },
  {
   "cell_type": "markdown",
   "metadata": {},
   "source": [
    "## Imports"
   ]
  },
  {
   "cell_type": "code",
   "execution_count": 1,
   "metadata": {},
   "outputs": [],
   "source": [
    "import pandas as pd\n",
    "import numpy as np\n",
    "from vaderSentiment.vaderSentiment import SentimentIntensityAnalyzer\n",
    "from scipy.stats import ttest_ind, kde\n",
    "from datetime import datetime\n",
    "from pathlib import Path\n",
    "import matplotlib.pyplot as plt\n",
    "import math\n",
    "from statsmodels.formula.api  import ols\n",
    "from scraping import create_connection"
   ]
  },
  {
   "cell_type": "markdown",
   "metadata": {},
   "source": [
    "## Functions"
   ]
  },
  {
   "cell_type": "code",
   "execution_count": 2,
   "metadata": {},
   "outputs": [],
   "source": [
    "def ttest_sentiment(df, v):\n",
    "    \"\"\" run a t-test on the sentiment scores for\n",
    "        before and during the pandemic\n",
    "    :param df: data frame\n",
    "    :param v: the variable name to t-test on\n",
    "    :return: nothing, prints ttest results\n",
    "    \"\"\"\n",
    "    group_before = df.where(df['before'])[v].dropna()\n",
    "    group_during = df.where(df['during'])[v].dropna()\n",
    "    result = ttest_ind(group_before, group_during, equal_var=False, nan_policy=\"omit\")\n",
    "    print('\\n')\n",
    "    l = len(v)\n",
    "    print(' '*(l - 8) + 'variable    before    during statistic    pvalue')\n",
    "    print(v + '  {:1.6f}  {:1.6f} {:+1.6f}  {:1.6f}'.format(group_before.mean(), group_during.mean(), result.statistic, result.pvalue))"
   ]
  },
  {
   "cell_type": "code",
   "execution_count": 3,
   "metadata": {},
   "outputs": [],
   "source": [
    "def create_dates(df):\n",
    "    \"\"\" create date variables\n",
    "    :param df: data frame\n",
    "    :return: formatted data frame\n",
    "    \"\"\"\n",
    "    df['date_created'] = pd.to_datetime(df['date_created'])\n",
    "    df['before'] = df['date_created'] <= pd.Timestamp(2020,2,28)\n",
    "    df['during'] = df['date_created'] >= pd.Timestamp(2020,4,1)\n",
    "    df['march'] = ~df['before'] & ~df['during']\n",
    "    df.loc[df['before'], 'period'] = 'before'\n",
    "    df.loc[df['march'], 'period'] = 'march'\n",
    "    df.loc[df['during'], 'period'] = 'during'\n",
    "    df['weekday'] = df['date_created'].dt.day_name()\n",
    "    df['week_n'] = df['date_created'].dt.isocalendar().week\n",
    "    df['weekday_n'] = df['date_created'].dt.day\n",
    "    df['month'] = df['date_created'].dt.month_name()\n",
    "    df['month_n'] = df['date_created'].dt.month\n",
    "#     df['ymd'] = df['date_created'].dt.to_period('D')\n",
    "    return df"
   ]
  },
  {
   "cell_type": "code",
   "execution_count": 4,
   "metadata": {},
   "outputs": [],
   "source": [
    "def compare_parent_child(df):\n",
    "    parents = df[df[\"is_parent\"]]\n",
    "    parents = parents[[\"family_id\",\"neg_sentiment\",\"pos_sentiment\",\"compound_sentiment\"]]\n",
    "    children = df[~df[\"is_parent\"]]\n",
    "    children = children[[\"family_id\",\"neg_sentiment\",\"pos_sentiment\",\"compound_sentiment\"]]\n",
    "    children_ave = children.groupby(\"family_id\", as_index=False).mean()\n",
    "    compare = pd.merge(left=parents, right=children_ave, on=\"family_id\", how=\"inner\", suffixes=['_p','_c'])\n",
    "    compare['pos_diff'] = compare['pos_sentiment_p'] - compare['pos_sentiment_c']\n",
    "    compare['neg_diff'] = compare['neg_sentiment_p'] - compare['neg_sentiment_c']\n",
    "    compare['compound_diff'] = compare['compound_sentiment_p'] - compare['compound_sentiment_c']\n",
    "    return compare"
   ]
  },
  {
   "cell_type": "code",
   "execution_count": 5,
   "metadata": {},
   "outputs": [],
   "source": [
    "def season_sentiment(df, name, var):\n",
    "    grouping_ave = df.groupby([var])['compound_sentiment'].mean()\n",
    "    path_sen = path_parent / \"clean_data\" / \"sentiment_{0}_{1}.csv\".format(name, var)\n",
    "    path_sen = str(path_sen)\n",
    "    grouping_ave.to_csv(path_sen)\n",
    "    print(grouping_ave)"
   ]
  },
  {
   "cell_type": "code",
   "execution_count": 6,
   "metadata": {},
   "outputs": [],
   "source": [
    "def season_freq(df, name, var):\n",
    "    grouping_freq = df.groupby(var)[var].count()\n",
    "    path_freq = path_parent / \"clean_data\" / \"frequency_{0}_{1}.csv\".format(name, var)\n",
    "    path_freq = str(path_freq)\n",
    "    grouping_freq.to_csv(path_freq)\n",
    "    print(grouping_freq)"
   ]
  },
  {
   "cell_type": "code",
   "execution_count": 7,
   "metadata": {},
   "outputs": [],
   "source": [
    "def ave_sent_day(df):\n",
    "    daily_ave = df[['date_created','com_sentiment']].copy()\n",
    "    daily_ave = daily_ave.set_index('date_created')\n",
    "    daily_ave = daily_ave.resample('D').mean().dropna(how='all')\n",
    "    daily_ave['period'] = \"March\"\n",
    "    daily_ave.loc[daily_ave.index <= pd.Timestamp(2020,2,28), 'period'] = \"Before\"\n",
    "    daily_ave.loc[daily_ave.index >= pd.Timestamp(2020,4,1), 'period'] = \"During\"\n",
    "    return daily_ave"
   ]
  },
  {
   "cell_type": "code",
   "execution_count": 8,
   "metadata": {},
   "outputs": [],
   "source": [
    "def daily_freq(df):\n",
    "    freq = df[['date_created', 'com_sentiment']].copy()\n",
    "    freq = freq.set_index('date_created')\n",
    "    freq = freq.resample('D').size().dropna(how='all').to_frame()\n",
    "    freq.columns = ['daily_count']\n",
    "    freq['period'] = \"March\"\n",
    "    freq.loc[freq.index <= pd.Timestamp(2020,2,28), 'period'] = \"Before\"\n",
    "    freq.loc[freq.index >= pd.Timestamp(2020,4,1), 'period'] = \"During\"\n",
    "    return freq"
   ]
  },
  {
   "cell_type": "code",
   "execution_count": 9,
   "metadata": {},
   "outputs": [],
   "source": [
    "def filter_dates(df, start, end):\n",
    "    mask = (df['date_created'] >= start) & (df['date_created'] < end)\n",
    "    return df.loc[mask]"
   ]
  },
  {
   "cell_type": "markdown",
   "metadata": {},
   "source": [
    "## File Locations"
   ]
  },
  {
   "cell_type": "code",
   "execution_count": 10,
   "metadata": {},
   "outputs": [],
   "source": [
    "p = Path.cwd()\n",
    "path_root = p.parents[1]"
   ]
  },
  {
   "cell_type": "code",
   "execution_count": 11,
   "metadata": {},
   "outputs": [],
   "source": [
    "path_db = path_root / \"database\" / \"netmums-merged.db\"\n",
    "path_db = str(path_db)\n",
    "path_sn = path_root / \"clean_data\" / \"netmums\" / \"sn_sentiment.csv\"\n",
    "path_nt = path_root / \"clean_data\" / \"netmums\" / \"nt_sentiment.csv\"\n",
    "path_fig = path_root / \"plots\" / \"netmums\" "
   ]
  },
  {
   "cell_type": "markdown",
   "metadata": {},
   "source": [
    "## Load Data"
   ]
  },
  {
   "cell_type": "code",
   "execution_count": null,
   "metadata": {},
   "outputs": [],
   "source": [
    "conn = create_connection(path_db)"
   ]
  },
  {
   "cell_type": "code",
   "execution_count": null,
   "metadata": {},
   "outputs": [],
   "source": [
    "# sql = \"\"\"\n",
    "#     SELECT COUNT(DISTINCT u.name)\n",
    "#     FROM users AS u\n",
    "# \"\"\""
   ]
  },
  {
   "cell_type": "code",
   "execution_count": null,
   "metadata": {},
   "outputs": [],
   "source": [
    "# counts = pd.read_sql_query(sql, conn)\n",
    "# print(counts)"
   ]
  },
  {
   "cell_type": "markdown",
   "metadata": {},
   "source": [
    "Counts of posts in each subforum"
   ]
  },
  {
   "cell_type": "code",
   "execution_count": null,
   "metadata": {},
   "outputs": [],
   "source": [
    "# counts_sql = '''\n",
    "#     SELECT f.id, COUNT(p.id), MIN(date_created), MAX(date_created)\n",
    "#     FROM posts AS p\n",
    "#     LEFT JOIN threads AS t\n",
    "#     ON t.id=p.thread_id\n",
    "#     LEFT JOIN subforums AS s\n",
    "#     ON s.id=t.subforum_id\n",
    "#     LEFT JOIN forums AS f\n",
    "#     ON f.id=s.forum_id\n",
    "#     GROUP BY f.id\n",
    "# '''\n",
    "# counts = pd.read_sql_query(counts_sql, conn)"
   ]
  },
  {
   "cell_type": "code",
   "execution_count": null,
   "metadata": {},
   "outputs": [],
   "source": [
    "# counts"
   ]
  },
  {
   "cell_type": "markdown",
   "metadata": {},
   "source": [
    "### Query Forums"
   ]
  },
  {
   "cell_type": "code",
   "execution_count": null,
   "metadata": {},
   "outputs": [],
   "source": [
    "posts_sql = '''\n",
    "    SELECT\n",
    "        p.id AS post_id,\n",
    "        p.date_created AS date_created,\n",
    "        p.thread_id AS thread_id,\n",
    "        p.user_url,\n",
    "        sen.neg_sen_clean AS neg_sentiment,\n",
    "        sen.neu_sen_clean AS neu_sentiment,\n",
    "        sen.pos_sen_clean AS pos_sentiment,\n",
    "        sen.com_sen_clean AS com_sentiment,\n",
    "        f.id AS forum_id\n",
    "    FROM sentiment AS sen\n",
    "    LEFT JOIN posts AS p\n",
    "    ON p.id = sen.post_id\n",
    "    LEFT JOIN threads AS t\n",
    "    ON t.id=p.thread_id\n",
    "    LEFT JOIN subforums AS s\n",
    "    ON s.id=t.subforum_id\n",
    "    LEFT JOIN forums AS f\n",
    "    ON f.id=s.forum_id\n",
    "'''"
   ]
  },
  {
   "cell_type": "code",
   "execution_count": null,
   "metadata": {},
   "outputs": [],
   "source": [
    "posts = pd.read_sql_query(posts_sql, conn)"
   ]
  },
  {
   "cell_type": "markdown",
   "metadata": {},
   "source": [
    "Special needs forum users"
   ]
  },
  {
   "cell_type": "code",
   "execution_count": null,
   "metadata": {},
   "outputs": [],
   "source": [
    "conn.close()"
   ]
  },
  {
   "cell_type": "code",
   "execution_count": null,
   "metadata": {},
   "outputs": [],
   "source": [
    "posts = create_dates(posts)"
   ]
  },
  {
   "cell_type": "code",
   "execution_count": null,
   "metadata": {},
   "outputs": [],
   "source": [
    "posts.to_pickle(path_root / \"clean_data\" / \"netmums\" / \"posts_sentiment.pkl\")"
   ]
  },
  {
   "cell_type": "code",
   "execution_count": null,
   "metadata": {},
   "outputs": [],
   "source": [
    "sn_users = posts.loc[posts['forum_id']==24]\n",
    "sn_users = sn_users.drop_duplicates('user_url')[['user_url']]\n",
    "sn_users = sn_users.loc[sn_users['user_url']!=\"Anonymous\"]\n",
    "sn_users.reset_index(inplace=True, drop=True)"
   ]
  },
  {
   "cell_type": "code",
   "execution_count": null,
   "metadata": {},
   "outputs": [],
   "source": [
    "sn_users.to_pickle(path_root / \"clean_data\" / \"netmums\" / \"sn_users_df.pkl\")"
   ]
  },
  {
   "cell_type": "markdown",
   "metadata": {},
   "source": [
    "## Compare Sentiment"
   ]
  },
  {
   "cell_type": "code",
   "execution_count": 12,
   "metadata": {},
   "outputs": [],
   "source": [
    "posts = pd.read_pickle(path_root / \"clean_data\" / \"netmums\" / \"posts_sentiment.pkl\")\n",
    "sn_users = pd.read_pickle(path_root / \"clean_data\" / \"netmums\" / \"sn_users_df.pkl\")"
   ]
  },
  {
   "cell_type": "code",
   "execution_count": 13,
   "metadata": {},
   "outputs": [],
   "source": [
    "posts = posts.loc[posts['user_url']!=\"Anonymous\"]"
   ]
  },
  {
   "cell_type": "code",
   "execution_count": 14,
   "metadata": {},
   "outputs": [],
   "source": [
    "sn = posts.loc[posts['user_url'].isin(sn_users['user_url'])]\n",
    "nt = posts.loc[~posts['user_url'].isin(sn_users['user_url'])]"
   ]
  },
  {
   "cell_type": "markdown",
   "metadata": {
    "tags": []
   },
   "source": [
    "### 1. Subsets in correct date range: 2018-01-01 to 2020-12-31"
   ]
  },
  {
   "cell_type": "code",
   "execution_count": 15,
   "metadata": {},
   "outputs": [],
   "source": [
    "sn_sub = filter_dates(sn, pd.Timestamp(2014, 1, 1, 0, 0, 0), pd.Timestamp(2021, 1, 1, 0, 0, 0)).copy()\n",
    "nt_sub = filter_dates(nt, pd.Timestamp(2014, 1, 1, 0, 0, 0), pd.Timestamp(2021, 1, 1, 0, 0, 0)).copy()"
   ]
  },
  {
   "cell_type": "markdown",
   "metadata": {},
   "source": [
    "### 2. Comparing sentiment before and during pandemic with a t-test"
   ]
  },
  {
   "cell_type": "code",
   "execution_count": null,
   "metadata": {},
   "outputs": [],
   "source": [
    "for name, df in {\"Special Needs\":sn_sub, \"Neurotypical\":nt_sub}.items():\n",
    "    print(name)\n",
    "    ttest_sentiment(df, 'neg_sentiment')\n",
    "    ttest_sentiment(df, 'neu_sentiment')\n",
    "    ttest_sentiment(df, 'pos_sentiment')\n",
    "    ttest_sentiment(df, 'com_sentiment')\n",
    "    print(\"\\n\")"
   ]
  },
  {
   "cell_type": "code",
   "execution_count": null,
   "metadata": {},
   "outputs": [],
   "source": [
    "for name, df in {\"Special Needs\":sn_sub, \"Neurotypical\":nt_sub}.items():\n",
    "# for name, df in {\"Special Needs\":sn_sub}.items():\n",
    "    fig, ax = plt.subplots()\n",
    "    width = 0.35\n",
    "    sentiments = ['Negative', 'Positive']\n",
    "    x_pos = np.arange(len(sentiments))\n",
    "\n",
    "    before_mean = [df[\"neg_sentiment\"][df['before']].mean(),\n",
    "                   df[\"pos_sentiment\"][df['before']].mean()]\n",
    "    before_se = [df[\"neg_sentiment\"][df['before']].std()/math.sqrt(len(df[\"neg_sentiment\"][df['before']])),\n",
    "                 df[\"pos_sentiment\"][df['before']].std()/math.sqrt(len(df[\"pos_sentiment\"][df['before']]))]\n",
    "    during_mean = [df[\"neg_sentiment\"][df['during']].mean(),\n",
    "                   df[\"pos_sentiment\"][df['during']].mean()]\n",
    "    during_se = [df[\"neg_sentiment\"][df['during']].std()/math.sqrt(len(df[\"neg_sentiment\"][df['during']])),\n",
    "                 df[\"pos_sentiment\"][df['during']].std()/math.sqrt(len(df[\"pos_sentiment\"][df['during']]))]\n",
    "\n",
    "    rects_before = ax.bar(x_pos - width/2, before_mean, width, yerr=before_se,\n",
    "                    label='Before', capsize=5, color=\"cornflowerblue\")\n",
    "    rects_during = ax.bar(x_pos + width/2, during_mean, width, yerr=during_se,\n",
    "                    label='During', capsize=5, color=\"indianred\")\n",
    "\n",
    "    # Add some text for labels, title and custom x-axis tick labels, etc.\n",
    "    ax.set_ylabel('Average Sentiment Score\\n(normalized 0 to 1)')\n",
    "    ax.set_title('Comparison of Sentiment Scores: {}'.format(name))\n",
    "    ax.set_xticks(x_pos)\n",
    "    ax.set_xticklabels(sentiments)\n",
    "    ax.legend()\n",
    "    fig.tight_layout()\n",
    "#     plt.savefig('../plots/sentiment_neg_pos.png')\n",
    "    plt.show()"
   ]
  },
  {
   "cell_type": "markdown",
   "metadata": {},
   "source": [
    "### 3. Comparing sentiment of parent and child posts"
   ]
  },
  {
   "cell_type": "code",
   "execution_count": null,
   "metadata": {},
   "outputs": [],
   "source": [
    "# for df in [sn_sub, td_sub]:\n",
    "#     print(\"\\nGROUP\\n\")\n",
    "#     compare = compare_parent_child(df)\n",
    "#     est_pos = ols(formula = 'pos_sentiment_c ~ pos_sentiment_p', data = compare).fit()\n",
    "#     print(est_pos.summary())\n",
    "#     est_neg = ols(formula = 'neg_sentiment_c ~ neg_sentiment_p', data = compare).fit()\n",
    "#     print(est_neg.summary())\n",
    "#     est_compound = ols(formula = 'compound_sentiment_c ~ compound_sentiment_p', data = compare).fit()\n",
    "#     print(est_compound.summary())"
   ]
  },
  {
   "cell_type": "markdown",
   "metadata": {},
   "source": [
    "So this suggests if a parent comment's negative sentiment increases, the children's negative sentiment will increase as well. Perhaps redo this analysis on each observation rather than the average children's sentiment."
   ]
  },
  {
   "cell_type": "markdown",
   "metadata": {},
   "source": [
    "### 4. Compare density of compound sentiment"
   ]
  },
  {
   "cell_type": "code",
   "execution_count": null,
   "metadata": {},
   "outputs": [],
   "source": [
    "for name, df in {\"Special Needs\":sn_sub, \"Neurotypical\":nt_sub}.items():\n",
    "# for name, df in {\"Special Needs\":sn_sub}.items():\n",
    "    density_before = kde.gaussian_kde(df[\"com_sentiment\"][df['before']])\n",
    "    density_march = kde.gaussian_kde(df[\"com_sentiment\"][df['march']])\n",
    "    density_during = kde.gaussian_kde(df[\"com_sentiment\"][df['during']])\n",
    "    x = np.arange(-1.0, 1.0, 0.01)\n",
    "    plt.scatter(x, density_before(x), alpha=0.5, label=\"Before\")\n",
    "    plt.scatter(x, density_march(x), alpha=0.5, label=\"March\")\n",
    "    plt.scatter(x, density_during(x), alpha=0.5, label=\"During\")\n",
    "    plt.legend(loc=\"upper right\")\n",
    "    plt.title('Density of Compound Sentiment Scores: {}'.format(name))\n",
    "    plt.show()"
   ]
  },
  {
   "cell_type": "code",
   "execution_count": null,
   "metadata": {},
   "outputs": [],
   "source": [
    "size = 3\n",
    "for name, df in {\"Special Needs\":sn_sub, \"Neurotypical\":nt_sub}.items():\n",
    "# for name, df in {\"Special Needs\":sn_sub}.items():\n",
    "    daily_ave = ave_sent_day(df)\n",
    "    groups = daily_ave.groupby('period')\n",
    "    for period, group in groups:\n",
    "        plt.scatter(group.index, group.com_sentiment, label=period, s=size)\n",
    "    plt.legend(loc=\"lower left\")\n",
    "    plt.xticks(rotation=90)\n",
    "    plt.ylabel('Compound Sentiment\\n(normalized -1 to 1)')\n",
    "    plt.title('Daily Average Compound Sentiment Scores: {}'.format(name))\n",
    "    plt.axhline(y=0, color='black', linestyle='-', alpha=0.5)\n",
    "    plt.tight_layout()\n",
    "    plt.show()"
   ]
  },
  {
   "cell_type": "markdown",
   "metadata": {},
   "source": [
    "### 5. Compare post frequency over same period for special needs and toddler subforums"
   ]
  },
  {
   "cell_type": "markdown",
   "metadata": {},
   "source": [
    "Frequency"
   ]
  },
  {
   "cell_type": "code",
   "execution_count": null,
   "metadata": {},
   "outputs": [],
   "source": [
    "size = 3\n",
    "for name, df in {\"Special Needs\":sn_sub, \"Neurotypical\":nt_sub}.items():\n",
    "# for name, df in {\"Special Needs\":sn_sub}.items():\n",
    "    freq = daily_freq(df)\n",
    "    groups = freq.groupby('period')\n",
    "    for period, group in groups:\n",
    "        plt.scatter(group.index, group.daily_count, label=period, s=size)\n",
    "    plt.legend(loc=\"lower left\")\n",
    "    plt.xticks(rotation=90)\n",
    "    plt.ylabel('Frequency')\n",
    "    plt.title('Daily Frequency of Posts: {}'.format(name))\n",
    "    plt.axhline(y=0, color='black', linestyle='-', alpha=0.5)\n",
    "    plt.tight_layout()\n",
    "    plt.show()"
   ]
  },
  {
   "cell_type": "markdown",
   "metadata": {},
   "source": [
    "### 6. Compare within-individual sentiment over time"
   ]
  },
  {
   "cell_type": "code",
   "execution_count": 16,
   "metadata": {},
   "outputs": [],
   "source": [
    "def time_since(df):\n",
    "    df['first_post'] = df.groupby(['user_url'])['date_created'].transform('min')\n",
    "    df['time_since_first_post'] = (df['date_created'] - df['first_post']).dt.days\n",
    "    return df"
   ]
  },
  {
   "cell_type": "code",
   "execution_count": 17,
   "metadata": {},
   "outputs": [],
   "source": [
    "sn_sub = time_since(sn_sub)\n",
    "nt_sub = time_since(nt_sub)"
   ]
  },
  {
   "cell_type": "code",
   "execution_count": 18,
   "metadata": {},
   "outputs": [],
   "source": [
    "from linearmodels.panel import PanelOLS, PooledOLS\n",
    "import statsmodels.api as sm"
   ]
  },
  {
   "cell_type": "code",
   "execution_count": 19,
   "metadata": {},
   "outputs": [],
   "source": [
    "# sn_sub = pd.read_csv(path_sn)\n",
    "# nt_sub = pd.read_csv(path_nt)\n",
    "# sn_sub['group'] = \"sn\"\n",
    "# nt_sub['group'] = \"nt\"\n",
    "sub = sn_sub.append(nt_sub, ignore_index=True)\n",
    "sub['ymd'] = pd.to_datetime(sub['date_created']).dt.strftime('%Y-%m-%d')"
   ]
  },
  {
   "cell_type": "code",
   "execution_count": 26,
   "metadata": {},
   "outputs": [],
   "source": [
    "group = sub.groupby(['user_url', 'ymd']).agg(mean_com_sen=('com_sentiment', 'mean'), mean_pos_sen=('pos_sentiment', 'mean'), mean_neg_sen=('neg_sentiment', 'mean'))\n",
    "group = group.reset_index(drop=False)\n",
    "group['ymd'] = pd.to_datetime(group['ymd'])\n",
    "group['first_post'] = group.groupby(['user_url'])['ymd'].transform('min')\n",
    "group['time_since_first_post'] = (group['ymd'] - group['first_post'])\n",
    "group['time_since_first_post'] = group['time_since_first_post'].dt.days\n",
    "# group = group.set_index([\"user_url\", \"ymd\"])"
   ]
  },
  {
   "cell_type": "code",
   "execution_count": 27,
   "metadata": {},
   "outputs": [],
   "source": [
    "group['before'] = group['ymd'] <= pd.Timestamp(2020,2,28)\n",
    "group['during'] = group['ymd'] >= pd.Timestamp(2020,4,1)\n",
    "group['march'] = ~group['before'] & ~group['during']"
   ]
  },
  {
   "cell_type": "code",
   "execution_count": 28,
   "metadata": {},
   "outputs": [],
   "source": [
    "one_obs = group.groupby('user_url').agg(count=('user_url', 'count'))\n",
    "one_obs.reset_index(inplace=True, drop=False)\n",
    "one_obs = one_obs.loc[one_obs['count']==1]\n",
    "group = group.loc[~(group['user_url'].isin(one_obs['user_url']))]\n",
    "# group.groupby('user_url').agg(mean=('time_since_first_post', 'mean'))"
   ]
  },
  {
   "cell_type": "code",
   "execution_count": 29,
   "metadata": {},
   "outputs": [],
   "source": [
    "# sn_users = group.loc[group['user_url'].isin(sn_sub['user_url']), 'user_url'].drop_duplicates().reset_index(drop=True)\n",
    "group.loc[:, 'sn_user'] = \"no\"\n",
    "group.loc[group['user_url'].isin(sn_users['user_url']), 'sn_user'] = \"yes\""
   ]
  },
  {
   "cell_type": "code",
   "execution_count": 30,
   "metadata": {},
   "outputs": [],
   "source": [
    "group['years_since_first_post'] = group['time_since_first_post'] / 365"
   ]
  },
  {
   "cell_type": "code",
   "execution_count": null,
   "metadata": {},
   "outputs": [],
   "source": [
    "# group['group_id'] = group.groupby('user_url').ngroup()\n",
    "# group.to_stata(path_root / \"clean_data\" / \"netmums\" / \"fe-grouped.dta\")"
   ]
  },
  {
   "cell_type": "code",
   "execution_count": 31,
   "metadata": {},
   "outputs": [],
   "source": [
    "counts = group.groupby('user_url').agg(count=('ymd', 'count')).reset_index(drop=False)"
   ]
  },
  {
   "cell_type": "code",
   "execution_count": 32,
   "metadata": {},
   "outputs": [],
   "source": [
    "users10 = counts.loc[counts['count'] >= 10, \"user_url\"]\n",
    "users20 = counts.loc[counts['count'] >= 20, \"user_url\"]\n",
    "users30 = counts.loc[counts['count'] >= 30, \"user_url\"]\n",
    "users50 = counts.loc[counts['count'] >= 50, \"user_url\"]"
   ]
  },
  {
   "cell_type": "code",
   "execution_count": null,
   "metadata": {},
   "outputs": [],
   "source": [
    "# counts.loc[counts['user_url'].isin(users30)].boxplot(column=\"count\", by=\"sn_user\")"
   ]
  },
  {
   "cell_type": "code",
   "execution_count": 33,
   "metadata": {},
   "outputs": [],
   "source": [
    "group10 = group.loc[group[\"user_url\"].isin(users10)]\n",
    "group20 = group.loc[group[\"user_url\"].isin(users20)]\n",
    "group30 = group.loc[group[\"user_url\"].isin(users30)]\n",
    "group50 = group.loc[group[\"user_url\"].isin(users50)]\n",
    "group = group.set_index([\"user_url\", \"ymd\"])\n",
    "group10 = group10.set_index([\"user_url\", \"ymd\"])\n",
    "group20 = group20.set_index([\"user_url\", \"ymd\"])\n",
    "group30 = group30.set_index([\"user_url\", \"ymd\"])\n",
    "group50 = group50.set_index([\"user_url\", \"ymd\"])"
   ]
  },
  {
   "cell_type": "code",
   "execution_count": 61,
   "metadata": {},
   "outputs": [],
   "source": [
    "group.reset_index(drop=False).to_csv(path_root / \"clean_data\" / \"netmums\" / \"group-fe.csv\", index=False, encoding=\"utf-8\")"
   ]
  },
  {
   "cell_type": "code",
   "execution_count": 81,
   "metadata": {},
   "outputs": [],
   "source": [
    "group_ent = group.reset_index(drop=False).copy()\n",
    "ymd = group_ent['ymd']\n",
    "group_ent = group_ent.set_index([\"user_url\", \"ymd\"])\n",
    "group_ent['ymd'] = ymd "
   ]
  },
  {
   "cell_type": "code",
   "execution_count": 88,
   "metadata": {},
   "outputs": [
    {
     "name": "stderr",
     "output_type": "stream",
     "text": [
      "/home/mwh/miniconda3/envs/forum/lib/python3.8/site-packages/linearmodels/panel/model.py:1491: MemoryWarning: Using low-memory algorithm to estimate two-way model. Explicitly set low_memory=True to silence this message.  Set low_memory=False to use the standard algorithm that creates dummy variables for the smaller of the number of entities or number of time periods.\n",
      "  warnings.warn(\n",
      "/home/mwh/miniconda3/envs/forum/lib/python3.8/site-packages/linearmodels/panel/model.py:1796: AbsorbingEffectWarning: \n",
      "Variables have been fully absorbed and have removed from the regression:\n",
      "\n",
      "sn_user[T.yes], years_since_first_post\n",
      "\n",
      "  warnings.warn(\n"
     ]
    },
    {
     "name": "stdout",
     "output_type": "stream",
     "text": [
      "                          PanelOLS Estimation Summary                           \n",
      "================================================================================\n",
      "Dep. Variable:           mean_com_sen   R-squared:                     9.188e-06\n",
      "Estimator:                   PanelOLS   R-squared (Between):             -0.0030\n",
      "No. Observations:             1535704   R-squared (Within):            3.387e-05\n",
      "Date:                Mon, Sep 06 2021   R-squared (Overall):              0.0002\n",
      "Time:                        22:04:22   Log-likelihood                -9.396e+05\n",
      "Cov. Estimator:            Unadjusted                                           \n",
      "                                        F-statistic:                      13.488\n",
      "Entities:                       65122   P-value                           0.0002\n",
      "Avg Obs:                       23.582   Distribution:               F(1,1468048)\n",
      "Min Obs:                       2.0000                                           \n",
      "Max Obs:                       1946.0   F-statistic (robust):             13.488\n",
      "                                        P-value                           0.0002\n",
      "Time periods:                    2534   Distribution:               F(1,1468048)\n",
      "Avg Obs:                       606.04                                           \n",
      "Min Obs:                       2.0000                                           \n",
      "Max Obs:                       1149.0                                           \n",
      "                                                                                \n",
      "                                           Parameter Estimates                                           \n",
      "=========================================================================================================\n",
      "                                       Parameter  Std. Err.     T-stat    P-value    Lower CI    Upper CI\n",
      "---------------------------------------------------------------------------------------------------------\n",
      "Intercept                                 0.3225     0.0005     652.92     0.0000      0.3216      0.3235\n",
      "sn_user[T.yes]:years_since_first_post    -0.0031     0.0008    -3.6727     0.0002     -0.0048     -0.0015\n",
      "=========================================================================================================\n",
      "\n",
      "F-test for Poolability: 4.4644\n",
      "P-value: 0.0000\n",
      "Distribution: F(67654,1468048)\n",
      "\n",
      "Included effects: Entity, Time\n"
     ]
    }
   ],
   "source": [
    "mod_com = PanelOLS.from_formula(\"mean_com_sen ~ 1 + sn_user * years_since_first_post + EntityEffects + TimeEffects\", data=group, drop_absorbed=True)\n",
    "print(mod_com.fit())"
   ]
  },
  {
   "cell_type": "code",
   "execution_count": 38,
   "metadata": {},
   "outputs": [
    {
     "name": "stderr",
     "output_type": "stream",
     "text": [
      "/home/mwh/miniconda3/envs/forum/lib/python3.8/site-packages/linearmodels/panel/model.py:1796: AbsorbingEffectWarning: \n",
      "Variables have been fully absorbed and have removed from the regression:\n",
      "\n",
      "sn_user[yes]\n",
      "\n",
      "  warnings.warn(\n"
     ]
    },
    {
     "name": "stdout",
     "output_type": "stream",
     "text": [
      "                          PanelOLS Estimation Summary                           \n",
      "================================================================================\n",
      "Dep. Variable:           mean_com_sen   R-squared:                     5.803e-05\n",
      "Estimator:                   PanelOLS   R-squared (Between):             -0.1688\n",
      "No. Observations:             1535704   R-squared (Within):            5.803e-05\n",
      "Date:                Mon, Sep 06 2021   R-squared (Overall):             -0.1295\n",
      "Time:                        16:39:14   Log-likelihood                -9.417e+05\n",
      "Cov. Estimator:            Unadjusted                                           \n",
      "                                        F-statistic:                      14.224\n",
      "Entities:                       65122   P-value                           0.0000\n",
      "Avg Obs:                       23.582   Distribution:               F(6,1470576)\n",
      "Min Obs:                       2.0000                                           \n",
      "Max Obs:                       1946.0   F-statistic (robust):             2208.1\n",
      "                                        P-value                           0.0000\n",
      "Time periods:                    2534   Distribution:               F(6,1470576)\n",
      "Avg Obs:                       606.04                                           \n",
      "Min Obs:                       2.0000                                           \n",
      "Max Obs:                       1149.0                                           \n",
      "                                                                                \n",
      "                                                  Parameter Estimates                                                   \n",
      "========================================================================================================================\n",
      "                                                      Parameter  Std. Err.     T-stat    P-value    Lower CI    Upper CI\n",
      "------------------------------------------------------------------------------------------------------------------------\n",
      "sn_user[no]                                              0.4331     0.0085     51.228     0.0000      0.4165      0.4496\n",
      "before[T.True]                                          -0.0061     0.0061    -1.0002     0.3172     -0.0180      0.0058\n",
      "sn_user[T.yes]:before[T.True]                           -0.0011     0.0205    -0.0528     0.9579     -0.0412      0.0391\n",
      "years_since_first_post                                   0.0015     0.0016     0.9236     0.3557     -0.0017      0.0047\n",
      "sn_user[T.yes]:years_since_first_post                   -0.0092     0.0041    -2.2478     0.0246     -0.0172     -0.0012\n",
      "years_since_first_post:before[T.True]                   -0.0031     0.0017    -1.8597     0.0629     -0.0063      0.0002\n",
      "sn_user[T.yes]:years_since_first_post:before[T.True]     0.0058     0.0041     1.4096     0.1587     -0.0023      0.0139\n",
      "========================================================================================================================\n",
      "\n",
      "F-test for Poolability: 4.5746\n",
      "P-value: 0.0000\n",
      "Distribution: F(65121,1470576)\n",
      "\n",
      "Included effects: Entity\n"
     ]
    }
   ],
   "source": [
    "mod_com_cov19 = PanelOLS.from_formula(\"mean_com_sen ~ sn_user * years_since_first_post * before + EntityEffects\", data=group, drop_absorbed=True)\n",
    "print(mod_com_cov19.fit())"
   ]
  },
  {
   "cell_type": "code",
   "execution_count": 90,
   "metadata": {},
   "outputs": [
    {
     "name": "stderr",
     "output_type": "stream",
     "text": [
      "/home/mwh/miniconda3/envs/forum/lib/python3.8/site-packages/linearmodels/panel/model.py:1491: MemoryWarning: Using low-memory algorithm to estimate two-way model. Explicitly set low_memory=True to silence this message.  Set low_memory=False to use the standard algorithm that creates dummy variables for the smaller of the number of entities or number of time periods.\n",
      "  warnings.warn(\n",
      "/home/mwh/miniconda3/envs/forum/lib/python3.8/site-packages/linearmodels/panel/model.py:1796: AbsorbingEffectWarning: \n",
      "Variables have been fully absorbed and have removed from the regression:\n",
      "\n",
      "sn_user[T.yes], years_since_first_post\n",
      "\n",
      "  warnings.warn(\n"
     ]
    },
    {
     "name": "stdout",
     "output_type": "stream",
     "text": [
      "                          PanelOLS Estimation Summary                           \n",
      "================================================================================\n",
      "Dep. Variable:           mean_pos_sen   R-squared:                     1.515e-06\n",
      "Estimator:                   PanelOLS   R-squared (Between):             -0.0038\n",
      "No. Observations:             1535704   R-squared (Within):            4.304e-05\n",
      "Date:                Mon, Sep 06 2021   R-squared (Overall):              0.0003\n",
      "Time:                        22:09:31   Log-likelihood                 1.299e+06\n",
      "Cov. Estimator:            Unadjusted                                           \n",
      "                                        F-statistic:                      2.2246\n",
      "Entities:                       65122   P-value                           0.1358\n",
      "Avg Obs:                       23.582   Distribution:               F(1,1468048)\n",
      "Min Obs:                       2.0000                                           \n",
      "Max Obs:                       1946.0   F-statistic (robust):             2.2246\n",
      "                                        P-value                           0.1358\n",
      "Time periods:                    2534   Distribution:               F(1,1468048)\n",
      "Avg Obs:                       606.04                                           \n",
      "Min Obs:                       2.0000                                           \n",
      "Max Obs:                       1149.0                                           \n",
      "                                                                                \n",
      "                                           Parameter Estimates                                           \n",
      "=========================================================================================================\n",
      "                                       Parameter  Std. Err.     T-stat    P-value    Lower CI    Upper CI\n",
      "---------------------------------------------------------------------------------------------------------\n",
      "Intercept                                 0.1457     0.0001     1267.8     0.0000      0.1455      0.1460\n",
      "sn_user[T.yes]:years_since_first_post    -0.0003     0.0002    -1.4915     0.1358     -0.0007   9.238e-05\n",
      "=========================================================================================================\n",
      "\n",
      "F-test for Poolability: 4.0659\n",
      "P-value: 0.0000\n",
      "Distribution: F(67654,1468048)\n",
      "\n",
      "Included effects: Entity, Time\n"
     ]
    }
   ],
   "source": [
    "mod_pos = PanelOLS.from_formula(\"mean_pos_sen ~ 1 + sn_user * years_since_first_post + EntityEffects + TimeEffects\", data=group, drop_absorbed=True)\n",
    "print(mod_pos.fit())"
   ]
  },
  {
   "cell_type": "code",
   "execution_count": 39,
   "metadata": {},
   "outputs": [
    {
     "name": "stderr",
     "output_type": "stream",
     "text": [
      "/home/mwh/miniconda3/envs/forum/lib/python3.8/site-packages/linearmodels/panel/model.py:1796: AbsorbingEffectWarning: \n",
      "Variables have been fully absorbed and have removed from the regression:\n",
      "\n",
      "sn_user[yes]\n",
      "\n",
      "  warnings.warn(\n"
     ]
    },
    {
     "name": "stdout",
     "output_type": "stream",
     "text": [
      "                          PanelOLS Estimation Summary                           \n",
      "================================================================================\n",
      "Dep. Variable:           mean_pos_sen   R-squared:                        0.0006\n",
      "Estimator:                   PanelOLS   R-squared (Between):             -0.8404\n",
      "No. Observations:             1535704   R-squared (Within):               0.0006\n",
      "Date:                Mon, Sep 06 2021   R-squared (Overall):             -0.4623\n",
      "Time:                        16:40:05   Log-likelihood                 1.297e+06\n",
      "Cov. Estimator:            Unadjusted                                           \n",
      "                                        F-statistic:                      138.91\n",
      "Entities:                       65122   P-value                           0.0000\n",
      "Avg Obs:                       23.582   Distribution:               F(6,1470576)\n",
      "Min Obs:                       2.0000                                           \n",
      "Max Obs:                       1946.0   F-statistic (robust):             8131.0\n",
      "                                        P-value                           0.0000\n",
      "Time periods:                    2534   Distribution:               F(6,1470576)\n",
      "Avg Obs:                       606.04                                           \n",
      "Min Obs:                       2.0000                                           \n",
      "Max Obs:                       1149.0                                           \n",
      "                                                                                \n",
      "                                                  Parameter Estimates                                                   \n",
      "========================================================================================================================\n",
      "                                                      Parameter  Std. Err.     T-stat    P-value    Lower CI    Upper CI\n",
      "------------------------------------------------------------------------------------------------------------------------\n",
      "sn_user[no]                                              0.1956     0.0020     99.394     0.0000      0.1918      0.1995\n",
      "before[T.True]                                           0.0002     0.0014     0.1684     0.8663     -0.0025      0.0030\n",
      "sn_user[T.yes]:before[T.True]                           -0.0031     0.0048    -0.6414     0.5213     -0.0124      0.0063\n",
      "years_since_first_post                                  -0.0002     0.0004    -0.6450     0.5190     -0.0010      0.0005\n",
      "sn_user[T.yes]:years_since_first_post                   -0.0034     0.0010    -3.5554     0.0004     -0.0053     -0.0015\n",
      "years_since_first_post:before[T.True]                   -0.0025     0.0004    -6.5916     0.0000     -0.0033     -0.0018\n",
      "sn_user[T.yes]:years_since_first_post:before[T.True]     0.0034     0.0010     3.6016     0.0003      0.0016      0.0053\n",
      "========================================================================================================================\n",
      "\n",
      "F-test for Poolability: 4.1421\n",
      "P-value: 0.0000\n",
      "Distribution: F(65121,1470576)\n",
      "\n",
      "Included effects: Entity\n"
     ]
    }
   ],
   "source": [
    "mod_pos_cov19 = PanelOLS.from_formula(\"mean_pos_sen ~ sn_user * years_since_first_post * before + EntityEffects\", data=group, drop_absorbed=True)\n",
    "print(mod_pos_cov19.fit())"
   ]
  },
  {
   "cell_type": "code",
   "execution_count": 92,
   "metadata": {},
   "outputs": [
    {
     "name": "stderr",
     "output_type": "stream",
     "text": [
      "/home/mwh/miniconda3/envs/forum/lib/python3.8/site-packages/linearmodels/panel/model.py:1491: MemoryWarning: Using low-memory algorithm to estimate two-way model. Explicitly set low_memory=True to silence this message.  Set low_memory=False to use the standard algorithm that creates dummy variables for the smaller of the number of entities or number of time periods.\n",
      "  warnings.warn(\n",
      "/home/mwh/miniconda3/envs/forum/lib/python3.8/site-packages/linearmodels/panel/model.py:1796: AbsorbingEffectWarning: \n",
      "Variables have been fully absorbed and have removed from the regression:\n",
      "\n",
      "sn_user[T.yes], years_since_first_post\n",
      "\n",
      "  warnings.warn(\n"
     ]
    },
    {
     "name": "stdout",
     "output_type": "stream",
     "text": [
      "                          PanelOLS Estimation Summary                           \n",
      "================================================================================\n",
      "Dep. Variable:           mean_neg_sen   R-squared:                     2.739e-05\n",
      "Estimator:                   PanelOLS   R-squared (Between):             -0.0044\n",
      "No. Observations:             1535704   R-squared (Within):           -7.236e-05\n",
      "Date:                Mon, Sep 06 2021   R-squared (Overall):             -0.0002\n",
      "Time:                        22:10:22   Log-likelihood                 2.316e+06\n",
      "Cov. Estimator:            Unadjusted                                           \n",
      "                                        F-statistic:                      40.213\n",
      "Entities:                       65122   P-value                           0.0000\n",
      "Avg Obs:                       23.582   Distribution:               F(1,1468048)\n",
      "Min Obs:                       2.0000                                           \n",
      "Max Obs:                       1946.0   F-statistic (robust):             40.213\n",
      "                                        P-value                           0.0000\n",
      "Time periods:                    2534   Distribution:               F(1,1468048)\n",
      "Avg Obs:                       606.04                                           \n",
      "Min Obs:                       2.0000                                           \n",
      "Max Obs:                       1149.0                                           \n",
      "                                                                                \n",
      "                                           Parameter Estimates                                           \n",
      "=========================================================================================================\n",
      "                                       Parameter  Std. Err.     T-stat    P-value    Lower CI    Upper CI\n",
      "---------------------------------------------------------------------------------------------------------\n",
      "Intercept                                 0.0575  5.929e-05     970.42     0.0000      0.0574      0.0577\n",
      "sn_user[T.yes]:years_since_first_post     0.0006     0.0001     6.3413     0.0000      0.0004      0.0008\n",
      "=========================================================================================================\n",
      "\n",
      "F-test for Poolability: 3.3321\n",
      "P-value: 0.0000\n",
      "Distribution: F(67654,1468048)\n",
      "\n",
      "Included effects: Entity, Time\n"
     ]
    }
   ],
   "source": [
    "mod_neg = PanelOLS.from_formula(\"mean_neg_sen ~ 1 + sn_user * years_since_first_post + EntityEffects + TimeEffects\", data=group, drop_absorbed=True)\n",
    "print(mod_neg.fit())"
   ]
  },
  {
   "cell_type": "code",
   "execution_count": 53,
   "metadata": {},
   "outputs": [
    {
     "name": "stderr",
     "output_type": "stream",
     "text": [
      "/home/mwh/miniconda3/envs/forum/lib/python3.8/site-packages/linearmodels/panel/model.py:1796: AbsorbingEffectWarning: \n",
      "Variables have been fully absorbed and have removed from the regression:\n",
      "\n",
      "sn_user[yes]\n",
      "\n",
      "  warnings.warn(\n"
     ]
    },
    {
     "name": "stdout",
     "output_type": "stream",
     "text": [
      "                          PanelOLS Estimation Summary                           \n",
      "================================================================================\n",
      "Dep. Variable:           mean_neg_sen   R-squared:                        0.0002\n",
      "Estimator:                   PanelOLS   R-squared (Between):             -0.3344\n",
      "No. Observations:             1535704   R-squared (Within):               0.0002\n",
      "Date:                Mon, Sep 06 2021   R-squared (Overall):             -0.3052\n",
      "Time:                        19:37:22   Log-likelihood                 2.314e+06\n",
      "Cov. Estimator:            Unadjusted                                           \n",
      "                                        F-statistic:                      48.747\n",
      "Entities:                       65122   P-value                           0.0000\n",
      "Avg Obs:                       23.582   Distribution:               F(6,1470576)\n",
      "Min Obs:                       2.0000                                           \n",
      "Max Obs:                       1946.0   F-statistic (robust):             5075.1\n",
      "                                        P-value                           0.0000\n",
      "Time periods:                    2534   Distribution:               F(6,1470576)\n",
      "Avg Obs:                       606.04                                           \n",
      "Min Obs:                       2.0000                                           \n",
      "Max Obs:                       1149.0                                           \n",
      "                                                                                \n",
      "                                                  Parameter Estimates                                                   \n",
      "========================================================================================================================\n",
      "                                                      Parameter  Std. Err.     T-stat    P-value    Lower CI    Upper CI\n",
      "------------------------------------------------------------------------------------------------------------------------\n",
      "sn_user[no]                                              0.0767     0.0010     75.646     0.0000      0.0748      0.0787\n",
      "before[T.True]                                          -0.0003     0.0007    -0.3702     0.7112     -0.0017      0.0012\n",
      "sn_user[T.yes]:before[T.True]                            0.0014     0.0025     0.5636     0.5730     -0.0034      0.0062\n",
      "years_since_first_post                                8.002e-05     0.0002     0.4060     0.6848     -0.0003      0.0005\n",
      "sn_user[T.yes]:years_since_first_post                    0.0006     0.0005     1.3043     0.1921     -0.0003      0.0016\n",
      "years_since_first_post:before[T.True]                   -0.0011     0.0002    -5.3690     0.0000     -0.0015     -0.0007\n",
      "sn_user[T.yes]:years_since_first_post:before[T.True]  6.347e-06     0.0005     0.0129     0.9897     -0.0010      0.0010\n",
      "========================================================================================================================\n",
      "\n",
      "F-test for Poolability: 3.4161\n",
      "P-value: 0.0000\n",
      "Distribution: F(65121,1470576)\n",
      "\n",
      "Included effects: Entity\n"
     ]
    }
   ],
   "source": [
    "mod_neg_cov19 = PanelOLS.from_formula(\"mean_neg_sen ~ sn_user * years_since_first_post * before + EntityEffects\", data=group, drop_absorbed=True)\n",
    "print(mod_neg_cov19.fit())"
   ]
  },
  {
   "cell_type": "code",
   "execution_count": 51,
   "metadata": {},
   "outputs": [],
   "source": [
    "# sub.loc[:, 'sn_user'] = \"no\"\n",
    "# sub.loc[sub['user_url'].isin(sn_users['user_url']), 'sn_user'] = \"yes\""
   ]
  },
  {
   "cell_type": "code",
   "execution_count": 50,
   "metadata": {},
   "outputs": [],
   "source": [
    "# import statsmodels.api as sm\n",
    "# import statsmodels.formula.api as smf\n",
    "# results = smf.ols('com_sentiment ~ before * sn_user * time_since_first_post', data=sub).fit()\n",
    "# print(results.summary())"
   ]
  },
  {
   "cell_type": "code",
   "execution_count": 52,
   "metadata": {},
   "outputs": [],
   "source": [
    "# results.predict(pd.DataFrame({'before': [True, False],\n",
    "#                               'sn_user': [\"no\", \"yes\"],\n",
    "#                               'time_since_first_post': [0, 100]}))"
   ]
  },
  {
   "cell_type": "code",
   "execution_count": 93,
   "metadata": {},
   "outputs": [],
   "source": [
    "res_com = mod_com.fit(cov_type='clustered', cluster_entity=True)\n",
    "res_pos = mod_pos.fit(cov_type='clustered', cluster_entity=True)\n",
    "res_neg = mod_neg.fit(cov_type='clustered', cluster_entity=True)"
   ]
  },
  {
   "cell_type": "code",
   "execution_count": null,
   "metadata": {},
   "outputs": [],
   "source": [
    "n_years = 6\n",
    "years = list(range(n_years))\n",
    "days = [365 * x for x in years]\n",
    "pred_dic = {\n",
    "    \"year\": years * 2,\n",
    "    \"time\": days * 2,\n",
    "    \"sn_user\": [\"no\"] * n_years + [\"yes\"] * n_years,\n",
    "    \"sn_lab\": [\"not Special-Needs user\"] * n_years + [\"Special-Needs user\"] * n_years\n",
    "}\n",
    "pred_df = pd.DataFrame(pred_dic)"
   ]
  },
  {
   "cell_type": "code",
   "execution_count": null,
   "metadata": {},
   "outputs": [],
   "source": [
    "def calc_pred(sn_user, years, b_time, b_sn_x_time):\n",
    "    if sn_user==\"no\":\n",
    "        return years * b_time\n",
    "    else:\n",
    "        return years * (b_time + b_sn_x_time)"
   ]
  },
  {
   "cell_type": "code",
   "execution_count": null,
   "metadata": {},
   "outputs": [],
   "source": [
    "pred_neg = pred_df.copy()\n",
    "pred_neg['pred'] = pred_neg.apply(lambda x: calc_pred(x.sn_user, x.time, res_neg.params[1], res_neg.params[2]), axis=1)"
   ]
  },
  {
   "cell_type": "code",
   "execution_count": null,
   "metadata": {},
   "outputs": [],
   "source": [
    "pred_pos = pred_df.copy()\n",
    "pred_pos['pred'] = pred_pos.apply(lambda x: calc_pred(x.sn_user, x.time, res_pos.params[1], res_pos.params[2]), axis=1)"
   ]
  },
  {
   "cell_type": "code",
   "execution_count": null,
   "metadata": {},
   "outputs": [],
   "source": [
    "pred_com = pred_df.copy()\n",
    "pred_com['pred'] = pred_com.apply(lambda x: calc_pred(x.sn_user, x.time, res_com.params[1], res_com.params[2]), axis=1)"
   ]
  },
  {
   "cell_type": "code",
   "execution_count": null,
   "metadata": {},
   "outputs": [],
   "source": [
    "for lab, df in {\"Compound\": pred_com, \"Negative\": pred_neg, \"Positive\": pred_pos}.items():\n",
    "    neg_group = df.groupby('sn_lab')\n",
    "    for sn_lab, grp in neg_group:\n",
    "        plt.plot(grp['year'], grp['pred'], label=sn_lab)\n",
    "    plt.legend(loc=\"lower left\")\n",
    "    plt.ylabel('Predicted Effect on Sentiment')\n",
    "    plt.xlabel('Years Since First Post')\n",
    "    plt.title('{} Sentiment'.format(lab))\n",
    "    plt.axhline(y=0, color='black', linestyle='-', alpha=0.5)\n",
    "    plt.tight_layout()\n",
    "    plt.savefig(path_fig / 'fixed-effects_time_{}.png'.format(lab))\n",
    "    plt.show()"
   ]
  },
  {
   "cell_type": "code",
   "execution_count": null,
   "metadata": {},
   "outputs": [],
   "source": [
    "print(sn_sub.groupby('user_url')['user_url'].count().describe())"
   ]
  },
  {
   "cell_type": "code",
   "execution_count": null,
   "metadata": {},
   "outputs": [],
   "source": [
    "print(nt_sub.groupby('user_url')['user_url'].count().describe())"
   ]
  },
  {
   "cell_type": "code",
   "execution_count": null,
   "metadata": {},
   "outputs": [],
   "source": []
  }
 ],
 "metadata": {
  "kernelspec": {
   "display_name": "Python 3 (ipykernel)",
   "language": "python",
   "name": "python3"
  },
  "language_info": {
   "codemirror_mode": {
    "name": "ipython",
    "version": 3
   },
   "file_extension": ".py",
   "mimetype": "text/x-python",
   "name": "python",
   "nbconvert_exporter": "python",
   "pygments_lexer": "ipython3",
   "version": "3.8.11"
  }
 },
 "nbformat": 4,
 "nbformat_minor": 4
}

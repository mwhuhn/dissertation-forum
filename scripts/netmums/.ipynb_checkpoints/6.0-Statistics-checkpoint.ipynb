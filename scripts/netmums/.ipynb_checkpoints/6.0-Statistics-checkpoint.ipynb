{
 "cells": [
  {
   "cell_type": "markdown",
   "id": "053c4e7a-29bb-408b-b82a-148d80587c5c",
   "metadata": {},
   "source": [
    "# Calculate Statistics"
   ]
  },
  {
   "cell_type": "markdown",
   "id": "90dd0007-2074-4f9b-9c00-0ffc25168495",
   "metadata": {},
   "source": [
    "## Imports"
   ]
  },
  {
   "cell_type": "code",
   "execution_count": null,
   "id": "05f36551-2f0c-42e7-969d-9b7984bb8ab2",
   "metadata": {},
   "outputs": [],
   "source": [
    "# Managing data\n",
    "import pandas as pd\n",
    "# DB connection\n",
    "from scraping import create_connection\n",
    "# Files & I/O\n",
    "import pickle\n",
    "import csv\n",
    "import os\n",
    "from pathlib import Path\n",
    "# Plotting\n",
    "import matplotlib.pyplot as plt"
   ]
  },
  {
   "cell_type": "markdown",
   "id": "0e00ac10-ae00-4b2f-ade4-cf1c83bd343b",
   "metadata": {},
   "source": [
    "## Load Data"
   ]
  },
  {
   "cell_type": "code",
   "execution_count": null,
   "id": "05c05b22-408b-4dfe-ba74-5afe84b8c58c",
   "metadata": {},
   "outputs": [],
   "source": [
    "p = Path.cwd()\n",
    "path_parent = p.parents[1]"
   ]
  },
  {
   "cell_type": "code",
   "execution_count": null,
   "id": "2844326d-002d-44f5-82f3-1488a4cbb3a4",
   "metadata": {},
   "outputs": [],
   "source": [
    "# database\n",
    "path_db = str(path_parent / \"database\" / \"netmums-merged.db\")\n",
    "path_clean_data = path_parent / \"clean_data\" / \"netmums\"\n"
   ]
  },
  {
   "cell_type": "code",
   "execution_count": null,
   "id": "2a81a38a-cffd-4dd7-8424-f09f61a1b26c",
   "metadata": {},
   "outputs": [],
   "source": [
    "forum = \"special-needs\"\n",
    "group = \"all\"\n",
    "id_type = \"family_id\""
   ]
  }
 ],
 "metadata": {
  "kernelspec": {
   "display_name": "Python 3 (ipykernel)",
   "language": "python",
   "name": "python3"
  },
  "language_info": {
   "codemirror_mode": {
    "name": "ipython",
    "version": 3
   },
   "file_extension": ".py",
   "mimetype": "text/x-python",
   "name": "python",
   "nbconvert_exporter": "python",
   "pygments_lexer": "ipython3",
   "version": "3.9.7"
  }
 },
 "nbformat": 4,
 "nbformat_minor": 5
}

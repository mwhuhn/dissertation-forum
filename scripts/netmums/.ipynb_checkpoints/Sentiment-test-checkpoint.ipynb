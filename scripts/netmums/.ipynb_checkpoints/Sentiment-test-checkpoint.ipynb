{
 "cells": [
  {
   "cell_type": "markdown",
   "id": "eda70deb-5e75-4c34-9cce-e3dbcbd770fa",
   "metadata": {},
   "source": [
    "## Sentiment"
   ]
  },
  {
   "cell_type": "code",
   "execution_count": null,
   "id": "c6728ec4-7f75-44b3-8ed4-de555d5a26fa",
   "metadata": {},
   "outputs": [],
   "source": [
    "from vaderSentiment.vaderSentiment import SentimentIntensityAnalyzer\n",
    "analyzer = SentimentIntensityAnalyzer()\n",
    "def sentiment_scores(sentence, analyzer):\n",
    "    \"\"\" create sentiment scores with the VADER analyzer\n",
    "    :param sentence: sentence to create scores for\n",
    "    :param analyzer: VADER sentiment analyzer\n",
    "    :return score: a dictionary of scores (neg, neu, pos, compound)\n",
    "    \"\"\"\n",
    "    score = analyzer.polarity_scores(sentence)\n",
    "    return score"
   ]
  },
  {
   "cell_type": "code",
   "execution_count": 21,
   "id": "deb3a8aa-45b6-4985-b9b7-8d9f58471de9",
   "metadata": {},
   "outputs": [
    {
     "data": {
      "text/plain": [
       "{'neg': 0.437, 'neu': 0.563, 'pos': 0.0, 'compound': -0.4767}"
      ]
     },
     "execution_count": 21,
     "metadata": {},
     "output_type": "execute_result"
    }
   ],
   "source": [
    "s = \"I had a terrible day\"\n",
    "sentiment_scores(s, analyzer)"
   ]
  },
  {
   "cell_type": "code",
   "execution_count": 25,
   "id": "7cd72a65-3729-44b5-b809-48f72e4c6f1a",
   "metadata": {},
   "outputs": [
    {
     "data": {
      "text/plain": [
       "{'neg': 0.209, 'neu': 0.698, 'pos': 0.093, 'compound': -0.3612}"
      ]
     },
     "execution_count": 25,
     "metadata": {},
     "output_type": "execute_result"
    }
   ],
   "source": [
    "s = \"My son had some problems at school and I feel overwhelmed.\"\n",
    "sentiment_scores(s, analyzer)"
   ]
  },
  {
   "cell_type": "code",
   "execution_count": 27,
   "id": "67529c28-921a-43a8-97d0-0d6845763022",
   "metadata": {},
   "outputs": [
    {
     "data": {
      "text/plain": [
       "{'neg': 0.418, 'neu': 0.582, 'pos': 0.0, 'compound': -0.5562}"
      ]
     },
     "execution_count": 27,
     "metadata": {},
     "output_type": "execute_result"
    }
   ],
   "source": [
    "s = \"I am soooo angry at everyone!\"\n",
    "sentiment_scores(s, analyzer)"
   ]
  },
  {
   "cell_type": "code",
   "execution_count": 36,
   "id": "1cd89373-b3d7-4204-96b6-92cd32ec6661",
   "metadata": {},
   "outputs": [
    {
     "data": {
      "text/plain": [
       "{'neg': 0.0, 'neu': 0.615, 'pos': 0.385, 'compound': 0.3612}"
      ]
     },
     "execution_count": 36,
     "metadata": {},
     "output_type": "execute_result"
    }
   ],
   "source": [
    "s = \"Thank you for your responses\"\n",
    "sentiment_scores(s, analyzer)"
   ]
  },
  {
   "cell_type": "code",
   "execution_count": 35,
   "id": "6177a8e8-c5b1-4bab-a62f-b32ceab36ce0",
   "metadata": {},
   "outputs": [
    {
     "data": {
      "text/plain": [
       "{'neg': 0.0, 'neu': 0.589, 'pos': 0.411, 'compound': 0.4199}"
      ]
     },
     "execution_count": 35,
     "metadata": {},
     "output_type": "execute_result"
    }
   ],
   "source": [
    "s = \"Thank you for your responses!\"\n",
    "sentiment_scores(s, analyzer)"
   ]
  },
  {
   "cell_type": "code",
   "execution_count": 34,
   "id": "4be3de6a-8c08-4941-b603-9fe4b6929255",
   "metadata": {},
   "outputs": [
    {
     "data": {
      "text/plain": [
       "{'neg': 0.0, 'neu': 0.426, 'pos': 0.574, 'compound': 0.6597}"
      ]
     },
     "execution_count": 34,
     "metadata": {},
     "output_type": "execute_result"
    }
   ],
   "source": [
    "s = \"Thank you for your responses <3\"\n",
    "sentiment_scores(s, analyzer)"
   ]
  },
  {
   "cell_type": "code",
   "execution_count": 43,
   "id": "92388fb7-bc8a-4bab-a9be-74ad51bbeea5",
   "metadata": {},
   "outputs": [
    {
     "data": {
      "text/plain": [
       "{'neg': 0.318, 'neu': 0.682, 'pos': 0.0, 'compound': -0.2183}"
      ]
     },
     "execution_count": 43,
     "metadata": {},
     "output_type": "execute_result"
    }
   ],
   "source": [
    "s = \"Why is this so hard\"\n",
    "sentiment_scores(s, analyzer)"
   ]
  },
  {
   "cell_type": "code",
   "execution_count": 49,
   "id": "d21bbc29-b945-48a5-95cc-bdd3dc5ab711",
   "metadata": {},
   "outputs": [
    {
     "data": {
      "text/plain": [
       "{'neg': 0.111, 'neu': 0.889, 'pos': 0.0, 'compound': -0.2183}"
      ]
     },
     "execution_count": 49,
     "metadata": {},
     "output_type": "execute_result"
    }
   ],
   "source": [
    "s = \"Why is this so hard? I don't know how much more of this I can take\"\n",
    "sentiment_scores(s, analyzer)"
   ]
  },
  {
   "cell_type": "code",
   "execution_count": 50,
   "id": "ff8fd69d-e764-4caa-8192-1ff85f93a3fd",
   "metadata": {},
   "outputs": [
    {
     "data": {
      "text/plain": [
       "{'neg': 0.714, 'neu': 0.286, 'pos': 0.0, 'compound': -0.3612}"
      ]
     },
     "execution_count": 50,
     "metadata": {},
     "output_type": "execute_result"
    }
   ],
   "source": [
    "s = \"that sucks\"\n",
    "sentiment_scores(s, analyzer)"
   ]
  },
  {
   "cell_type": "code",
   "execution_count": 51,
   "id": "3d396295-09ba-4816-824c-9008c41bdf44",
   "metadata": {},
   "outputs": [
    {
     "data": {
      "text/plain": [
       "{'neg': 0.764, 'neu': 0.236, 'pos': 0.0, 'compound': -0.4995}"
      ]
     },
     "execution_count": 51,
     "metadata": {},
     "output_type": "execute_result"
    }
   ],
   "source": [
    "s = \"that SUCKS\"\n",
    "sentiment_scores(s, analyzer)"
   ]
  },
  {
   "cell_type": "code",
   "execution_count": 66,
   "id": "6e27888a-6e00-4295-8555-d504ad1231d5",
   "metadata": {},
   "outputs": [
    {
     "data": {
      "text/plain": [
       "{'neg': 0.0, 'neu': 1.0, 'pos': 0.0, 'compound': 0.0}"
      ]
     },
     "execution_count": 68,
     "metadata": {},
     "output_type": "execute_result"
    }
   ],
   "source": [
    "s = \"She loved it\"\n",
    "sentiment_scores(s, analyzer)"
   ]
  },
  {
   "cell_type": "code",
   "execution_count": 67,
   "id": "102b2f4f-2fd6-4751-9439-4a9082c7c954",
   "metadata": {},
   "outputs": [
    {
     "data": {
      "text/plain": [
       "{'neg': 0.0, 'neu': 1.0, 'pos': 0.0, 'compound': 0.0}"
      ]
     },
     "execution_count": 69,
     "metadata": {},
     "output_type": "execute_result"
    }
   ],
   "source": [
    "s = \"He loved it\"\n",
    "sentiment_scores(s, analyzer)"
   ]
  },
  {
   "cell_type": "markdown",
   "id": "7792d223-86c2-4e59-8728-a3f7f93f0e98",
   "metadata": {},
   "source": [
    "## Emotion"
   ]
  },
  {
   "cell_type": "code",
   "execution_count": 1,
   "id": "11639877-bd2a-4cbf-93fb-c2b407fcdd82",
   "metadata": {},
   "outputs": [],
   "source": [
    "from transformers import AutoModelForSequenceClassification, AutoTokenizer\n",
    "\n",
    "model_name = \"cardiffnlp/twitter-roberta-base-emotion\"\n",
    "\n",
    "model = AutoModelForSequenceClassification.from_pretrained(model_name)\n",
    "tokenizer = AutoTokenizer.from_pretrained(model_name)"
   ]
  },
  {
   "cell_type": "code",
   "execution_count": 2,
   "id": "9c9e243b-5e12-4bc3-957f-beaac60be47c",
   "metadata": {},
   "outputs": [],
   "source": [
    "from scipy.special import softmax"
   ]
  },
  {
   "cell_type": "code",
   "execution_count": 3,
   "id": "8a31757e-5017-438e-92e4-cb2d861d21c1",
   "metadata": {},
   "outputs": [
    {
     "name": "stdout",
     "output_type": "stream",
     "text": [
      "joy: 0.9289563298225403\n",
      "optimism: 0.04013082757592201\n",
      "sadness: 0.018498219549655914\n",
      "anger: 0.012414592318236828\n"
     ]
    }
   ],
   "source": [
    "text = \"I AM HAPPY\"\n",
    "encoded_input = tokenizer(text, return_tensors='pt')\n",
    "output = model(**encoded_input)\n",
    "scores = output[0][0].detach().numpy()\n",
    "scores = softmax(scores)\n",
    "print(f\"joy: {scores[1]}\")\n",
    "print(f\"optimism: {scores[2]}\")\n",
    "print(f\"sadness: {scores[3]}\")\n",
    "print(f\"anger: {scores[0]}\")"
   ]
  },
  {
   "cell_type": "code",
   "execution_count": 4,
   "id": "421143bb-83cc-4d91-8559-da2347dd5653",
   "metadata": {},
   "outputs": [],
   "source": [
    "def get_emotion(text, print_res=True):\n",
    "    encoded_input = tokenizer(text, return_tensors='pt')\n",
    "    output = model(**encoded_input)\n",
    "    scores = output[0][0].detach().numpy()\n",
    "    scores = softmax(scores)\n",
    "    if print_res:\n",
    "        print(f\"joy: {scores[1]:.3f}\")\n",
    "        print(f\"optimism: {scores[2]:.3f}\")\n",
    "        print(f\"sadness: {scores[3]:.3f}\")\n",
    "        print(f\"anger: {scores[0]:.3f}\")\n",
    "    return scores"
   ]
  },
  {
   "cell_type": "code",
   "execution_count": 32,
   "id": "cc95e2b7-b7ea-4914-a805-8537d7c48bbb",
   "metadata": {},
   "outputs": [
    {
     "name": "stdout",
     "output_type": "stream",
     "text": [
      "joy: 0.926\n",
      "optimism: 0.043\n",
      "sadness: 0.011\n",
      "anger: 0.020\n",
      "joy: 0.942\n",
      "optimism: 0.030\n",
      "sadness: 0.010\n",
      "anger: 0.019\n"
     ]
    }
   ],
   "source": [
    "get_emotion(\"That was great!\")\n",
    "get_emotion(\"That was great!!!\")"
   ]
  },
  {
   "cell_type": "code",
   "execution_count": 5,
   "id": "97a6bea4-c30d-4889-8fdb-4a7392c70e09",
   "metadata": {},
   "outputs": [],
   "source": [
    "def compare_text(text1, text2):\n",
    "    scores1 = get_emotion(text1, False)\n",
    "    scores2 = get_emotion(text2, False)\n",
    "    print(f\"joy:\\n{scores1[1]:.3f}\\n{scores2[1]:.3f}\")\n",
    "    print(f\"optimism:\\n{scores1[2]:.3f}\\n{scores2[2]:.3f}\")\n",
    "    print(f\"sadness:\\n{scores1[3]:.3f}\\n{scores2[3]:.3f}\")\n",
    "    print(f\"anger:\\n{scores1[0]:.3f}\\n{scores2[0]:.3f}\")"
   ]
  },
  {
   "cell_type": "code",
   "execution_count": 59,
   "id": "53097ac8-e95d-46e0-aa92-2bbd5edd9f3a",
   "metadata": {},
   "outputs": [
    {
     "name": "stdout",
     "output_type": "stream",
     "text": [
      "joy:\n",
      "0.015\n",
      "0.007\n",
      "optimism:\n",
      "0.009\n",
      "0.006\n",
      "sadness:\n",
      "0.627\n",
      "0.015\n",
      "anger:\n",
      "0.348\n",
      "0.972\n"
     ]
    }
   ],
   "source": [
    "compare_text(\"that sucks\", \"that SUCKS\")"
   ]
  },
  {
   "cell_type": "code",
   "execution_count": 61,
   "id": "a9ede884-4256-4545-adca-001d4e94c1af",
   "metadata": {},
   "outputs": [
    {
     "name": "stdout",
     "output_type": "stream",
     "text": [
      "joy:\n",
      "0.294\n",
      "0.895\n",
      "optimism:\n",
      "0.133\n",
      "0.058\n",
      "sadness:\n",
      "0.471\n",
      "0.027\n",
      "anger:\n",
      "0.102\n",
      "0.020\n"
     ]
    }
   ],
   "source": [
    "compare_text(\"I kinda that.\", \"I really liked that.\")"
   ]
  },
  {
   "cell_type": "code",
   "execution_count": 62,
   "id": "068536d0-5d18-4832-8263-46f81cdd2c43",
   "metadata": {},
   "outputs": [
    {
     "name": "stdout",
     "output_type": "stream",
     "text": [
      "joy:\n",
      "0.907\n",
      "0.040\n",
      "optimism:\n",
      "0.054\n",
      "0.029\n",
      "sadness:\n",
      "0.016\n",
      "0.553\n",
      "anger:\n",
      "0.023\n",
      "0.379\n"
     ]
    }
   ],
   "source": [
    "compare_text(\"That was very good\", \"That was not very good\")"
   ]
  },
  {
   "cell_type": "code",
   "execution_count": 63,
   "id": "5a6647fc-471f-40d0-8747-a77c9eb18673",
   "metadata": {},
   "outputs": [
    {
     "name": "stdout",
     "output_type": "stream",
     "text": [
      "joy:\n",
      "0.074\n",
      "0.065\n",
      "optimism:\n",
      "0.847\n",
      "0.856\n",
      "sadness:\n",
      "0.058\n",
      "0.059\n",
      "anger:\n",
      "0.021\n",
      "0.020\n"
     ]
    }
   ],
   "source": [
    "compare_text(\"It was hard. I’m doing well.\", \"It was hard. But I’m doing well.\")"
   ]
  },
  {
   "cell_type": "code",
   "execution_count": 64,
   "id": "f715def7-076a-4497-8100-48a0b96d5455",
   "metadata": {},
   "outputs": [
    {
     "name": "stdout",
     "output_type": "stream",
     "text": [
      "joy:\n",
      "0.007\n",
      "0.007\n",
      "optimism:\n",
      "0.010\n",
      "0.009\n",
      "sadness:\n",
      "0.007\n",
      "0.007\n",
      "anger:\n",
      "0.976\n",
      "0.977\n"
     ]
    }
   ],
   "source": [
    "compare_text(\"He was angry.\", \"She was angry.\")"
   ]
  },
  {
   "cell_type": "code",
   "execution_count": 65,
   "id": "be428edd-9c42-4f45-a674-6e3b5f46a84e",
   "metadata": {},
   "outputs": [
    {
     "name": "stdout",
     "output_type": "stream",
     "text": [
      "joy:\n",
      "0.008\n",
      "0.007\n",
      "optimism:\n",
      "0.005\n",
      "0.005\n",
      "sadness:\n",
      "0.009\n",
      "0.010\n",
      "anger:\n",
      "0.978\n",
      "0.977\n"
     ]
    }
   ],
   "source": [
    "compare_text(\"My son is annoying\", \"My daughter is annoying.\")"
   ]
  },
  {
   "cell_type": "code",
   "execution_count": 38,
   "id": "b431d2fa-706e-4a38-9fe4-d93d41d72c7b",
   "metadata": {},
   "outputs": [],
   "source": [
    "import sqlite3\n",
    "import pandas as pd\n",
    "from pathlib import Path\n",
    "from scraping import create_connection"
   ]
  },
  {
   "cell_type": "code",
   "execution_count": 35,
   "id": "f830f999-9095-404c-8d71-a86e57f926f4",
   "metadata": {},
   "outputs": [],
   "source": [
    "p = Path.cwd()\n",
    "path_parent = p.parents[1]\n",
    "path_db = str(path_parent / \"database\" / \"netmums-merged.db\")"
   ]
  },
  {
   "cell_type": "code",
   "execution_count": 44,
   "id": "342c04f6-857b-40ac-8e3d-dc29bf6029f7",
   "metadata": {},
   "outputs": [],
   "source": [
    "sql = '''\n",
    "    SELECT\n",
    "        text_clean\n",
    "    FROM text\n",
    "    LIMIT 50\n",
    "'''"
   ]
  },
  {
   "cell_type": "code",
   "execution_count": 45,
   "id": "42b62de3-6294-4eef-a56b-b603428391c2",
   "metadata": {},
   "outputs": [],
   "source": [
    "conn = create_connection(path_db)\n",
    "df = pd.read_sql_query(sql, conn)\n",
    "conn.close()"
   ]
  },
  {
   "cell_type": "markdown",
   "id": "88e422ee-b497-4133-85b7-82640755e007",
   "metadata": {},
   "source": [
    "## Bias examples"
   ]
  },
  {
   "cell_type": "code",
   "execution_count": 12,
   "id": "3da2509e-0bdd-4d4d-8dce-a9d65f9097d8",
   "metadata": {},
   "outputs": [],
   "source": [
    "def print_sentiment(sentence):\n",
    "    scores = sentiment_scores(sentence, analyzer)\n",
    "    print(f\"compound: {scores['compound']:.3f}\")\n",
    "    print(f\"positive: {scores['pos']:.3f}\")\n",
    "    print(f\"negative: {scores['neg']:.3f}\")\n",
    "    print(f\"neutral:  {scores['neu']:.3f}\")"
   ]
  },
  {
   "cell_type": "code",
   "execution_count": 13,
   "id": "34ffc816-3681-41b7-82ff-d17d17630a6f",
   "metadata": {},
   "outputs": [
    {
     "name": "stdout",
     "output_type": "stream",
     "text": [
      "compound: 0.440\n",
      "positive: 0.420\n",
      "negative: 0.000\n",
      "neutral:  0.580\n",
      "compound: 0.440\n",
      "positive: 0.420\n",
      "negative: 0.000\n",
      "neutral:  0.580\n"
     ]
    }
   ],
   "source": [
    "s = \"She is a good doctor\"\n",
    "print_sentiment(s)\n",
    "s = \"He is a good doctor\"\n",
    "print_sentiment(s)"
   ]
  },
  {
   "cell_type": "code",
   "execution_count": 26,
   "id": "45544154-7a8d-43e5-8fb7-1956829da8e7",
   "metadata": {},
   "outputs": [
    {
     "name": "stdout",
     "output_type": "stream",
     "text": [
      "joy:\n",
      "0.545\n",
      "0.491\n",
      "optimism:\n",
      "0.355\n",
      "0.408\n",
      "sadness:\n",
      "0.055\n",
      "0.055\n",
      "anger:\n",
      "0.045\n",
      "0.046\n"
     ]
    }
   ],
   "source": [
    "compare_text(\"She is a good doctor\", \"He is a good doctor\")"
   ]
  },
  {
   "cell_type": "code",
   "execution_count": 32,
   "id": "059539ec-7a68-4dc5-9b61-9208a9941a49",
   "metadata": {},
   "outputs": [
    {
     "name": "stdout",
     "output_type": "stream",
     "text": [
      "compound: 0.000\n",
      "positive: 0.000\n",
      "negative: 0.000\n",
      "neutral:  1.000\n",
      "compound: 0.000\n",
      "positive: 0.000\n",
      "negative: 0.000\n",
      "neutral:  1.000\n",
      "compound: 0.000\n",
      "positive: 0.000\n",
      "negative: 0.000\n",
      "neutral:  1.000\n",
      "compound: 0.000\n",
      "positive: 0.000\n",
      "negative: 0.000\n",
      "neutral:  1.000\n"
     ]
    }
   ],
   "source": [
    "s = \"She is feminine\"\n",
    "print_sentiment(s)\n",
    "s = \"He is masculine\"\n",
    "print_sentiment(s)\n",
    "s = \"He is feminine\"\n",
    "print_sentiment(s)\n",
    "s = \"She is masculine\"\n",
    "print_sentiment(s)"
   ]
  },
  {
   "cell_type": "code",
   "execution_count": 6,
   "id": "cdf07475-1578-4df5-9677-42c3f05f30d0",
   "metadata": {},
   "outputs": [
    {
     "name": "stdout",
     "output_type": "stream",
     "text": [
      "joy:\n",
      "0.805\n",
      "0.532\n",
      "optimism:\n",
      "0.089\n",
      "0.179\n",
      "sadness:\n",
      "0.052\n",
      "0.085\n",
      "anger:\n",
      "0.054\n",
      "0.204\n"
     ]
    }
   ],
   "source": [
    "compare_text(\"She is feminine\", \"He is masculine\")"
   ]
  },
  {
   "cell_type": "code",
   "execution_count": 8,
   "id": "538f0228-3075-4e98-8340-741988bd1fff",
   "metadata": {},
   "outputs": [
    {
     "name": "stdout",
     "output_type": "stream",
     "text": [
      "joy:\n",
      "0.593\n",
      "0.524\n",
      "optimism:\n",
      "0.109\n",
      "0.053\n",
      "sadness:\n",
      "0.153\n",
      "0.243\n",
      "anger:\n",
      "0.144\n",
      "0.180\n"
     ]
    }
   ],
   "source": [
    "compare_text(\"feminine\", \"masculine\")"
   ]
  },
  {
   "cell_type": "code",
   "execution_count": 7,
   "id": "c06cfc66-4015-4881-87bc-35bab3d826ad",
   "metadata": {},
   "outputs": [
    {
     "name": "stdout",
     "output_type": "stream",
     "text": [
      "joy:\n",
      "0.799\n",
      "0.567\n",
      "optimism:\n",
      "0.068\n",
      "0.139\n",
      "sadness:\n",
      "0.068\n",
      "0.076\n",
      "anger:\n",
      "0.065\n",
      "0.218\n"
     ]
    }
   ],
   "source": [
    "compare_text(\"He is feminine\", \"She is masculine\")"
   ]
  },
  {
   "cell_type": "code",
   "execution_count": 23,
   "id": "1aeb9058-4d88-492d-aa0e-d8625d2a24c3",
   "metadata": {},
   "outputs": [
    {
     "name": "stdout",
     "output_type": "stream",
     "text": [
      "compound: -0.402\n",
      "positive: 0.000\n",
      "negative: 0.474\n",
      "neutral:  0.526\n",
      "compound: -0.402\n",
      "positive: 0.000\n",
      "negative: 0.474\n",
      "neutral:  0.526\n"
     ]
    }
   ],
   "source": [
    "s = \"My daughter is annoying.\"\n",
    "print_sentiment(s)\n",
    "s = \"My son is annoying.\"\n",
    "print_sentiment(s)"
   ]
  },
  {
   "cell_type": "code",
   "execution_count": 22,
   "id": "fd71a984-8629-4b95-a2ea-1e2a1875f5a8",
   "metadata": {},
   "outputs": [
    {
     "name": "stdout",
     "output_type": "stream",
     "text": [
      "joy:\n",
      "0.008\n",
      "0.007\n",
      "optimism:\n",
      "0.006\n",
      "0.005\n",
      "sadness:\n",
      "0.010\n",
      "0.010\n",
      "anger:\n",
      "0.976\n",
      "0.977\n"
     ]
    }
   ],
   "source": [
    "compare_text(\"My son is annoying.\", \"My daughter is annoying.\")"
   ]
  },
  {
   "cell_type": "code",
   "execution_count": 36,
   "id": "f9996d10-6be5-4dfd-b260-cfa8b8055ebc",
   "metadata": {},
   "outputs": [
    {
     "name": "stdout",
     "output_type": "stream",
     "text": [
      "compound: -0.511\n",
      "positive: 0.000\n",
      "negative: 0.452\n",
      "neutral:  0.548\n",
      "compound: -0.511\n",
      "positive: 0.000\n",
      "negative: 0.452\n",
      "neutral:  0.548\n"
     ]
    }
   ],
   "source": [
    "s = \"The black man was angry\"\n",
    "print_sentiment(s)\n",
    "s = \"The white man was angry\"\n",
    "print_sentiment(s)"
   ]
  },
  {
   "cell_type": "code",
   "execution_count": 35,
   "id": "8dccb663-1578-4224-ab4f-13b5df556467",
   "metadata": {},
   "outputs": [
    {
     "name": "stdout",
     "output_type": "stream",
     "text": [
      "joy:\n",
      "0.005\n",
      "0.006\n",
      "optimism:\n",
      "0.008\n",
      "0.008\n",
      "sadness:\n",
      "0.006\n",
      "0.006\n",
      "anger:\n",
      "0.980\n",
      "0.980\n"
     ]
    }
   ],
   "source": [
    "compare_text(\"The black man was angry\", \"The white man was angry\")"
   ]
  },
  {
   "cell_type": "code",
   "execution_count": 37,
   "id": "0a8c8ad9-3944-4596-ad2d-1e127adf834a",
   "metadata": {},
   "outputs": [
    {
     "name": "stdout",
     "output_type": "stream",
     "text": [
      "compound: 0.000\n",
      "positive: 0.000\n",
      "negative: 0.000\n",
      "neutral:  1.000\n",
      "compound: 0.000\n",
      "positive: 0.000\n",
      "negative: 0.000\n",
      "neutral:  1.000\n"
     ]
    }
   ],
   "source": [
    "s = \"The black man was a doctor\"\n",
    "print_sentiment(s)\n",
    "s = \"The white man was a doctor\"\n",
    "print_sentiment(s)"
   ]
  },
  {
   "cell_type": "code",
   "execution_count": 38,
   "id": "35416517-16b0-4efb-b686-5f796fde5f8e",
   "metadata": {},
   "outputs": [
    {
     "name": "stdout",
     "output_type": "stream",
     "text": [
      "joy:\n",
      "0.528\n",
      "0.515\n",
      "optimism:\n",
      "0.208\n",
      "0.184\n",
      "sadness:\n",
      "0.177\n",
      "0.172\n",
      "anger:\n",
      "0.087\n",
      "0.129\n"
     ]
    }
   ],
   "source": [
    "compare_text(\"The black man was a doctor\", \"The white man was a doctor\")"
   ]
  }
 ],
 "metadata": {
  "kernelspec": {
   "display_name": "Python 3 (ipykernel)",
   "language": "python",
   "name": "python3"
  },
  "language_info": {
   "codemirror_mode": {
    "name": "ipython",
    "version": 3
   },
   "file_extension": ".py",
   "mimetype": "text/x-python",
   "name": "python",
   "nbconvert_exporter": "python",
   "pygments_lexer": "ipython3",
   "version": "3.9.7"
  }
 },
 "nbformat": 4,
 "nbformat_minor": 5
}

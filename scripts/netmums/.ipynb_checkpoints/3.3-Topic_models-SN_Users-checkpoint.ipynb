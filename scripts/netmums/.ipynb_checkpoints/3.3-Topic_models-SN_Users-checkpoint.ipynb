{
 "cells": [
  {
   "cell_type": "markdown",
   "id": "77e0d5e3-4e39-4aa6-8b1f-a8a2bac6d71e",
   "metadata": {},
   "source": [
    "# Topic Models for SN Users\n",
    "Count how many threads special needs users participate it. It is almost the total number of threads. Thus, a model on all threads SN users participate in is not useful for the use case of evaluating what SN parents talk about. Use a model trained on SN threads instead."
   ]
  },
  {
   "cell_type": "code",
   "execution_count": 1,
   "id": "8e5e5d93-5340-4111-af92-628e9a358a49",
   "metadata": {},
   "outputs": [],
   "source": [
    "import pandas as pd\n",
    "from pathlib import Path\n",
    "from scraping import create_connection"
   ]
  },
  {
   "cell_type": "code",
   "execution_count": 2,
   "id": "c7c43201-8eb9-45d6-b9f2-0b28ac78a0e8",
   "metadata": {},
   "outputs": [],
   "source": [
    "p = Path.cwd()\n",
    "path_parent = p.parents[1]"
   ]
  },
  {
   "cell_type": "code",
   "execution_count": 3,
   "id": "3a0d1f74-f764-4258-8047-644f08c439bf",
   "metadata": {},
   "outputs": [],
   "source": [
    "# database\n",
    "path_db = str(path_parent / \"database\" / \"netmums-merged.db\")\n",
    "path_clean_data = path_parent / \"clean_data\" / \"netmums\""
   ]
  },
  {
   "cell_type": "code",
   "execution_count": 16,
   "id": "9eb8888f-190e-45c8-8dfa-fa6ce498793f",
   "metadata": {},
   "outputs": [],
   "source": [
    "sql = \"\"\"\n",
    "WITH snusers AS (\n",
    "    SELECT COUNT(*) as n_posts, p.user_url AS user_url\n",
    "    FROM posts AS p\n",
    "    LEFT JOIN threads AS t\n",
    "    ON t.id=p.thread_id\n",
    "    LEFT JOIN subforums AS s\n",
    "    ON s.id=t.subforum_id\n",
    "    WHERE s.forum_id=24\n",
    "    GROUP BY user_url\n",
    "), snuserthreads AS (\n",
    "    SELECT DISTINCT p.thread_id AS thread_id\n",
    "    FROM posts AS p\n",
    "    INNER JOIN snusers\n",
    "    ON p.user_url=snusers.user_url\n",
    "    WHERE snusers.n_posts > 50\n",
    ")\n",
    "SELECT\n",
    "    p.thread_id AS thread_id,\n",
    "    text.post_id AS post_id,\n",
    "    text.text_clean AS text_clean\n",
    "FROM text\n",
    "LEFT JOIN posts AS p\n",
    "ON text.post_id = p.id\n",
    "INNER JOIN snuserthreads AS sn\n",
    "ON p.thread_id=sn.thread_id\n",
    "\"\"\""
   ]
  },
  {
   "cell_type": "code",
   "execution_count": 17,
   "id": "552a50ac-2b20-4f7f-bcb3-aa98b2da2c99",
   "metadata": {},
   "outputs": [],
   "source": [
    "conn = create_connection(path_db)\n",
    "df = pd.read_sql_query(sql, conn)"
   ]
  },
  {
   "cell_type": "code",
   "execution_count": 18,
   "id": "f3559cdf-98e3-4f95-8f40-909b85dc5018",
   "metadata": {},
   "outputs": [],
   "source": [
    "conn.close()"
   ]
  },
  {
   "cell_type": "code",
   "execution_count": 19,
   "id": "3b532098-70c7-4d3a-bec9-8853db8bcb13",
   "metadata": {},
   "outputs": [
    {
     "name": "stdout",
     "output_type": "stream",
     "text": [
      "<class 'pandas.core.frame.DataFrame'>\n",
      "RangeIndex: 15002935 entries, 0 to 15002934\n",
      "Data columns (total 3 columns):\n",
      " #   Column      Dtype \n",
      "---  ------      ----- \n",
      " 0   thread_id   int64 \n",
      " 1   post_id     int64 \n",
      " 2   text_clean  object\n",
      "dtypes: int64(2), object(1)\n",
      "memory usage: 343.4+ MB\n"
     ]
    }
   ],
   "source": [
    "df.info()"
   ]
  },
  {
   "cell_type": "code",
   "execution_count": 4,
   "id": "1317dab6-f6f8-4699-9404-c18b6f10d05b",
   "metadata": {},
   "outputs": [],
   "source": [
    "sql = \"\"\"\n",
    "SELECT COUNT(*)\n",
    "FROM text\n",
    "\"\"\""
   ]
  },
  {
   "cell_type": "code",
   "execution_count": 7,
   "id": "2fe48680-d928-49e7-b517-4b128fc1c574",
   "metadata": {},
   "outputs": [
    {
     "data": {
      "text/html": [
       "<div>\n",
       "<style scoped>\n",
       "    .dataframe tbody tr th:only-of-type {\n",
       "        vertical-align: middle;\n",
       "    }\n",
       "\n",
       "    .dataframe tbody tr th {\n",
       "        vertical-align: top;\n",
       "    }\n",
       "\n",
       "    .dataframe thead th {\n",
       "        text-align: right;\n",
       "    }\n",
       "</style>\n",
       "<table border=\"1\" class=\"dataframe\">\n",
       "  <thead>\n",
       "    <tr style=\"text-align: right;\">\n",
       "      <th></th>\n",
       "      <th>COUNT(*)</th>\n",
       "    </tr>\n",
       "  </thead>\n",
       "  <tbody>\n",
       "    <tr>\n",
       "      <th>0</th>\n",
       "      <td>15888144</td>\n",
       "    </tr>\n",
       "  </tbody>\n",
       "</table>\n",
       "</div>"
      ],
      "text/plain": [
       "   COUNT(*)\n",
       "0  15888144"
      ]
     },
     "execution_count": 7,
     "metadata": {},
     "output_type": "execute_result"
    }
   ],
   "source": [
    "df"
   ]
  }
 ],
 "metadata": {
  "kernelspec": {
   "display_name": "Python 3 (ipykernel)",
   "language": "python",
   "name": "python3"
  },
  "language_info": {
   "codemirror_mode": {
    "name": "ipython",
    "version": 3
   },
   "file_extension": ".py",
   "mimetype": "text/x-python",
   "name": "python",
   "nbconvert_exporter": "python",
   "pygments_lexer": "ipython3",
   "version": "3.9.7"
  }
 },
 "nbformat": 4,
 "nbformat_minor": 5
}

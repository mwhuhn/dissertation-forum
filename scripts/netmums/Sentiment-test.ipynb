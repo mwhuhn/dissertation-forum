{
 "cells": [
  {
   "cell_type": "code",
   "execution_count": 1,
   "id": "c6728ec4-7f75-44b3-8ed4-de555d5a26fa",
   "metadata": {},
   "outputs": [],
   "source": [
    "from vaderSentiment.vaderSentiment import SentimentIntensityAnalyzer\n",
    "analyzer = SentimentIntensityAnalyzer()\n",
    "def sentiment_scores(sentence, analyzer):\n",
    "    \"\"\" create sentiment scores with the VADER analyzer\n",
    "    :param sentence: sentence to create scores for\n",
    "    :param analyzer: VADER sentiment analyzer\n",
    "    :return score: a dictionary of scores (neg, neu, pos, compound)\n",
    "    \"\"\"\n",
    "    score = analyzer.polarity_scores(sentence)\n",
    "    return score"
   ]
  },
  {
   "cell_type": "code",
   "execution_count": 21,
   "id": "deb3a8aa-45b6-4985-b9b7-8d9f58471de9",
   "metadata": {},
   "outputs": [
    {
     "data": {
      "text/plain": [
       "{'neg': 0.437, 'neu': 0.563, 'pos': 0.0, 'compound': -0.4767}"
      ]
     },
     "execution_count": 21,
     "metadata": {},
     "output_type": "execute_result"
    }
   ],
   "source": [
    "s = \"I had a terrible day\"\n",
    "sentiment_scores(s, analyzer)"
   ]
  },
  {
   "cell_type": "code",
   "execution_count": 25,
   "id": "7cd72a65-3729-44b5-b809-48f72e4c6f1a",
   "metadata": {},
   "outputs": [
    {
     "data": {
      "text/plain": [
       "{'neg': 0.209, 'neu': 0.698, 'pos': 0.093, 'compound': -0.3612}"
      ]
     },
     "execution_count": 25,
     "metadata": {},
     "output_type": "execute_result"
    }
   ],
   "source": [
    "s = \"My son had some problems at school and I feel overwhelmed.\"\n",
    "sentiment_scores(s, analyzer)"
   ]
  },
  {
   "cell_type": "code",
   "execution_count": 27,
   "id": "67529c28-921a-43a8-97d0-0d6845763022",
   "metadata": {},
   "outputs": [
    {
     "data": {
      "text/plain": [
       "{'neg': 0.418, 'neu': 0.582, 'pos': 0.0, 'compound': -0.5562}"
      ]
     },
     "execution_count": 27,
     "metadata": {},
     "output_type": "execute_result"
    }
   ],
   "source": [
    "s = \"I am soooo angry at everyone!\"\n",
    "sentiment_scores(s, analyzer)"
   ]
  },
  {
   "cell_type": "code",
   "execution_count": 36,
   "id": "1cd89373-b3d7-4204-96b6-92cd32ec6661",
   "metadata": {},
   "outputs": [
    {
     "data": {
      "text/plain": [
       "{'neg': 0.0, 'neu': 0.615, 'pos': 0.385, 'compound': 0.3612}"
      ]
     },
     "execution_count": 36,
     "metadata": {},
     "output_type": "execute_result"
    }
   ],
   "source": [
    "s = \"Thank you for your responses\"\n",
    "sentiment_scores(s, analyzer)"
   ]
  },
  {
   "cell_type": "code",
   "execution_count": 35,
   "id": "6177a8e8-c5b1-4bab-a62f-b32ceab36ce0",
   "metadata": {},
   "outputs": [
    {
     "data": {
      "text/plain": [
       "{'neg': 0.0, 'neu': 0.589, 'pos': 0.411, 'compound': 0.4199}"
      ]
     },
     "execution_count": 35,
     "metadata": {},
     "output_type": "execute_result"
    }
   ],
   "source": [
    "s = \"Thank you for your responses!\"\n",
    "sentiment_scores(s, analyzer)"
   ]
  },
  {
   "cell_type": "code",
   "execution_count": 34,
   "id": "4be3de6a-8c08-4941-b603-9fe4b6929255",
   "metadata": {},
   "outputs": [
    {
     "data": {
      "text/plain": [
       "{'neg': 0.0, 'neu': 0.426, 'pos': 0.574, 'compound': 0.6597}"
      ]
     },
     "execution_count": 34,
     "metadata": {},
     "output_type": "execute_result"
    }
   ],
   "source": [
    "s = \"Thank you for your responses <3\"\n",
    "sentiment_scores(s, analyzer)"
   ]
  },
  {
   "cell_type": "code",
   "execution_count": 43,
   "id": "92388fb7-bc8a-4bab-a9be-74ad51bbeea5",
   "metadata": {},
   "outputs": [
    {
     "data": {
      "text/plain": [
       "{'neg': 0.318, 'neu': 0.682, 'pos': 0.0, 'compound': -0.2183}"
      ]
     },
     "execution_count": 43,
     "metadata": {},
     "output_type": "execute_result"
    }
   ],
   "source": [
    "s = \"Why is this so hard\"\n",
    "sentiment_scores(s, analyzer)"
   ]
  },
  {
   "cell_type": "code",
   "execution_count": 42,
   "id": "d21bbc29-b945-48a5-95cc-bdd3dc5ab711",
   "metadata": {},
   "outputs": [
    {
     "data": {
      "text/plain": [
       "{'neg': 0.111, 'neu': 0.889, 'pos': 0.0, 'compound': -0.2183}"
      ]
     },
     "execution_count": 42,
     "metadata": {},
     "output_type": "execute_result"
    }
   ],
   "source": [
    "s = \"Why is this so hard? I don't know how much more of this I can take\"\n",
    "sentiment_scores(s, analyzer)"
   ]
  },
  {
   "cell_type": "code",
   "execution_count": null,
   "id": "11639877-bd2a-4cbf-93fb-c2b407fcdd82",
   "metadata": {},
   "outputs": [],
   "source": []
  }
 ],
 "metadata": {
  "kernelspec": {
   "display_name": "Python 3 (ipykernel)",
   "language": "python",
   "name": "python3"
  },
  "language_info": {
   "codemirror_mode": {
    "name": "ipython",
    "version": 3
   },
   "file_extension": ".py",
   "mimetype": "text/x-python",
   "name": "python",
   "nbconvert_exporter": "python",
   "pygments_lexer": "ipython3",
   "version": "3.9.7"
  }
 },
 "nbformat": 4,
 "nbformat_minor": 5
}

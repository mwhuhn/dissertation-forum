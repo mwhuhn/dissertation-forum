{
 "cells": [
  {
   "cell_type": "markdown",
   "id": "053c4e7a-29bb-408b-b82a-148d80587c5c",
   "metadata": {},
   "source": [
    "# Calculate Statistics"
   ]
  },
  {
   "cell_type": "markdown",
   "id": "90dd0007-2074-4f9b-9c00-0ffc25168495",
   "metadata": {},
   "source": [
    "## Imports"
   ]
  },
  {
   "cell_type": "code",
   "execution_count": 3,
   "id": "05f36551-2f0c-42e7-969d-9b7984bb8ab2",
   "metadata": {},
   "outputs": [],
   "source": [
    "# Managing data\n",
    "import pandas as pd\n",
    "# DB connection\n",
    "from scraping import create_connection\n",
    "# Files & I/O\n",
    "import pickle\n",
    "import csv\n",
    "import os\n",
    "from pathlib import Path\n",
    "# Plotting\n",
    "import matplotlib.pyplot as plt"
   ]
  },
  {
   "cell_type": "markdown",
   "id": "0e00ac10-ae00-4b2f-ade4-cf1c83bd343b",
   "metadata": {},
   "source": [
    "## Load Data"
   ]
  },
  {
   "cell_type": "code",
   "execution_count": 4,
   "id": "05c05b22-408b-4dfe-ba74-5afe84b8c58c",
   "metadata": {},
   "outputs": [],
   "source": [
    "p = Path.cwd()\n",
    "path_parent = p.parents[1]"
   ]
  },
  {
   "cell_type": "code",
   "execution_count": 5,
   "id": "2844326d-002d-44f5-82f3-1488a4cbb3a4",
   "metadata": {},
   "outputs": [],
   "source": [
    "# database\n",
    "path_db = str(path_parent / \"database\" / \"netmums-merged.db\")\n",
    "path_clean_data = path_parent / \"clean_data\" / \"netmums\"\n"
   ]
  },
  {
   "cell_type": "code",
   "execution_count": 8,
   "id": "f2f1f684-37c8-46e0-9069-24b7a54f7519",
   "metadata": {},
   "outputs": [],
   "source": [
    "sql = \"\"\"\n",
    "    SELECT\n",
    "        DISTINCT p.user_url\n",
    "    FROM posts AS p\n",
    "    LEFT JOIN threads AS t\n",
    "    ON t.id=p.thread_id\n",
    "    LEFT JOIN subforums AS s\n",
    "    ON s.id=t.subforum_id\n",
    "    WHERE s.forum_id=24\n",
    "    AND p.user_url<>\"Anonymous\"\n",
    "\"\"\"\n",
    "# sql = \"\"\"\n",
    "# SELECT *\n",
    "# FROM posts\n",
    "# LIMIT 2\n",
    "# \"\"\"\n",
    "# forum_id = 24"
   ]
  },
  {
   "cell_type": "code",
   "execution_count": 9,
   "id": "f036648d-a787-429c-b760-7668546c0494",
   "metadata": {},
   "outputs": [],
   "source": [
    "conn = create_connection(path_db)\n",
    "df = pd.read_sql_query(sql, conn)\n",
    "conn.close()"
   ]
  },
  {
   "cell_type": "code",
   "execution_count": 10,
   "id": "2a81a38a-cffd-4dd7-8424-f09f61a1b26c",
   "metadata": {},
   "outputs": [
    {
     "data": {
      "text/html": [
       "<div>\n",
       "<style scoped>\n",
       "    .dataframe tbody tr th:only-of-type {\n",
       "        vertical-align: middle;\n",
       "    }\n",
       "\n",
       "    .dataframe tbody tr th {\n",
       "        vertical-align: top;\n",
       "    }\n",
       "\n",
       "    .dataframe thead th {\n",
       "        text-align: right;\n",
       "    }\n",
       "</style>\n",
       "<table border=\"1\" class=\"dataframe\">\n",
       "  <thead>\n",
       "    <tr style=\"text-align: right;\">\n",
       "      <th></th>\n",
       "      <th>id</th>\n",
       "      <th>thread_id</th>\n",
       "      <th>post_count</th>\n",
       "      <th>post_id</th>\n",
       "      <th>user_url</th>\n",
       "      <th>date_created</th>\n",
       "      <th>date_recorded</th>\n",
       "      <th>body</th>\n",
       "      <th>version</th>\n",
       "    </tr>\n",
       "  </thead>\n",
       "  <tbody>\n",
       "    <tr>\n",
       "      <th>0</th>\n",
       "      <td>1</td>\n",
       "      <td>1</td>\n",
       "      <td>1</td>\n",
       "      <td>19709335</td>\n",
       "      <td>sarah-l-2389</td>\n",
       "      <td>2021-01-28 03:39PM</td>\n",
       "      <td>2021-02-26 20:58:01</td>\n",
       "      <td>Once again we've teamed up with Product of the...</td>\n",
       "      <td>1</td>\n",
       "    </tr>\n",
       "    <tr>\n",
       "      <th>1</th>\n",
       "      <td>2</td>\n",
       "      <td>1</td>\n",
       "      <td>2</td>\n",
       "      <td>19709336</td>\n",
       "      <td>wendy-f-156</td>\n",
       "      <td>2021-01-28 07:07PM</td>\n",
       "      <td>2021-02-26 20:58:01</td>\n",
       "      <td>Nando's Garlic PERinaisse PERi-PERi Mayonnaise...</td>\n",
       "      <td>1</td>\n",
       "    </tr>\n",
       "  </tbody>\n",
       "</table>\n",
       "</div>"
      ],
      "text/plain": [
       "   id  thread_id  post_count   post_id      user_url        date_created  \\\n",
       "0   1          1           1  19709335  sarah-l-2389  2021-01-28 03:39PM   \n",
       "1   2          1           2  19709336   wendy-f-156  2021-01-28 07:07PM   \n",
       "\n",
       "         date_recorded                                               body  \\\n",
       "0  2021-02-26 20:58:01  Once again we've teamed up with Product of the...   \n",
       "1  2021-02-26 20:58:01  Nando's Garlic PERinaisse PERi-PERi Mayonnaise...   \n",
       "\n",
       "   version  \n",
       "0        1  \n",
       "1        1  "
      ]
     },
     "execution_count": 10,
     "metadata": {},
     "output_type": "execute_result"
    }
   ],
   "source": [
    "df"
   ]
  },
  {
   "cell_type": "code",
   "execution_count": null,
   "id": "849ab64f-4e5b-4691-9c4c-0a7808f80eb0",
   "metadata": {},
   "outputs": [],
   "source": []
  }
 ],
 "metadata": {
  "kernelspec": {
   "display_name": "Python 3 (ipykernel)",
   "language": "python",
   "name": "python3"
  },
  "language_info": {
   "codemirror_mode": {
    "name": "ipython",
    "version": 3
   },
   "file_extension": ".py",
   "mimetype": "text/x-python",
   "name": "python",
   "nbconvert_exporter": "python",
   "pygments_lexer": "ipython3",
   "version": "3.9.7"
  }
 },
 "nbformat": 4,
 "nbformat_minor": 5
}

{
 "cells": [
  {
   "cell_type": "markdown",
   "id": "053c4e7a-29bb-408b-b82a-148d80587c5c",
   "metadata": {},
   "source": [
    "# Calculate Statistics"
   ]
  },
  {
   "cell_type": "markdown",
   "id": "90dd0007-2074-4f9b-9c00-0ffc25168495",
   "metadata": {},
   "source": [
    "## Imports"
   ]
  },
  {
   "cell_type": "code",
   "execution_count": 1,
   "id": "05f36551-2f0c-42e7-969d-9b7984bb8ab2",
   "metadata": {},
   "outputs": [],
   "source": [
    "# Managing data\n",
    "import pandas as pd\n",
    "# DB connection\n",
    "from scraping import create_connection\n",
    "# Files & I/O\n",
    "import pickle\n",
    "import csv\n",
    "import os\n",
    "from pathlib import Path\n",
    "# Plotting\n",
    "import matplotlib.pyplot as plt"
   ]
  },
  {
   "cell_type": "markdown",
   "id": "0e00ac10-ae00-4b2f-ade4-cf1c83bd343b",
   "metadata": {},
   "source": [
    "## Load Data"
   ]
  },
  {
   "cell_type": "code",
   "execution_count": 2,
   "id": "05c05b22-408b-4dfe-ba74-5afe84b8c58c",
   "metadata": {},
   "outputs": [],
   "source": [
    "p = Path.cwd()\n",
    "path_parent = p.parents[1]"
   ]
  },
  {
   "cell_type": "code",
   "execution_count": 3,
   "id": "2844326d-002d-44f5-82f3-1488a4cbb3a4",
   "metadata": {},
   "outputs": [],
   "source": [
    "# database\n",
    "path_db = str(path_parent / \"database\" / \"netmums-merged.db\")\n",
    "path_clean_data = path_parent / \"clean_data\" / \"netmums\"\n"
   ]
  },
  {
   "cell_type": "code",
   "execution_count": 8,
   "id": "f2f1f684-37c8-46e0-9069-24b7a54f7519",
   "metadata": {},
   "outputs": [],
   "source": [
    "sql = \"\"\"\n",
    "    SELECT\n",
    "        DISTINCT p.user_url\n",
    "    FROM posts AS p\n",
    "    LEFT JOIN threads AS t\n",
    "    ON t.id=p.thread_id\n",
    "    LEFT JOIN subforums AS s\n",
    "    ON s.id=t.subforum_id\n",
    "    WHERE s.forum_id=24\n",
    "    AND p.user_url<>\"Anonymous\"\n",
    "\"\"\"\n",
    "# sql = \"\"\"\n",
    "# SELECT *\n",
    "# FROM posts\n",
    "# LIMIT 2\n",
    "# \"\"\"\n",
    "# forum_id = 24"
   ]
  },
  {
   "cell_type": "code",
   "execution_count": 9,
   "id": "f036648d-a787-429c-b760-7668546c0494",
   "metadata": {},
   "outputs": [],
   "source": [
    "conn = create_connection(path_db)\n",
    "df = pd.read_sql_query(sql, conn)\n",
    "conn.close()"
   ]
  },
  {
   "cell_type": "code",
   "execution_count": 10,
   "id": "2a81a38a-cffd-4dd7-8424-f09f61a1b26c",
   "metadata": {},
   "outputs": [
    {
     "data": {
      "text/html": [
       "<div>\n",
       "<style scoped>\n",
       "    .dataframe tbody tr th:only-of-type {\n",
       "        vertical-align: middle;\n",
       "    }\n",
       "\n",
       "    .dataframe tbody tr th {\n",
       "        vertical-align: top;\n",
       "    }\n",
       "\n",
       "    .dataframe thead th {\n",
       "        text-align: right;\n",
       "    }\n",
       "</style>\n",
       "<table border=\"1\" class=\"dataframe\">\n",
       "  <thead>\n",
       "    <tr style=\"text-align: right;\">\n",
       "      <th></th>\n",
       "      <th>id</th>\n",
       "      <th>thread_id</th>\n",
       "      <th>post_count</th>\n",
       "      <th>post_id</th>\n",
       "      <th>user_url</th>\n",
       "      <th>date_created</th>\n",
       "      <th>date_recorded</th>\n",
       "      <th>body</th>\n",
       "      <th>version</th>\n",
       "    </tr>\n",
       "  </thead>\n",
       "  <tbody>\n",
       "    <tr>\n",
       "      <th>0</th>\n",
       "      <td>1</td>\n",
       "      <td>1</td>\n",
       "      <td>1</td>\n",
       "      <td>19709335</td>\n",
       "      <td>sarah-l-2389</td>\n",
       "      <td>2021-01-28 03:39PM</td>\n",
       "      <td>2021-02-26 20:58:01</td>\n",
       "      <td>Once again we've teamed up with Product of the...</td>\n",
       "      <td>1</td>\n",
       "    </tr>\n",
       "    <tr>\n",
       "      <th>1</th>\n",
       "      <td>2</td>\n",
       "      <td>1</td>\n",
       "      <td>2</td>\n",
       "      <td>19709336</td>\n",
       "      <td>wendy-f-156</td>\n",
       "      <td>2021-01-28 07:07PM</td>\n",
       "      <td>2021-02-26 20:58:01</td>\n",
       "      <td>Nando's Garlic PERinaisse PERi-PERi Mayonnaise...</td>\n",
       "      <td>1</td>\n",
       "    </tr>\n",
       "  </tbody>\n",
       "</table>\n",
       "</div>"
      ],
      "text/plain": [
       "   id  thread_id  post_count   post_id      user_url        date_created  \\\n",
       "0   1          1           1  19709335  sarah-l-2389  2021-01-28 03:39PM   \n",
       "1   2          1           2  19709336   wendy-f-156  2021-01-28 07:07PM   \n",
       "\n",
       "         date_recorded                                               body  \\\n",
       "0  2021-02-26 20:58:01  Once again we've teamed up with Product of the...   \n",
       "1  2021-02-26 20:58:01  Nando's Garlic PERinaisse PERi-PERi Mayonnaise...   \n",
       "\n",
       "   version  \n",
       "0        1  \n",
       "1        1  "
      ]
     },
     "execution_count": 10,
     "metadata": {},
     "output_type": "execute_result"
    }
   ],
   "source": [
    "df"
   ]
  },
  {
   "cell_type": "markdown",
   "id": "88faedfa-1382-4ab2-86f2-9ec4be26bfe3",
   "metadata": {},
   "source": [
    "## text length"
   ]
  },
  {
   "cell_type": "code",
   "execution_count": 13,
   "id": "849ab64f-4e5b-4691-9c4c-0a7808f80eb0",
   "metadata": {},
   "outputs": [
    {
     "data": {
      "text/html": [
       "<div>\n",
       "<style scoped>\n",
       "    .dataframe tbody tr th:only-of-type {\n",
       "        vertical-align: middle;\n",
       "    }\n",
       "\n",
       "    .dataframe tbody tr th {\n",
       "        vertical-align: top;\n",
       "    }\n",
       "\n",
       "    .dataframe thead th {\n",
       "        text-align: right;\n",
       "    }\n",
       "</style>\n",
       "<table border=\"1\" class=\"dataframe\">\n",
       "  <thead>\n",
       "    <tr style=\"text-align: right;\">\n",
       "      <th></th>\n",
       "      <th>AVG(LENGTH(text_clean))</th>\n",
       "    </tr>\n",
       "  </thead>\n",
       "  <tbody>\n",
       "    <tr>\n",
       "      <th>0</th>\n",
       "      <td>386.199554</td>\n",
       "    </tr>\n",
       "  </tbody>\n",
       "</table>\n",
       "</div>"
      ],
      "text/plain": [
       "   AVG(LENGTH(text_clean))\n",
       "0               386.199554"
      ]
     },
     "execution_count": 13,
     "metadata": {},
     "output_type": "execute_result"
    }
   ],
   "source": [
    "sql = \"\"\"\n",
    "    SELECT\n",
    "        AVG(LENGTH(text_clean))\n",
    "\tFROM text\n",
    "\"\"\"\n",
    "with create_connection(path_db) as conn:\n",
    "    df = pd.read_sql_query(sql, conn)\n",
    "df"
   ]
  },
  {
   "cell_type": "code",
   "execution_count": 6,
   "id": "8b61afb5-de4d-4655-bda4-92f322c1df4a",
   "metadata": {},
   "outputs": [
    {
     "data": {
      "text/html": [
       "<div>\n",
       "<style scoped>\n",
       "    .dataframe tbody tr th:only-of-type {\n",
       "        vertical-align: middle;\n",
       "    }\n",
       "\n",
       "    .dataframe tbody tr th {\n",
       "        vertical-align: top;\n",
       "    }\n",
       "\n",
       "    .dataframe thead th {\n",
       "        text-align: right;\n",
       "    }\n",
       "</style>\n",
       "<table border=\"1\" class=\"dataframe\">\n",
       "  <thead>\n",
       "    <tr style=\"text-align: right;\">\n",
       "      <th></th>\n",
       "      <th>LENGTH(text_clean)</th>\n",
       "    </tr>\n",
       "  </thead>\n",
       "  <tbody>\n",
       "    <tr>\n",
       "      <th>0</th>\n",
       "      <td>240</td>\n",
       "    </tr>\n",
       "  </tbody>\n",
       "</table>\n",
       "</div>"
      ],
      "text/plain": [
       "   LENGTH(text_clean)\n",
       "0                 240"
      ]
     },
     "execution_count": 6,
     "metadata": {},
     "output_type": "execute_result"
    }
   ],
   "source": [
    "sql = \"\"\"\n",
    "SELECT LENGTH(text_clean)\n",
    "FROM text\n",
    "ORDER BY LENGTH(text_clean)\n",
    "LIMIT 1\n",
    "OFFSET (SELECT COUNT(*)\n",
    "        FROM text) / 2\n",
    "\"\"\"\n",
    "with create_connection(path_db) as conn:\n",
    "    df = pd.read_sql_query(sql, conn)\n",
    "df"
   ]
  },
  {
   "cell_type": "code",
   "execution_count": 9,
   "id": "08d0b54f-7ad8-48e3-a413-5c78054ab7fe",
   "metadata": {},
   "outputs": [
    {
     "data": {
      "text/html": [
       "<div>\n",
       "<style scoped>\n",
       "    .dataframe tbody tr th:only-of-type {\n",
       "        vertical-align: middle;\n",
       "    }\n",
       "\n",
       "    .dataframe tbody tr th {\n",
       "        vertical-align: top;\n",
       "    }\n",
       "\n",
       "    .dataframe thead th {\n",
       "        text-align: right;\n",
       "    }\n",
       "</style>\n",
       "<table border=\"1\" class=\"dataframe\">\n",
       "  <thead>\n",
       "    <tr style=\"text-align: right;\">\n",
       "      <th></th>\n",
       "      <th>count(*)</th>\n",
       "    </tr>\n",
       "  </thead>\n",
       "  <tbody>\n",
       "    <tr>\n",
       "      <th>0</th>\n",
       "      <td>210308</td>\n",
       "    </tr>\n",
       "  </tbody>\n",
       "</table>\n",
       "</div>"
      ],
      "text/plain": [
       "   count(*)\n",
       "0    210308"
      ]
     },
     "execution_count": 9,
     "metadata": {},
     "output_type": "execute_result"
    }
   ],
   "source": [
    "sql = \"\"\"\n",
    "    SELECT\n",
    "        count(*)\n",
    "\tFROM text\n",
    "    LEFT JOIN posts AS p\n",
    "    ON text.post_id = p.id\n",
    "    LEFT JOIN threads AS t\n",
    "    ON t.id=p.thread_id\n",
    "    LEFT JOIN subforums AS s\n",
    "    ON s.id=t.subforum_id\n",
    "    WHERE s.forum_id=24\n",
    "\"\"\"\n",
    "with create_connection(path_db) as conn:\n",
    "    df = pd.read_sql_query(sql, conn)\n",
    "df"
   ]
  },
  {
   "cell_type": "code",
   "execution_count": 8,
   "id": "b604a574-cd14-4dca-90b0-821e4b411156",
   "metadata": {},
   "outputs": [
    {
     "data": {
      "text/html": [
       "<div>\n",
       "<style scoped>\n",
       "    .dataframe tbody tr th:only-of-type {\n",
       "        vertical-align: middle;\n",
       "    }\n",
       "\n",
       "    .dataframe tbody tr th {\n",
       "        vertical-align: top;\n",
       "    }\n",
       "\n",
       "    .dataframe thead th {\n",
       "        text-align: right;\n",
       "    }\n",
       "</style>\n",
       "<table border=\"1\" class=\"dataframe\">\n",
       "  <thead>\n",
       "    <tr style=\"text-align: right;\">\n",
       "      <th></th>\n",
       "      <th>count(*)</th>\n",
       "    </tr>\n",
       "  </thead>\n",
       "  <tbody>\n",
       "    <tr>\n",
       "      <th>0</th>\n",
       "      <td>4229</td>\n",
       "    </tr>\n",
       "  </tbody>\n",
       "</table>\n",
       "</div>"
      ],
      "text/plain": [
       "   count(*)\n",
       "0      4229"
      ]
     },
     "execution_count": 8,
     "metadata": {},
     "output_type": "execute_result"
    }
   ],
   "source": [
    "sql = \"\"\"\n",
    "    SELECT\n",
    "        count(*)\n",
    "\tFROM text\n",
    "    LEFT JOIN posts AS p\n",
    "    ON text.post_id = p.id\n",
    "    LEFT JOIN threads AS t\n",
    "    ON t.id=p.thread_id\n",
    "    LEFT JOIN subforums AS s\n",
    "    ON s.id=t.subforum_id\n",
    "    WHERE s.forum_id=24\n",
    "    AND LENGTH(text_clean) < 30\n",
    "\"\"\"\n",
    "with create_connection(path_db) as conn:\n",
    "    df = pd.read_sql_query(sql, conn)\n",
    "df"
   ]
  },
  {
   "cell_type": "code",
   "execution_count": 12,
   "id": "4e5ebf42-464f-4abd-aea9-8b4991cce05c",
   "metadata": {},
   "outputs": [
    {
     "data": {
      "text/plain": [
       "0.014020533333333333"
      ]
     },
     "execution_count": 12,
     "metadata": {},
     "output_type": "execute_result"
    }
   ],
   "source": [
    "210308 / 15000000"
   ]
  },
  {
   "cell_type": "code",
   "execution_count": null,
   "id": "aa299483-8f20-404c-9eae-59b657d675ef",
   "metadata": {},
   "outputs": [],
   "source": [
    "sql = \"\"\"\n",
    "with concat_threads as (\n",
    "SELECT\n",
    "    p.thread_id AS thread_id,\n",
    "    group_concat(text.text_clean, ' ') AS text_clean\n",
    "FROM text\n",
    "LEFT JOIN posts AS p\n",
    "ON text.post_id = p.id\n",
    "LEFT JOIN threads AS t\n",
    "group by p.thread_id\n",
    ")\n",
    "select AVG(LENGTH(text_clean))\n",
    "from concat_threads\n",
    "\"\"\"\n",
    "with create_connection(path_db) as conn:\n",
    "    df = pd.read_sql_query(sql, conn)\n",
    "df"
   ]
  },
  {
   "cell_type": "code",
   "execution_count": 4,
   "id": "da264b13-f4ae-4621-a1da-55dbae730b15",
   "metadata": {},
   "outputs": [
    {
     "data": {
      "text/html": [
       "<div>\n",
       "<style scoped>\n",
       "    .dataframe tbody tr th:only-of-type {\n",
       "        vertical-align: middle;\n",
       "    }\n",
       "\n",
       "    .dataframe tbody tr th {\n",
       "        vertical-align: top;\n",
       "    }\n",
       "\n",
       "    .dataframe thead th {\n",
       "        text-align: right;\n",
       "    }\n",
       "</style>\n",
       "<table border=\"1\" class=\"dataframe\">\n",
       "  <thead>\n",
       "    <tr style=\"text-align: right;\">\n",
       "      <th></th>\n",
       "      <th>text_clean</th>\n",
       "    </tr>\n",
       "  </thead>\n",
       "  <tbody>\n",
       "    <tr>\n",
       "      <th>0</th>\n",
       "      <td>F</td>\n",
       "    </tr>\n",
       "    <tr>\n",
       "      <th>1</th>\n",
       "      <td>x</td>\n",
       "    </tr>\n",
       "    <tr>\n",
       "      <th>2</th>\n",
       "      <td>M</td>\n",
       "    </tr>\n",
       "    <tr>\n",
       "      <th>3</th>\n",
       "      <td>x</td>\n",
       "    </tr>\n",
       "    <tr>\n",
       "      <th>4</th>\n",
       "      <td>?</td>\n",
       "    </tr>\n",
       "    <tr>\n",
       "      <th>5</th>\n",
       "      <td>.</td>\n",
       "    </tr>\n",
       "    <tr>\n",
       "      <th>6</th>\n",
       "      <td>?</td>\n",
       "    </tr>\n",
       "    <tr>\n",
       "      <th>7</th>\n",
       "      <td>y</td>\n",
       "    </tr>\n",
       "    <tr>\n",
       "      <th>8</th>\n",
       "      <td>?</td>\n",
       "    </tr>\n",
       "    <tr>\n",
       "      <th>9</th>\n",
       "      <td>X</td>\n",
       "    </tr>\n",
       "    <tr>\n",
       "      <th>10</th>\n",
       "      <td>X</td>\n",
       "    </tr>\n",
       "    <tr>\n",
       "      <th>11</th>\n",
       "      <td>.</td>\n",
       "    </tr>\n",
       "    <tr>\n",
       "      <th>12</th>\n",
       "      <td>X</td>\n",
       "    </tr>\n",
       "    <tr>\n",
       "      <th>13</th>\n",
       "      <td>🤩</td>\n",
       "    </tr>\n",
       "    <tr>\n",
       "      <th>14</th>\n",
       "      <td>X</td>\n",
       "    </tr>\n",
       "    <tr>\n",
       "      <th>15</th>\n",
       "      <td>🤞</td>\n",
       "    </tr>\n",
       "    <tr>\n",
       "      <th>16</th>\n",
       "      <td>3</td>\n",
       "    </tr>\n",
       "    <tr>\n",
       "      <th>17</th>\n",
       "      <td>⁷</td>\n",
       "    </tr>\n",
       "    <tr>\n",
       "      <th>18</th>\n",
       "      <td>i</td>\n",
       "    </tr>\n",
       "    <tr>\n",
       "      <th>19</th>\n",
       "      <td>.</td>\n",
       "    </tr>\n",
       "  </tbody>\n",
       "</table>\n",
       "</div>"
      ],
      "text/plain": [
       "   text_clean\n",
       "0           F\n",
       "1           x\n",
       "2           M\n",
       "3           x\n",
       "4           ?\n",
       "5           .\n",
       "6           ?\n",
       "7           y\n",
       "8           ?\n",
       "9           X\n",
       "10          X\n",
       "11          .\n",
       "12          X\n",
       "13          🤩\n",
       "14          X\n",
       "15          🤞\n",
       "16          3\n",
       "17          ⁷\n",
       "18          i\n",
       "19          ."
      ]
     },
     "execution_count": 4,
     "metadata": {},
     "output_type": "execute_result"
    }
   ],
   "source": [
    "sql = \"\"\"\n",
    "SELECT text_clean\n",
    "FROM text\n",
    "ORDER BY LENGTH(text_clean)\n",
    "LIMIT 20\n",
    "\"\"\"\n",
    "with create_connection(path_db) as conn:\n",
    "    df = pd.read_sql_query(sql, conn)\n",
    "df"
   ]
  }
 ],
 "metadata": {
  "kernelspec": {
   "display_name": "Python 3 (ipykernel)",
   "language": "python",
   "name": "python3"
  },
  "language_info": {
   "codemirror_mode": {
    "name": "ipython",
    "version": 3
   },
   "file_extension": ".py",
   "mimetype": "text/x-python",
   "name": "python",
   "nbconvert_exporter": "python",
   "pygments_lexer": "ipython3",
   "version": "3.9.7"
  }
 },
 "nbformat": 4,
 "nbformat_minor": 5
}
